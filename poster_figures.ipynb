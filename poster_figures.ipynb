{
 "cells": [
  {
   "cell_type": "code",
   "execution_count": 2,
   "id": "3eab88ca",
   "metadata": {},
   "outputs": [],
   "source": [
    "import pandas as pd\n",
    "import numpy as np\n",
    "import matplotlib.pyplot as plt\n",
    "from datetime import datetime, timedelta\n",
    "import plotly.express as px\n",
    "import scipy\n",
    "from scipy import integrate\n",
    "from diel_tools import find_night, days_by_sunrise\n",
    "import matplotlib.dates as mdates\n",
    "from dateutil.parser import parse"
   ]
  },
  {
   "cell_type": "code",
   "execution_count": 3,
   "id": "c871c6d5",
   "metadata": {
    "collapsed": true
   },
   "outputs": [
    {
     "ename": "FileNotFoundError",
     "evalue": "[Errno 2] No such file or directory: 'PSD_mean_2022-10-20.csv'",
     "output_type": "error",
     "traceback": [
      "\u001b[1;31m---------------------------------------------------------------------------\u001b[0m",
      "\u001b[1;31mFileNotFoundError\u001b[0m                         Traceback (most recent call last)",
      "Cell \u001b[1;32mIn[3], line 1\u001b[0m\n\u001b[1;32m----> 1\u001b[0m df \u001b[38;5;241m=\u001b[39m \u001b[43mpd\u001b[49m\u001b[38;5;241;43m.\u001b[39;49m\u001b[43mread_csv\u001b[49m\u001b[43m(\u001b[49m\u001b[38;5;124;43m\"\u001b[39;49m\u001b[38;5;124;43mPSD_mean_2022-10-20.csv\u001b[39;49m\u001b[38;5;124;43m\"\u001b[39;49m\u001b[43m)\u001b[49m\n\u001b[0;32m      2\u001b[0m df[\u001b[38;5;124m'\u001b[39m\u001b[38;5;124mdate\u001b[39m\u001b[38;5;124m'\u001b[39m] \u001b[38;5;241m=\u001b[39m pd\u001b[38;5;241m.\u001b[39mDatetimeIndex(df[\u001b[38;5;124m'\u001b[39m\u001b[38;5;124mdate\u001b[39m\u001b[38;5;124m'\u001b[39m]\u001b[38;5;241m.\u001b[39mapply(\u001b[38;5;28;01mlambda\u001b[39;00m x: parse(x)))\u001b[38;5;241m.\u001b[39mtz_convert(\u001b[38;5;124m'\u001b[39m\u001b[38;5;124mUTC\u001b[39m\u001b[38;5;124m'\u001b[39m)\n\u001b[0;32m      3\u001b[0m df\n",
      "File \u001b[1;32m~\\anaconda3\\envs\\par\\lib\\site-packages\\pandas\\util\\_decorators.py:211\u001b[0m, in \u001b[0;36mdeprecate_kwarg.<locals>._deprecate_kwarg.<locals>.wrapper\u001b[1;34m(*args, **kwargs)\u001b[0m\n\u001b[0;32m    209\u001b[0m     \u001b[38;5;28;01melse\u001b[39;00m:\n\u001b[0;32m    210\u001b[0m         kwargs[new_arg_name] \u001b[38;5;241m=\u001b[39m new_arg_value\n\u001b[1;32m--> 211\u001b[0m \u001b[38;5;28;01mreturn\u001b[39;00m func(\u001b[38;5;241m*\u001b[39margs, \u001b[38;5;241m*\u001b[39m\u001b[38;5;241m*\u001b[39mkwargs)\n",
      "File \u001b[1;32m~\\anaconda3\\envs\\par\\lib\\site-packages\\pandas\\util\\_decorators.py:331\u001b[0m, in \u001b[0;36mdeprecate_nonkeyword_arguments.<locals>.decorate.<locals>.wrapper\u001b[1;34m(*args, **kwargs)\u001b[0m\n\u001b[0;32m    325\u001b[0m \u001b[38;5;28;01mif\u001b[39;00m \u001b[38;5;28mlen\u001b[39m(args) \u001b[38;5;241m>\u001b[39m num_allow_args:\n\u001b[0;32m    326\u001b[0m     warnings\u001b[38;5;241m.\u001b[39mwarn(\n\u001b[0;32m    327\u001b[0m         msg\u001b[38;5;241m.\u001b[39mformat(arguments\u001b[38;5;241m=\u001b[39m_format_argument_list(allow_args)),\n\u001b[0;32m    328\u001b[0m         \u001b[38;5;167;01mFutureWarning\u001b[39;00m,\n\u001b[0;32m    329\u001b[0m         stacklevel\u001b[38;5;241m=\u001b[39mfind_stack_level(),\n\u001b[0;32m    330\u001b[0m     )\n\u001b[1;32m--> 331\u001b[0m \u001b[38;5;28;01mreturn\u001b[39;00m func(\u001b[38;5;241m*\u001b[39margs, \u001b[38;5;241m*\u001b[39m\u001b[38;5;241m*\u001b[39mkwargs)\n",
      "File \u001b[1;32m~\\anaconda3\\envs\\par\\lib\\site-packages\\pandas\\io\\parsers\\readers.py:950\u001b[0m, in \u001b[0;36mread_csv\u001b[1;34m(filepath_or_buffer, sep, delimiter, header, names, index_col, usecols, squeeze, prefix, mangle_dupe_cols, dtype, engine, converters, true_values, false_values, skipinitialspace, skiprows, skipfooter, nrows, na_values, keep_default_na, na_filter, verbose, skip_blank_lines, parse_dates, infer_datetime_format, keep_date_col, date_parser, dayfirst, cache_dates, iterator, chunksize, compression, thousands, decimal, lineterminator, quotechar, quoting, doublequote, escapechar, comment, encoding, encoding_errors, dialect, error_bad_lines, warn_bad_lines, on_bad_lines, delim_whitespace, low_memory, memory_map, float_precision, storage_options)\u001b[0m\n\u001b[0;32m    935\u001b[0m kwds_defaults \u001b[38;5;241m=\u001b[39m _refine_defaults_read(\n\u001b[0;32m    936\u001b[0m     dialect,\n\u001b[0;32m    937\u001b[0m     delimiter,\n\u001b[1;32m   (...)\u001b[0m\n\u001b[0;32m    946\u001b[0m     defaults\u001b[38;5;241m=\u001b[39m{\u001b[38;5;124m\"\u001b[39m\u001b[38;5;124mdelimiter\u001b[39m\u001b[38;5;124m\"\u001b[39m: \u001b[38;5;124m\"\u001b[39m\u001b[38;5;124m,\u001b[39m\u001b[38;5;124m\"\u001b[39m},\n\u001b[0;32m    947\u001b[0m )\n\u001b[0;32m    948\u001b[0m kwds\u001b[38;5;241m.\u001b[39mupdate(kwds_defaults)\n\u001b[1;32m--> 950\u001b[0m \u001b[38;5;28;01mreturn\u001b[39;00m \u001b[43m_read\u001b[49m\u001b[43m(\u001b[49m\u001b[43mfilepath_or_buffer\u001b[49m\u001b[43m,\u001b[49m\u001b[43m \u001b[49m\u001b[43mkwds\u001b[49m\u001b[43m)\u001b[49m\n",
      "File \u001b[1;32m~\\anaconda3\\envs\\par\\lib\\site-packages\\pandas\\io\\parsers\\readers.py:605\u001b[0m, in \u001b[0;36m_read\u001b[1;34m(filepath_or_buffer, kwds)\u001b[0m\n\u001b[0;32m    602\u001b[0m _validate_names(kwds\u001b[38;5;241m.\u001b[39mget(\u001b[38;5;124m\"\u001b[39m\u001b[38;5;124mnames\u001b[39m\u001b[38;5;124m\"\u001b[39m, \u001b[38;5;28;01mNone\u001b[39;00m))\n\u001b[0;32m    604\u001b[0m \u001b[38;5;66;03m# Create the parser.\u001b[39;00m\n\u001b[1;32m--> 605\u001b[0m parser \u001b[38;5;241m=\u001b[39m TextFileReader(filepath_or_buffer, \u001b[38;5;241m*\u001b[39m\u001b[38;5;241m*\u001b[39mkwds)\n\u001b[0;32m    607\u001b[0m \u001b[38;5;28;01mif\u001b[39;00m chunksize \u001b[38;5;129;01mor\u001b[39;00m iterator:\n\u001b[0;32m    608\u001b[0m     \u001b[38;5;28;01mreturn\u001b[39;00m parser\n",
      "File \u001b[1;32m~\\anaconda3\\envs\\par\\lib\\site-packages\\pandas\\io\\parsers\\readers.py:1442\u001b[0m, in \u001b[0;36mTextFileReader.__init__\u001b[1;34m(self, f, engine, **kwds)\u001b[0m\n\u001b[0;32m   1439\u001b[0m     \u001b[38;5;28mself\u001b[39m\u001b[38;5;241m.\u001b[39moptions[\u001b[38;5;124m\"\u001b[39m\u001b[38;5;124mhas_index_names\u001b[39m\u001b[38;5;124m\"\u001b[39m] \u001b[38;5;241m=\u001b[39m kwds[\u001b[38;5;124m\"\u001b[39m\u001b[38;5;124mhas_index_names\u001b[39m\u001b[38;5;124m\"\u001b[39m]\n\u001b[0;32m   1441\u001b[0m \u001b[38;5;28mself\u001b[39m\u001b[38;5;241m.\u001b[39mhandles: IOHandles \u001b[38;5;241m|\u001b[39m \u001b[38;5;28;01mNone\u001b[39;00m \u001b[38;5;241m=\u001b[39m \u001b[38;5;28;01mNone\u001b[39;00m\n\u001b[1;32m-> 1442\u001b[0m \u001b[38;5;28mself\u001b[39m\u001b[38;5;241m.\u001b[39m_engine \u001b[38;5;241m=\u001b[39m \u001b[38;5;28;43mself\u001b[39;49m\u001b[38;5;241;43m.\u001b[39;49m\u001b[43m_make_engine\u001b[49m\u001b[43m(\u001b[49m\u001b[43mf\u001b[49m\u001b[43m,\u001b[49m\u001b[43m \u001b[49m\u001b[38;5;28;43mself\u001b[39;49m\u001b[38;5;241;43m.\u001b[39;49m\u001b[43mengine\u001b[49m\u001b[43m)\u001b[49m\n",
      "File \u001b[1;32m~\\anaconda3\\envs\\par\\lib\\site-packages\\pandas\\io\\parsers\\readers.py:1735\u001b[0m, in \u001b[0;36mTextFileReader._make_engine\u001b[1;34m(self, f, engine)\u001b[0m\n\u001b[0;32m   1733\u001b[0m     \u001b[38;5;28;01mif\u001b[39;00m \u001b[38;5;124m\"\u001b[39m\u001b[38;5;124mb\u001b[39m\u001b[38;5;124m\"\u001b[39m \u001b[38;5;129;01mnot\u001b[39;00m \u001b[38;5;129;01min\u001b[39;00m mode:\n\u001b[0;32m   1734\u001b[0m         mode \u001b[38;5;241m+\u001b[39m\u001b[38;5;241m=\u001b[39m \u001b[38;5;124m\"\u001b[39m\u001b[38;5;124mb\u001b[39m\u001b[38;5;124m\"\u001b[39m\n\u001b[1;32m-> 1735\u001b[0m \u001b[38;5;28mself\u001b[39m\u001b[38;5;241m.\u001b[39mhandles \u001b[38;5;241m=\u001b[39m \u001b[43mget_handle\u001b[49m\u001b[43m(\u001b[49m\n\u001b[0;32m   1736\u001b[0m \u001b[43m    \u001b[49m\u001b[43mf\u001b[49m\u001b[43m,\u001b[49m\n\u001b[0;32m   1737\u001b[0m \u001b[43m    \u001b[49m\u001b[43mmode\u001b[49m\u001b[43m,\u001b[49m\n\u001b[0;32m   1738\u001b[0m \u001b[43m    \u001b[49m\u001b[43mencoding\u001b[49m\u001b[38;5;241;43m=\u001b[39;49m\u001b[38;5;28;43mself\u001b[39;49m\u001b[38;5;241;43m.\u001b[39;49m\u001b[43moptions\u001b[49m\u001b[38;5;241;43m.\u001b[39;49m\u001b[43mget\u001b[49m\u001b[43m(\u001b[49m\u001b[38;5;124;43m\"\u001b[39;49m\u001b[38;5;124;43mencoding\u001b[39;49m\u001b[38;5;124;43m\"\u001b[39;49m\u001b[43m,\u001b[49m\u001b[43m \u001b[49m\u001b[38;5;28;43;01mNone\u001b[39;49;00m\u001b[43m)\u001b[49m\u001b[43m,\u001b[49m\n\u001b[0;32m   1739\u001b[0m \u001b[43m    \u001b[49m\u001b[43mcompression\u001b[49m\u001b[38;5;241;43m=\u001b[39;49m\u001b[38;5;28;43mself\u001b[39;49m\u001b[38;5;241;43m.\u001b[39;49m\u001b[43moptions\u001b[49m\u001b[38;5;241;43m.\u001b[39;49m\u001b[43mget\u001b[49m\u001b[43m(\u001b[49m\u001b[38;5;124;43m\"\u001b[39;49m\u001b[38;5;124;43mcompression\u001b[39;49m\u001b[38;5;124;43m\"\u001b[39;49m\u001b[43m,\u001b[49m\u001b[43m \u001b[49m\u001b[38;5;28;43;01mNone\u001b[39;49;00m\u001b[43m)\u001b[49m\u001b[43m,\u001b[49m\n\u001b[0;32m   1740\u001b[0m \u001b[43m    \u001b[49m\u001b[43mmemory_map\u001b[49m\u001b[38;5;241;43m=\u001b[39;49m\u001b[38;5;28;43mself\u001b[39;49m\u001b[38;5;241;43m.\u001b[39;49m\u001b[43moptions\u001b[49m\u001b[38;5;241;43m.\u001b[39;49m\u001b[43mget\u001b[49m\u001b[43m(\u001b[49m\u001b[38;5;124;43m\"\u001b[39;49m\u001b[38;5;124;43mmemory_map\u001b[39;49m\u001b[38;5;124;43m\"\u001b[39;49m\u001b[43m,\u001b[49m\u001b[43m \u001b[49m\u001b[38;5;28;43;01mFalse\u001b[39;49;00m\u001b[43m)\u001b[49m\u001b[43m,\u001b[49m\n\u001b[0;32m   1741\u001b[0m \u001b[43m    \u001b[49m\u001b[43mis_text\u001b[49m\u001b[38;5;241;43m=\u001b[39;49m\u001b[43mis_text\u001b[49m\u001b[43m,\u001b[49m\n\u001b[0;32m   1742\u001b[0m \u001b[43m    \u001b[49m\u001b[43merrors\u001b[49m\u001b[38;5;241;43m=\u001b[39;49m\u001b[38;5;28;43mself\u001b[39;49m\u001b[38;5;241;43m.\u001b[39;49m\u001b[43moptions\u001b[49m\u001b[38;5;241;43m.\u001b[39;49m\u001b[43mget\u001b[49m\u001b[43m(\u001b[49m\u001b[38;5;124;43m\"\u001b[39;49m\u001b[38;5;124;43mencoding_errors\u001b[39;49m\u001b[38;5;124;43m\"\u001b[39;49m\u001b[43m,\u001b[49m\u001b[43m \u001b[49m\u001b[38;5;124;43m\"\u001b[39;49m\u001b[38;5;124;43mstrict\u001b[39;49m\u001b[38;5;124;43m\"\u001b[39;49m\u001b[43m)\u001b[49m\u001b[43m,\u001b[49m\n\u001b[0;32m   1743\u001b[0m \u001b[43m    \u001b[49m\u001b[43mstorage_options\u001b[49m\u001b[38;5;241;43m=\u001b[39;49m\u001b[38;5;28;43mself\u001b[39;49m\u001b[38;5;241;43m.\u001b[39;49m\u001b[43moptions\u001b[49m\u001b[38;5;241;43m.\u001b[39;49m\u001b[43mget\u001b[49m\u001b[43m(\u001b[49m\u001b[38;5;124;43m\"\u001b[39;49m\u001b[38;5;124;43mstorage_options\u001b[39;49m\u001b[38;5;124;43m\"\u001b[39;49m\u001b[43m,\u001b[49m\u001b[43m \u001b[49m\u001b[38;5;28;43;01mNone\u001b[39;49;00m\u001b[43m)\u001b[49m\u001b[43m,\u001b[49m\n\u001b[0;32m   1744\u001b[0m \u001b[43m\u001b[49m\u001b[43m)\u001b[49m\n\u001b[0;32m   1745\u001b[0m \u001b[38;5;28;01massert\u001b[39;00m \u001b[38;5;28mself\u001b[39m\u001b[38;5;241m.\u001b[39mhandles \u001b[38;5;129;01mis\u001b[39;00m \u001b[38;5;129;01mnot\u001b[39;00m \u001b[38;5;28;01mNone\u001b[39;00m\n\u001b[0;32m   1746\u001b[0m f \u001b[38;5;241m=\u001b[39m \u001b[38;5;28mself\u001b[39m\u001b[38;5;241m.\u001b[39mhandles\u001b[38;5;241m.\u001b[39mhandle\n",
      "File \u001b[1;32m~\\anaconda3\\envs\\par\\lib\\site-packages\\pandas\\io\\common.py:856\u001b[0m, in \u001b[0;36mget_handle\u001b[1;34m(path_or_buf, mode, encoding, compression, memory_map, is_text, errors, storage_options)\u001b[0m\n\u001b[0;32m    851\u001b[0m \u001b[38;5;28;01melif\u001b[39;00m \u001b[38;5;28misinstance\u001b[39m(handle, \u001b[38;5;28mstr\u001b[39m):\n\u001b[0;32m    852\u001b[0m     \u001b[38;5;66;03m# Check whether the filename is to be opened in binary mode.\u001b[39;00m\n\u001b[0;32m    853\u001b[0m     \u001b[38;5;66;03m# Binary mode does not support 'encoding' and 'newline'.\u001b[39;00m\n\u001b[0;32m    854\u001b[0m     \u001b[38;5;28;01mif\u001b[39;00m ioargs\u001b[38;5;241m.\u001b[39mencoding \u001b[38;5;129;01mand\u001b[39;00m \u001b[38;5;124m\"\u001b[39m\u001b[38;5;124mb\u001b[39m\u001b[38;5;124m\"\u001b[39m \u001b[38;5;129;01mnot\u001b[39;00m \u001b[38;5;129;01min\u001b[39;00m ioargs\u001b[38;5;241m.\u001b[39mmode:\n\u001b[0;32m    855\u001b[0m         \u001b[38;5;66;03m# Encoding\u001b[39;00m\n\u001b[1;32m--> 856\u001b[0m         handle \u001b[38;5;241m=\u001b[39m \u001b[38;5;28;43mopen\u001b[39;49m\u001b[43m(\u001b[49m\n\u001b[0;32m    857\u001b[0m \u001b[43m            \u001b[49m\u001b[43mhandle\u001b[49m\u001b[43m,\u001b[49m\n\u001b[0;32m    858\u001b[0m \u001b[43m            \u001b[49m\u001b[43mioargs\u001b[49m\u001b[38;5;241;43m.\u001b[39;49m\u001b[43mmode\u001b[49m\u001b[43m,\u001b[49m\n\u001b[0;32m    859\u001b[0m \u001b[43m            \u001b[49m\u001b[43mencoding\u001b[49m\u001b[38;5;241;43m=\u001b[39;49m\u001b[43mioargs\u001b[49m\u001b[38;5;241;43m.\u001b[39;49m\u001b[43mencoding\u001b[49m\u001b[43m,\u001b[49m\n\u001b[0;32m    860\u001b[0m \u001b[43m            \u001b[49m\u001b[43merrors\u001b[49m\u001b[38;5;241;43m=\u001b[39;49m\u001b[43merrors\u001b[49m\u001b[43m,\u001b[49m\n\u001b[0;32m    861\u001b[0m \u001b[43m            \u001b[49m\u001b[43mnewline\u001b[49m\u001b[38;5;241;43m=\u001b[39;49m\u001b[38;5;124;43m\"\u001b[39;49m\u001b[38;5;124;43m\"\u001b[39;49m\u001b[43m,\u001b[49m\n\u001b[0;32m    862\u001b[0m \u001b[43m        \u001b[49m\u001b[43m)\u001b[49m\n\u001b[0;32m    863\u001b[0m     \u001b[38;5;28;01melse\u001b[39;00m:\n\u001b[0;32m    864\u001b[0m         \u001b[38;5;66;03m# Binary mode\u001b[39;00m\n\u001b[0;32m    865\u001b[0m         handle \u001b[38;5;241m=\u001b[39m \u001b[38;5;28mopen\u001b[39m(handle, ioargs\u001b[38;5;241m.\u001b[39mmode)\n",
      "\u001b[1;31mFileNotFoundError\u001b[0m: [Errno 2] No such file or directory: 'PSD_mean_2022-10-20.csv'"
     ]
    }
   ],
   "source": [
    "df = pd.read_csv(\"PSD_mean_2022-10-20.csv\")\n",
    "df['date'] = pd.DatetimeIndex(df['date'].apply(lambda x: parse(x))).tz_convert('UTC')\n"
   ]
  },
  {
   "cell_type": "markdown",
   "id": "105f7b95",
   "metadata": {},
   "source": [
    "### Map of cruises that im using"
   ]
  },
  {
   "cell_type": "code",
   "execution_count": 59,
   "id": "938cddbf",
   "metadata": {
    "scrolled": false
   },
   "outputs": [
    {
     "name": "stderr",
     "output_type": "stream",
     "text": [
      "C:\\Users\\Krist\\AppData\\Local\\Temp\\ipykernel_14920\\3203541437.py:8: FutureWarning:\n",
      "\n",
      "The default value of numeric_only in DataFrameGroupBy.mean is deprecated. In a future version, numeric_only will default to False. Either specify numeric_only or select only columns which should be valid for the function.\n",
      "\n"
     ]
    },
    {
     "data": {
      "application/vnd.plotly.v1+json": {
       "config": {
        "plotlyServerURL": "https://plot.ly"
       },
       "data": [
        {
         "geo": "geo",
         "hovertemplate": "cruise=Thompson_1<br>lat=%{lat}<br>lon=%{lon}<extra></extra>",
         "lat": [
          49.94211666666666,
          50.56388726006192,
          51.740366447368416,
          52.91259409732525,
          53.607746563390315
         ],
         "legendgroup": "Thompson_1",
         "lon": [
          223.6929111111111,
          219.23455527283284,
          210.50745405701753,
          201.63565756326435,
          196.26889788105413
         ],
         "marker": {
          "color": "#636efa",
          "symbol": "circle"
         },
         "mode": "markers",
         "name": "Thompson_1",
         "showlegend": true,
         "type": "scattergeo"
        },
        {
         "geo": "geo",
         "hovertemplate": "cruise=Tokyo_3<br>lat=%{lat}<br>lon=%{lon}<extra></extra>",
         "lat": [
          22.12517970238095,
          26.160285809132386,
          28.48502472136223,
          31.115856546863522,
          34.418607491104304,
          37.733478145188336,
          40.81642613914924,
          43.16203428244524,
          44.29729757565789,
          44.473712774535024,
          43.51068746666667,
          41.15395498627658,
          37.697621813957056,
          35.66600547927125
         ],
         "legendgroup": "Tokyo_3",
         "lon": [
          114.7688550595238,
          122.17550866592472,
          128.51694541408668,
          135.4895207165132,
          144.29849887233516,
          153.48869374064756,
          162.9953969033886,
          173.9224328522393,
          183.2597366348684,
          195.68742940987337,
          206.95113360000002,
          219.22613135348308,
          231.1657783373295,
          234.90976691534414
         ],
         "marker": {
          "color": "#EF553B",
          "symbol": "circle"
         },
         "mode": "markers",
         "name": "Tokyo_3",
         "showlegend": true,
         "type": "scattergeo"
        },
        {
         "geo": "geo",
         "hovertemplate": "cruise=MBARI_1<br>lat=%{lat}<br>lon=%{lon}<extra></extra>",
         "lat": [
          39.04384820157954,
          37.434410960783005,
          35.58906658718933,
          34.516886819731624,
          33.91322327679094,
          33.76954046378383,
          34.318827931881785,
          35.41818579454602,
          36.056010508114035,
          35.9775556685307,
          35.96733219078947,
          36.451495284966306
         ],
         "legendgroup": "MBARI_1",
         "lon": [
          228.24855540550465,
          232.0390484092251,
          234.87057763919958,
          233.1262151344455,
          232.00957801955408,
          232.10716392152375,
          233.16654297211778,
          235.51505160746325,
          236.5047973648026,
          236.4245338486842,
          236.32477200164476,
          237.05902595336917
         ],
         "marker": {
          "color": "#00cc96",
          "symbol": "circle"
         },
         "mode": "markers",
         "name": "MBARI_1",
         "showlegend": true,
         "type": "scattergeo"
        },
        {
         "geo": "geo",
         "hovertemplate": "cruise=Thompson_9<br>lat=%{lat}<br>lon=%{lon}<extra></extra>",
         "lat": [
          46.446778242196395,
          44.1602982642165,
          39.740230968871835,
          35.51817016203704,
          31.34824877741228,
          27.257630021929824,
          24.726384223927877,
          22.778580219298245,
          21.245729411764707
         ],
         "legendgroup": "Thompson_9",
         "lon": [
          231.33315142971063,
          229.0051522716616,
          225.4088797115619,
          221.44980847222223,
          217.57037694901317,
          213.74913400219296,
          208.9032847417154,
          204.0373092653509,
          202.18815294117647
         ],
         "marker": {
          "color": "#ab63fa",
          "symbol": "circle"
         },
         "mode": "markers",
         "name": "Thompson_9",
         "showlegend": true,
         "type": "scattergeo"
        },
        {
         "geo": "geo",
         "hovertemplate": "cruise=Thompson_10<br>lat=%{lat}<br>lon=%{lon}<extra></extra>",
         "lat": [
          48.2254454887218,
          48.63565383855218,
          48.798116947393,
          48.70432159926471,
          48.64096726973684,
          48.576726145833334,
          48.2600775
         ],
         "legendgroup": "Thompson_10",
         "lon": [
          236.73789218045113,
          233.56407009039853,
          231.58013046316773,
          232.7315297977941,
          233.46226125,
          234.42818604166666,
          236.41993875
         ],
         "marker": {
          "color": "#FFA15A",
          "symbol": "circle"
         },
         "mode": "markers",
         "name": "Thompson_10",
         "showlegend": true,
         "type": "scattergeo"
        },
        {
         "geo": "geo",
         "hovertemplate": "cruise=MBARI_2<br>lat=%{lat}<br>lon=%{lon}<extra></extra>",
         "lat": [
          36.539805688669595,
          35.97371377467105,
          35.946732052083334,
          36.27851036979167,
          36.14088807826511,
          35.94122983188406,
          35.74237849738147,
          36.45683258319789,
          36.50470188571429
         ],
         "legendgroup": "MBARI_2",
         "lon": [
          237.42822759765036,
          236.19248571567985,
          236.30740040833336,
          237.64069254218748,
          237.77004785140105,
          237.68349672463765,
          237.61374469528508,
          237.38866796891773,
          237.406009325
         ],
         "marker": {
          "color": "#19d3f3",
          "symbol": "circle"
         },
         "mode": "markers",
         "name": "MBARI_2",
         "showlegend": true,
         "type": "scattergeo"
        },
        {
         "geo": "geo",
         "hovertemplate": "cruise=Thompson_12<br>lat=%{lat}<br>lon=%{lon}<extra></extra>",
         "lat": [
          47.91424566269842,
          47.59369705000144,
          44.144114524877686,
          40.45919948788377,
          36.827687413149825,
          33.470171476921905,
          30.3282437773786,
          26.870698000462962,
          24.842403056862747
         ],
         "legendgroup": "Thompson_12",
         "lon": [
          237.48588037301587,
          234.17012133280943,
          228.93319594905785,
          224.13326322856358,
          219.6484909040339,
          215.69263857443045,
          212.12335095514348,
          208.34558283184626,
          206.17544227745097
         ],
         "marker": {
          "color": "#FF6692",
          "symbol": "circle"
         },
         "mode": "markers",
         "name": "Thompson_12",
         "showlegend": true,
         "type": "scattergeo"
        },
        {
         "geo": "geo",
         "hovertemplate": "cruise=MBARI_3<br>lat=%{lat}<br>lon=%{lon}<extra></extra>",
         "lat": [
          36.70781744078144,
          35.76512051568315,
          33.957137635103386,
          33.29592622128237,
          33.28918724278173,
          33.45490641447369,
          34.81789753054845,
          35.931525493893226,
          36.1294541885965,
          36.13023129180602,
          36.43495238866397
         ],
         "legendgroup": "MBARI_3",
         "lon": [
          237.82425054212453,
          236.53062477405635,
          235.12118150023494,
          231.68869111528824,
          230.57501557706485,
          230.9036653618421,
          233.75640378516624,
          236.11794472141779,
          236.5785198026316,
          236.6404029750484,
          237.18713944565556
         ],
         "marker": {
          "color": "#B6E880",
          "symbol": "circle"
         },
         "mode": "markers",
         "name": "MBARI_3",
         "showlegend": true,
         "type": "scattergeo"
        },
        {
         "geo": "geo",
         "hovertemplate": "cruise=SCOPE_1<br>lat=%{lat}<br>lon=%{lon}<extra></extra>",
         "lat": [
          22.290180365067076,
          22.773843657407408,
          22.772269103487886,
          22.67434
         ],
         "legendgroup": "SCOPE_1",
         "lon": [
          201.96286871581526,
          202.0203088340643,
          201.983536750731,
          201.9682738888889
         ],
         "marker": {
          "color": "#FF97FF",
          "symbol": "circle"
         },
         "mode": "markers",
         "name": "SCOPE_1",
         "showlegend": true,
         "type": "scattergeo"
        },
        {
         "geo": "geo",
         "hovertemplate": "cruise=SCOPE_2<br>lat=%{lat}<br>lon=%{lon}<extra></extra>",
         "lat": [
          44.88910873199834,
          42.026058657513346,
          39.02237938596492,
          35.91279018274854,
          32.827968541666664,
          29.669941260964908,
          26.553926206140353,
          23.97815375,
          22.42674875
         ],
         "legendgroup": "SCOPE_2",
         "lon": [
          233.7783090706158,
          229.45424173404524,
          225.12467991228073,
          220.8239919152047,
          216.72378854166666,
          212.67624414473684,
          208.80496792763157,
          205.68543375000002,
          203.83453124999997
         ],
         "marker": {
          "color": "#FECB52",
          "symbol": "circle"
         },
         "mode": "markers",
         "name": "SCOPE_2",
         "showlegend": true,
         "type": "scattergeo"
        },
        {
         "geo": "geo",
         "hovertemplate": "cruise=SCOPE_3<br>lat=%{lat}<br>lon=%{lon}<extra></extra>",
         "lat": [
          21.343488333333333,
          22.479078728531853,
          22.76517,
          22.77021442105263,
          21.8111231372549
         ],
         "legendgroup": "SCOPE_3",
         "lon": [
          201.72628333333336,
          201.91796498654531,
          201.97337041666665,
          201.9914177368421,
          201.83503647058822
         ],
         "marker": {
          "color": "#636efa",
          "symbol": "circle"
         },
         "mode": "markers",
         "name": "SCOPE_3",
         "showlegend": true,
         "type": "scattergeo"
        },
        {
         "geo": "geo",
         "hovertemplate": "cruise=SCOPE_4<br>lat=%{lat}<br>lon=%{lon}<extra></extra>",
         "lat": [
          21.342839523809527,
          22.201997692307692,
          22.720887333333334
         ],
         "legendgroup": "SCOPE_4",
         "lon": [
          201.7274430952381,
          201.84467423076924,
          201.98936733333332
         ],
         "marker": {
          "color": "#EF553B",
          "symbol": "circle"
         },
         "mode": "markers",
         "name": "SCOPE_4",
         "showlegend": true,
         "type": "scattergeo"
        },
        {
         "geo": "geo",
         "hovertemplate": "cruise=SCOPE_5<br>lat=%{lat}<br>lon=%{lon}<extra></extra>",
         "lat": [
          21.342908214285714,
          22.40319510526316,
          22.740705462184877,
          22.732425051487414,
          22.35891213235294
         ],
         "legendgroup": "SCOPE_5",
         "lon": [
          201.72616142857143,
          201.8965657631579,
          201.93407132352942,
          201.95835445366134,
          201.87201113970588
         ],
         "marker": {
          "color": "#00cc96",
          "symbol": "circle"
         },
         "mode": "markers",
         "name": "SCOPE_5",
         "showlegend": true,
         "type": "scattergeo"
        },
        {
         "geo": "geo",
         "hovertemplate": "cruise=SCOPE_6<br>lat=%{lat}<br>lon=%{lon}<extra></extra>",
         "lat": [
          22.892250763321346,
          24.303250618421053,
          24.45039140350877,
          24.549817362329435,
          24.589295056818184,
          24.57429570631123,
          24.548305131709483,
          24.50823788011696,
          24.411490913461538,
          24.347626593567252,
          24.166016159420288,
          22.607146917293232
         ],
         "legendgroup": "SCOPE_6",
         "lon": [
          202.52204770022882,
          203.19679464473683,
          203.26581254020468,
          203.40143333698828,
          203.53970893939393,
          203.6303212320574,
          203.67670803767228,
          203.6957281115288,
          203.67446384615386,
          203.63945748781677,
          203.53873033816427,
          202.96472488721807
         ],
         "marker": {
          "color": "#ab63fa",
          "symbol": "circle"
         },
         "mode": "markers",
         "name": "SCOPE_6",
         "showlegend": true,
         "type": "scattergeo"
        },
        {
         "geo": "geo",
         "hovertemplate": "cruise=SCOPE_9<br>lat=%{lat}<br>lon=%{lon}<extra></extra>",
         "lat": [
          21.308455548245615
         ],
         "legendgroup": "SCOPE_9",
         "lon": [
          201.90351365131576
         ],
         "marker": {
          "color": "#FFA15A",
          "symbol": "circle"
         },
         "mode": "markers",
         "name": "SCOPE_9",
         "showlegend": true,
         "type": "scattergeo"
        },
        {
         "geo": "geo",
         "hovertemplate": "cruise=SCOPE_10<br>lat=%{lat}<br>lon=%{lon}<extra></extra>",
         "lat": [
          22.75594875,
          22.762298638974887
         ],
         "legendgroup": "SCOPE_10",
         "lon": [
          201.9726221875,
          201.969118874785
         ],
         "marker": {
          "color": "#19d3f3",
          "symbol": "circle"
         },
         "mode": "markers",
         "name": "SCOPE_10",
         "showlegend": true,
         "type": "scattergeo"
        },
        {
         "geo": "geo",
         "hovertemplate": "cruise=SCOPE_11<br>lat=%{lat}<br>lon=%{lon}<extra></extra>",
         "lat": [
          21.34377058823529,
          22.441085694444443,
          22.752174977894175,
          22.732337780693054,
          22.469345789473685
         ],
         "legendgroup": "SCOPE_11",
         "lon": [
          201.72592352941177,
          201.91343708333332,
          201.97202259919464,
          202.00219770498293,
          201.9312052631579
         ],
         "marker": {
          "color": "#FF6692",
          "symbol": "circle"
         },
         "mode": "markers",
         "name": "SCOPE_11",
         "showlegend": true,
         "type": "scattergeo"
        },
        {
         "geo": "geo",
         "hovertemplate": "cruise=SCOPE_12<br>lat=%{lat}<br>lon=%{lon}<extra></extra>",
         "lat": [
          21.3084725,
          22.361473514056225,
          22.731659460411386,
          22.7138975,
          22.22227375
         ],
         "legendgroup": "SCOPE_12",
         "lon": [
          201.80103125,
          201.89582401606427,
          201.99977183431955,
          202.01219708333335,
          201.816666875
         ],
         "marker": {
          "color": "#B6E880",
          "symbol": "circle"
         },
         "mode": "markers",
         "name": "SCOPE_12",
         "showlegend": true,
         "type": "scattergeo"
        },
        {
         "geo": "geo",
         "hovertemplate": "cruise=SCOPE_13<br>lat=%{lat}<br>lon=%{lon}<extra></extra>",
         "lat": [
          21.343505,
          22.454132240497074,
          22.746149624060152,
          22.736153891278764,
          22.311626041666667
         ],
         "legendgroup": "SCOPE_13",
         "lon": [
          201.72613249999998,
          201.92696963572124,
          202.05888631578947,
          202.12435798196734,
          201.88159375
         ],
         "marker": {
          "color": "#FF97FF",
          "symbol": "circle"
         },
         "mode": "markers",
         "name": "SCOPE_13",
         "showlegend": true,
         "type": "scattergeo"
        },
        {
         "geo": "geo",
         "hovertemplate": "cruise=SCOPE_14<br>lat=%{lat}<br>lon=%{lon}<extra></extra>",
         "lat": [
          22.599253636363635,
          22.668711103565364,
          22.672396666666668
         ],
         "legendgroup": "SCOPE_14",
         "lon": [
          201.9462032960558,
          201.99216278438033,
          201.96616000000003
         ],
         "marker": {
          "color": "#FECB52",
          "symbol": "circle"
         },
         "mode": "markers",
         "name": "SCOPE_14",
         "showlegend": true,
         "type": "scattergeo"
        },
        {
         "geo": "geo",
         "hovertemplate": "cruise=SCOPE_15<br>lat=%{lat}<br>lon=%{lon}<extra></extra>",
         "lat": [
          22.342373,
          22.75169794736842,
          22.729039488636364,
          22.02827965116279,
          21.571499999999997
         ],
         "legendgroup": "SCOPE_15",
         "lon": [
          201.851744,
          202.01130357894738,
          202.02930221590907,
          201.77106680232558,
          201.65719999999996
         ],
         "marker": {
          "color": "#636efa",
          "symbol": "circle"
         },
         "mode": "markers",
         "name": "SCOPE_15",
         "showlegend": true,
         "type": "scattergeo"
        },
        {
         "geo": "geo",
         "hovertemplate": "cruise=SCOPE_16<br>lat=%{lat}<br>lon=%{lon}<extra></extra>",
         "lat": [
          22.883661853070176,
          24.390558333333335,
          27.439232230392157,
          28.97186833333333,
          31.869187529761902,
          33.6264689254386,
          36.73674354166667,
          36.96115645733652,
          36.08028918128655,
          36.01632629186603,
          33.63848395833333,
          30.28691104166667,
          27.090744077380954,
          25.2017125,
          23.07922333333333
         ],
         "legendgroup": "SCOPE_16",
         "lon": [
          201.87945298245614,
          202.02547729166668,
          201.9977768259804,
          201.99574145833333,
          202.01103023809526,
          202.0051641776316,
          202.00290458333336,
          202.016243161882,
          202.03948788011695,
          202.00972867224883,
          201.99852465277777,
          201.99850125,
          201.96669116071428,
          201.96636583333333,
          202.00009888888889
         ],
         "marker": {
          "color": "#EF553B",
          "symbol": "circle"
         },
         "mode": "markers",
         "name": "SCOPE_16",
         "showlegend": true,
         "type": "scattergeo"
        },
        {
         "geo": "geo",
         "hovertemplate": "cruise=SCOPE_17<br>lat=%{lat}<br>lon=%{lon}<extra></extra>",
         "lat": [
          22.809200000000004,
          23.58284232578397,
          23.46566879795396
         ],
         "legendgroup": "SCOPE_17",
         "lon": [
          204.0786,
          203.16370087108012,
          203.24340464194373
         ],
         "marker": {
          "color": "#00cc96",
          "symbol": "circle"
         },
         "mode": "markers",
         "name": "SCOPE_17",
         "showlegend": true,
         "type": "scattergeo"
        },
        {
         "geo": "geo",
         "hovertemplate": "cruise=SCOPE_18<br>lat=%{lat}<br>lon=%{lon}<extra></extra>",
         "lat": [
          22.748177916666666,
          22.727496805555557,
          22.741475917874396,
          21.797580460526316,
          21.2556
         ],
         "legendgroup": "SCOPE_18",
         "lon": [
          201.99803416666666,
          201.9478161111111,
          201.98785502415458,
          201.94333912280703,
          202.0918
         ],
         "marker": {
          "color": "#ab63fa",
          "symbol": "circle"
         },
         "mode": "markers",
         "name": "SCOPE_18",
         "showlegend": true,
         "type": "scattergeo"
        },
        {
         "geo": "geo",
         "hovertemplate": "cruise=SCOPE_19<br>lat=%{lat}<br>lon=%{lon}<extra></extra>",
         "lat": [
          22.748673750000002,
          22.74810958333333,
          22.754940833333333,
          21.92892375,
          21.7156
         ],
         "legendgroup": "SCOPE_19",
         "lon": [
          202.0253125,
          202.01431916666664,
          202.0223220833333,
          201.71412979166666,
          201.6492
         ],
         "marker": {
          "color": "#FFA15A",
          "symbol": "circle"
         },
         "mode": "markers",
         "name": "SCOPE_19",
         "showlegend": true,
         "type": "scattergeo"
        },
        {
         "geo": "geo",
         "hovertemplate": "cruise=MGL1704<br>lat=%{lat}<br>lon=%{lon}<extra></extra>",
         "lat": [
          23.41151,
          25.02322375,
          28.07081300865801,
          31.870573658421417,
          35.72558655982906,
          39.481651666666664,
          41.67218666666667,
          40.49778460317461,
          38.379043124999995,
          36.91502333333333,
          36.10623583333333,
          34.96950673913044,
          33.928888908333334,
          32.29018666666667,
          30.123228750000003,
          27.088801875,
          23.356810900735294
         ],
         "legendgroup": "MGL1704",
         "lon": [
          201.99878166666667,
          201.99742325,
          202.00019134199135,
          202.00013805655445,
          202.00010929273503,
          201.99985375,
          202.001346875,
          202.001895,
          202.000258125,
          201.99952,
          202.00023583333333,
          202.00034967391306,
          202.00032843333332,
          202.00000083333333,
          201.99991770833333,
          202.1202920833333,
          202.30226080269608
         ],
         "marker": {
          "color": "#19d3f3",
          "symbol": "circle"
         },
         "mode": "markers",
         "name": "MGL1704",
         "showlegend": true,
         "type": "scattergeo"
        },
        {
         "geo": "geo",
         "hovertemplate": "cruise=HOT-294<br>lat=%{lat}<br>lon=%{lon}<extra></extra>",
         "lat": [
          22.241212179769736,
          22.772795942028985,
          22.772124259259257,
          22.801235
         ],
         "legendgroup": "HOT-294",
         "lon": [
          201.8535788805921,
          201.94693905797104,
          201.9815841666667,
          202.32349366666668
         ],
         "marker": {
          "color": "#FF6692",
          "symbol": "circle"
         },
         "mode": "markers",
         "name": "HOT-294",
         "showlegend": true,
         "type": "scattergeo"
        },
        {
         "geo": "geo",
         "hovertemplate": "cruise=MESO_SCOPE<br>lat=%{lat}<br>lon=%{lon}<extra></extra>",
         "lat": [
          21.41995857142857,
          22.862349803545325,
          24.936585778841046,
          27.426306666666665,
          26.288338749999998,
          25.104643125,
          25.14232262696214,
          25.599494375000003,
          24.72849304388422,
          24.771090098039213,
          24.80414393592677,
          24.742449799498747,
          25.734292291666666,
          26.481646136363636,
          26.47374209876543,
          26.48871212820513,
          26.533017932692307,
          26.715931666666666,
          25.017333750000002,
          24.080232499999997
         ],
         "legendgroup": "MESO_SCOPE",
         "lon": [
          202.39636,
          202.21602308114038,
          201.82015001993622,
          202.48984541666667,
          202.00862208333334,
          201.53704958333333,
          201.46239128808864,
          201.78783854166667,
          201.4954081232493,
          201.48488140271493,
          201.36847279176203,
          201.31743727652463,
          201.4580243154762,
          201.5236756818182,
          201.48236586419753,
          201.4343080769231,
          201.41248325320512,
          201.26339291666667,
          200.604574375,
          201.56860416666666
         ],
         "marker": {
          "color": "#B6E880",
          "symbol": "circle"
         },
         "mode": "markers",
         "name": "MESO_SCOPE",
         "showlegend": true,
         "type": "scattergeo"
        },
        {
         "geo": "geo",
         "hovertemplate": "cruise=KM1712<br>lat=%{lat}<br>lon=%{lon}<extra></extra>",
         "lat": [
          22.443731320385695,
          24.03780249226006,
          27.375310646464648,
          27.779528949561403,
          26.59948783184042,
          25.861021375152625,
          27.82686222489312,
          28.98134429700734,
          32.747084794050345,
          35.260418555809814,
          35.228477913610675,
          35.25914341130604,
          37.53649638655462,
          41.59478292225663,
          41.74971810738968,
          41.77138822916666,
          44.12864796897221,
          48.71882357331456,
          49.73874142350361,
          49.69685547305764,
          49.812341130952376,
          49.881622625,
          50.02635697091488,
          53.24830193830722,
          57.32462565789474,
          59.98170520833334,
          59.969629175770315
         ],
         "legendgroup": "KM1712",
         "lon": [
          201.9869345832111,
          202.5187616402219,
          204.50515122853534,
          204.73526570614035,
          204.2201226391869,
          204.12148952991453,
          204.9477195132828,
          205.40777834839074,
          207.28263022883294,
          208.99465497266718,
          208.9886626921121,
          209.00900271076998,
          209.96164782913164,
          211.66392080293446,
          211.76050907695375,
          211.75743424632353,
          211.3874391202327,
          210.5788767382503,
          210.30197303405575,
          210.3086508030493,
          210.82779205357144,
          210.7361669375,
          210.71936457062228,
          210.03608271490333,
          210.20557523245617,
          210.6534775,
          210.633155174941
         ],
         "marker": {
          "color": "#FF97FF",
          "symbol": "circle"
         },
         "mode": "markers",
         "name": "KM1712",
         "showlegend": true,
         "type": "scattergeo"
        },
        {
         "geo": "geo",
         "hovertemplate": "cruise=KM1713<br>lat=%{lat}<br>lon=%{lon}<extra></extra>",
         "lat": [
          55.000403636363636,
          54.999684082602336,
          53.842724805194806,
          51.4965,
          49.96772340643275,
          49.887165380116954,
          48.263429181286554,
          46.305613209064326,
          46.006607272408964,
          45.98879396320663,
          42.9817057413755,
          41.99829638888889,
          42.0255857537594,
          39.08454664574515,
          34.709377708333335,
          34.005291581688596,
          33.89352073464912,
          30.19130356858054,
          24.82490617635592,
          24.162653311622805,
          23.642998296969697
         ],
         "legendgroup": "KM1713",
         "lon": [
          212.78627163101604,
          212.78405776803118,
          213.31248772727272,
          214.35903500000003,
          214.99183141281233,
          214.82234625365496,
          209.77603961744637,
          203.22715610810113,
          201.97442602065826,
          202.05482930555556,
          201.99741386278197,
          202.00518323586746,
          202.05824447274435,
          201.99973966014693,
          202.00923833333334,
          202.0315748245614,
          202.031482752193,
          201.19241861642743,
          199.97608771089895,
          199.77338963355263,
          200.35668777575756
         ],
         "marker": {
          "color": "#FECB52",
          "symbol": "circle"
         },
         "mode": "markers",
         "name": "KM1713",
         "showlegend": true,
         "type": "scattergeo"
        },
        {
         "geo": "geo",
         "hovertemplate": "cruise=HOT297<br>lat=%{lat}<br>lon=%{lon}<extra></extra>",
         "lat": [
          21.34307535,
          22.40027710490196,
          22.78678915090488,
          22.77555807,
          22.158171308333333
         ],
         "legendgroup": "HOT297",
         "lon": [
          201.726296125,
          201.90649361895424,
          202.02422864791666,
          202.01751637249998,
          201.79289995
         ],
         "marker": {
          "color": "#636efa",
          "symbol": "circle"
         },
         "mode": "markers",
         "name": "HOT297",
         "showlegend": true,
         "type": "scattergeo"
        },
        {
         "geo": "geo",
         "hovertemplate": "cruise=HOT299<br>lat=%{lat}<br>lon=%{lon}<extra></extra>",
         "lat": [
          21.343300555555555,
          22.50440570945463,
          22.799381453634084,
          22.7993
         ],
         "legendgroup": "HOT299",
         "lon": [
          201.72685555555555,
          201.9317442829245,
          201.97641754385964,
          201.9765
         ],
         "marker": {
          "color": "#EF553B",
          "symbol": "circle"
         },
         "mode": "markers",
         "name": "HOT299",
         "showlegend": true,
         "type": "scattergeo"
        },
        {
         "geo": "geo",
         "hovertemplate": "cruise=SCOPE_Falkor1<br>lat=%{lat}<br>lon=%{lon}<extra></extra>",
         "lat": [
          21.34776512383901,
          21.35252239389234,
          21.14696096153846,
          22.228925813953488,
          22.149455479452058,
          21.88580076923077,
          21.899000962148964,
          21.96135124102871,
          22.116727879699248,
          22.147926730549198,
          22.103372521367522,
          22.065351547987614,
          21.623375384615386
         ],
         "legendgroup": "SCOPE_Falkor1",
         "lon": [
          201.68335525541795,
          201.68423060300208,
          203.18081814102564,
          203.89414514534883,
          204.38063897260275,
          203.92966961538463,
          204.02897502596235,
          204.01752758601887,
          203.94835479699248,
          203.85367989130435,
          203.9892959188034,
          203.571729752322,
          203.235535
         ],
         "marker": {
          "color": "#00cc96",
          "symbol": "circle"
         },
         "mode": "markers",
         "name": "SCOPE_Falkor1",
         "showlegend": true,
         "type": "scattergeo"
        },
        {
         "geo": "geo",
         "hovertemplate": "cruise=SCOPE_Falkor2<br>lat=%{lat}<br>lon=%{lon}<extra></extra>",
         "lat": [
          22.102543275303645,
          22.261446049382716,
          22.349039411764707,
          22.06111699595142,
          22.304060241935485,
          22.260253433734942,
          22.17388662337662,
          22.133222103174603,
          22.106822469135803,
          23.30974773809524,
          24.572874772727275,
          24.56951634637188,
          23.97740208333333,
          22.657315476190476
         ],
         "legendgroup": "SCOPE_Falkor2",
         "lon": [
          203.64908884210527,
          203.60072222222223,
          203.4196744117647,
          202.9943627651822,
          203.04254322580644,
          202.97188710843372,
          203.08251720779222,
          203.01772089947087,
          202.9693445679012,
          201.03357345238095,
          199.2334487121212,
          199.16461090702947,
          199.59651250000002,
          200.60473142857143
         ],
         "marker": {
          "color": "#ab63fa",
          "symbol": "circle"
         },
         "mode": "markers",
         "name": "SCOPE_Falkor2",
         "showlegend": true,
         "type": "scattergeo"
        },
        {
         "geo": "geo",
         "hovertemplate": "cruise=HOT301<br>lat=%{lat}<br>lon=%{lon}<extra></extra>",
         "lat": [
          21.334377500000002,
          22.299036228729605,
          22.777105689655173,
          22.79072511393426,
          22.44333404761905
         ],
         "legendgroup": "HOT301",
         "lon": [
          201.74009,
          201.85446493471528,
          202.00608867816092,
          201.98330476104056,
          201.92834266666665
         ],
         "marker": {
          "color": "#FFA15A",
          "symbol": "circle"
         },
         "mode": "markers",
         "name": "HOT301",
         "showlegend": true,
         "type": "scattergeo"
        },
        {
         "geo": "geo",
         "hovertemplate": "cruise=HOT302<br>lat=%{lat}<br>lon=%{lon}<extra></extra>",
         "lat": [
          21.357672899159663,
          22.172726757575756,
          22.63865857142857,
          21.835099545454543,
          22.643185448717947
         ],
         "legendgroup": "HOT302",
         "lon": [
          201.72351537815126,
          201.8255914280303,
          201.98560107142856,
          201.90957227272727,
          202.02912987179485
         ],
         "marker": {
          "color": "#19d3f3",
          "symbol": "circle"
         },
         "mode": "markers",
         "name": "HOT302",
         "showlegend": true,
         "type": "scattergeo"
        },
        {
         "geo": "geo",
         "hovertemplate": "cruise=HOT303<br>lat=%{lat}<br>lon=%{lon}<extra></extra>",
         "lat": [
          21.35000625,
          22.342231274299053,
          22.784793227115408,
          22.756539684439357,
          22.19796533181818
         ],
         "legendgroup": "HOT303",
         "lon": [
          201.72789625000001,
          201.88103110094076,
          201.997943075546,
          201.9949281731121,
          201.80644082272727
         ],
         "marker": {
          "color": "#FF6692",
          "symbol": "circle"
         },
         "mode": "markers",
         "name": "HOT303",
         "showlegend": true,
         "type": "scattergeo"
        },
        {
         "geo": "geo",
         "hovertemplate": "cruise=KOK1806<br>lat=%{lat}<br>lon=%{lon}<extra></extra>",
         "lat": [
          19.514285833333332,
          19.427231875,
          18.928372291666665,
          19.286606460526315,
          20.4436775
         ],
         "legendgroup": "KOK1806",
         "lon": [
          205.22164500000002,
          205.199066875,
          205.46221791666667,
          203.84118290789473,
          202.90804654411764
         ],
         "marker": {
          "color": "#B6E880",
          "symbol": "circle"
         },
         "mode": "markers",
         "name": "KOK1806",
         "showlegend": true,
         "type": "scattergeo"
        },
        {
         "geo": "geo",
         "hovertemplate": "cruise=HOT304<br>lat=%{lat}<br>lon=%{lon}<extra></extra>",
         "lat": [
          21.34047,
          22.43257761574074,
          22.77233354166667,
          22.74404067982456,
          22.2991128125
         ],
         "legendgroup": "HOT304",
         "lon": [
          201.73353,
          201.90573564814815,
          202.00810333333334,
          201.98232853070178,
          201.85041453125
         ],
         "marker": {
          "color": "#FF97FF",
          "symbol": "circle"
         },
         "mode": "markers",
         "name": "HOT304",
         "showlegend": true,
         "type": "scattergeo"
        },
        {
         "geo": "geo",
         "hovertemplate": "cruise=HOT307<br>lat=%{lat}<br>lon=%{lon}<extra></extra>",
         "lat": [
          22.51694270132275,
          22.778209375,
          22.779945603070175,
          22.404795913461538
         ],
         "legendgroup": "HOT307",
         "lon": [
          201.92560009550263,
          201.944944375,
          201.94283933114036,
          201.9162462980769
         ],
         "marker": {
          "color": "#FECB52",
          "symbol": "circle"
         },
         "mode": "markers",
         "name": "HOT307",
         "showlegend": true,
         "type": "scattergeo"
        },
        {
         "geo": "geo",
         "hovertemplate": "cruise=HOT308<br>lat=%{lat}<br>lon=%{lon}<extra></extra>",
         "lat": [
          22.524115980528975,
          21.764404048402255
         ],
         "legendgroup": "HOT308",
         "lon": [
          201.93601645899787,
          201.83938544407894
         ],
         "marker": {
          "color": "#636efa",
          "symbol": "circle"
         },
         "mode": "markers",
         "name": "HOT308",
         "showlegend": true,
         "type": "scattergeo"
        },
        {
         "geo": "geo",
         "hovertemplate": "cruise=HOT309<br>lat=%{lat}<br>lon=%{lon}<extra></extra>",
         "lat": [
          22.388664609909032,
          22.7416256,
          22.77293309716599,
          22.171025824823253
         ],
         "legendgroup": "HOT309",
         "lon": [
          201.89743724948016,
          201.9739884,
          201.9989687112011,
          201.94913518853102
         ],
         "marker": {
          "color": "#EF553B",
          "symbol": "circle"
         },
         "mode": "markers",
         "name": "HOT309",
         "showlegend": true,
         "type": "scattergeo"
        },
        {
         "geo": "geo",
         "hovertemplate": "cruise=HOT310<br>lat=%{lat}<br>lon=%{lon}<extra></extra>",
         "lat": [
          21.340558333333334,
          22.457443853599518,
          22.739606287878786,
          22.75291272727273,
          22.811447333333334
         ],
         "legendgroup": "HOT310",
         "lon": [
          201.72940055555557,
          201.9176023290986,
          202.0128906818182,
          202.02288928571429,
          202.07089066666668
         ],
         "marker": {
          "color": "#00cc96",
          "symbol": "circle"
         },
         "mode": "markers",
         "name": "HOT310",
         "showlegend": true,
         "type": "scattergeo"
        },
        {
         "geo": "geo",
         "hovertemplate": "cruise=KM1906<br>lat=%{lat}<br>lon=%{lon}<extra></extra>",
         "lat": [
          22.731095000000003,
          25.27508819476227,
          28.858745953947366,
          31.93186625603865,
          35.364046337719294,
          38.37536374742002,
          41.4584291796875,
          41.65390657111529,
          41.61052272727272,
          39.126480028659614,
          36.946459228070175,
          34.33244166666667,
          33.128117256836944,
          35.97355673913044,
          40.14320802106763,
          40.785795937211454,
          36.45846181789737,
          32.123041633771926,
          27.370261346749228,
          23.589593541666666
         ],
         "legendgroup": "KM1906",
         "lon": [
          201.99969083333335,
          201.99996760488176,
          202.0010275328947,
          201.9997985748792,
          202.00020949561403,
          202.00011154218268,
          201.970902648631,
          202.03364006200397,
          202.0745834090909,
          202.00044293540566,
          201.99958173684212,
          202.00009458333332,
          201.9999618234004,
          202.00000173913043,
          202.0000787374419,
          202.00023727262234,
          202.00006563204005,
          202.00036638157894,
          202.000755123839,
          201.94493375
         ],
         "marker": {
          "color": "#ab63fa",
          "symbol": "circle"
         },
         "mode": "markers",
         "name": "KM1906",
         "showlegend": true,
         "type": "scattergeo"
        },
        {
         "geo": "geo",
         "hovertemplate": "cruise=HOT312<br>lat=%{lat}<br>lon=%{lon}<extra></extra>",
         "lat": [
          21.34300222222222,
          22.39399636363636,
          22.756559976973683,
          22.698206799199085,
          22.664235416666667
         ],
         "legendgroup": "HOT312",
         "lon": [
          201.72769416666668,
          201.89983062500002,
          201.95824448026318,
          201.9704023283753,
          202.05271791666667
         ],
         "marker": {
          "color": "#FFA15A",
          "symbol": "circle"
         },
         "mode": "markers",
         "name": "HOT312",
         "showlegend": true,
         "type": "scattergeo"
        },
        {
         "geo": "geo",
         "hovertemplate": "cruise=HOT313<br>lat=%{lat}<br>lon=%{lon}<extra></extra>",
         "lat": [
          21.34283157894737,
          22.39182238095238,
          22.78093634502924,
          22.773085000000002,
          22.318928333333336
         ],
         "legendgroup": "HOT313",
         "lon": [
          201.72631254385965,
          201.91280214285715,
          201.97872421052634,
          201.9978559375,
          201.873065
         ],
         "marker": {
          "color": "#19d3f3",
          "symbol": "circle"
         },
         "mode": "markers",
         "name": "HOT313",
         "showlegend": true,
         "type": "scattergeo"
        },
        {
         "geo": "geo",
         "hovertemplate": "cruise=HOT314<br>lat=%{lat}<br>lon=%{lon}<extra></extra>",
         "lat": [
          22.32778047987616,
          22.744527058823532,
          22.762650999999998,
          22.772215
         ],
         "legendgroup": "HOT314",
         "lon": [
          201.8943094036174,
          201.97765529411765,
          202.02325150000001,
          202.09477333333334
         ],
         "marker": {
          "color": "#FF6692",
          "symbol": "circle"
         },
         "mode": "markers",
         "name": "HOT314",
         "showlegend": true,
         "type": "scattergeo"
        },
        {
         "geo": "geo",
         "hovertemplate": "cruise=HOT315<br>lat=%{lat}<br>lon=%{lon}<extra></extra>",
         "lat": [
          21.33890166666667,
          22.570823192355892,
          22.726723135964914,
          22.686935625,
          22.13468396694215
         ],
         "legendgroup": "HOT315",
         "lon": [
          201.73099333333334,
          201.941245018797,
          201.95926914473685,
          201.93668395833333,
          201.7946135123967
         ],
         "marker": {
          "color": "#B6E880",
          "symbol": "circle"
         },
         "mode": "markers",
         "name": "HOT315",
         "showlegend": true,
         "type": "scattergeo"
        },
        {
         "geo": "geo",
         "hovertemplate": "cruise=SR1917<br>lat=%{lat}<br>lon=%{lon}<extra></extra>",
         "lat": [
          14.580276283966782,
          16.285986956601736,
          18.51007791587001,
          20.686059960340362,
          22.830960394915717,
          24.908798876407243,
          26.952399674662754,
          28.89688819087711,
          30.43699438329143,
          31.420462696849995,
          32.930271952478876,
          33.68915835673786,
          34.08271152541963,
          34.454511561962775,
          33.64685779875835,
          32.07212788549082,
          32.25439118194745,
          33.149542465338236,
          34.07018379539327,
          34.95056457078613,
          35.8257194706764,
          36.44305056750691
         ],
         "legendgroup": "SR1917",
         "lon": [
          146.04049168076398,
          148.4515650157636,
          151.69890514275372,
          155.0422828183919,
          158.5546444931031,
          162.18508036150612,
          166.05690904213154,
          170.10493551116502,
          173.83313203941833,
          177.79720603040553,
          182.18130810980477,
          186.78226173908877,
          191.80701237194268,
          196.57674922354605,
          201.35950764477667,
          205.1844141018596,
          209.52110159992358,
          214.08073256813432,
          218.80154024650895,
          223.35792741422952,
          227.96219154916858,
          231.2199356880525
         ],
         "marker": {
          "color": "#FF97FF",
          "symbol": "circle"
         },
         "mode": "markers",
         "name": "SR1917",
         "showlegend": true,
         "type": "scattergeo"
        },
        {
         "geo": "geo",
         "hovertemplate": "cruise=KM1923_751<br>lat=%{lat}<br>lon=%{lon}<extra></extra>",
         "lat": [
          2.0603403818755295,
          6.701828745855183,
          11.578250858497531,
          16.522297117394924,
          20.253549118231337
         ],
         "legendgroup": "KM1923_751",
         "lon": [
          206.43353084921011,
          205.40924694637638,
          204.32174532640195,
          203.19948393046033,
          202.3461486046275
         ],
         "marker": {
          "color": "#FECB52",
          "symbol": "circle"
         },
         "mode": "markers",
         "name": "KM1923_751",
         "showlegend": true,
         "type": "scattergeo"
        },
        {
         "geo": "geo",
         "hovertemplate": "cruise=HOT317<br>lat=%{lat}<br>lon=%{lon}<extra></extra>",
         "lat": [
          21.34342745643992,
          22.27869485154417,
          22.624238840555435,
          21.49909052465373
         ],
         "legendgroup": "HOT317",
         "lon": [
          201.7274915068887,
          201.88109732810636,
          201.9627377718163,
          201.68470598380236
         ],
         "marker": {
          "color": "#636efa",
          "symbol": "circle"
         },
         "mode": "markers",
         "name": "HOT317",
         "showlegend": true,
         "type": "scattergeo"
        },
        {
         "geo": "geo",
         "hovertemplate": "cruise=HOT318<br>lat=%{lat}<br>lon=%{lon}<extra></extra>",
         "lat": [
          21.345772464952734,
          22.26259603108925,
          22.719512911679043,
          22.2305542713954
         ],
         "legendgroup": "HOT318",
         "lon": [
          201.73278606575786,
          201.87964112199427,
          201.99220993005,
          201.8723527527244
         ],
         "marker": {
          "color": "#EF553B",
          "symbol": "circle"
         },
         "mode": "markers",
         "name": "HOT318",
         "showlegend": true,
         "type": "scattergeo"
        },
        {
         "geo": "geo",
         "hovertemplate": "cruise=HOT319<br>lat=%{lat}<br>lon=%{lon}<extra></extra>",
         "lat": [
          21.342649794884167,
          22.400101661543232,
          22.764798033989457,
          22.741388334799367,
          22.124362489131368
         ],
         "legendgroup": "HOT319",
         "lon": [
          201.728688880711,
          201.91245243620295,
          201.92987180691316,
          201.97372132091712,
          201.91410878602494
         ],
         "marker": {
          "color": "#00cc96",
          "symbol": "circle"
         },
         "mode": "markers",
         "name": "HOT319",
         "showlegend": true,
         "type": "scattergeo"
        },
        {
         "geo": "geo",
         "hovertemplate": "cruise=HOT321<br>lat=%{lat}<br>lon=%{lon}<extra></extra>",
         "lat": [
          21.330258931891557,
          22.535232764614122,
          22.766550352228595,
          22.763759236800098,
          22.752193505867627,
          21.90082610523012
         ],
         "legendgroup": "HOT321",
         "lon": [
          201.75683857465688,
          201.94545772300725,
          201.99205307384423,
          201.9852423339561,
          202.0110501890949,
          201.66418982626445
         ],
         "marker": {
          "color": "#ab63fa",
          "symbol": "circle"
         },
         "mode": "markers",
         "name": "HOT321",
         "showlegend": true,
         "type": "scattergeo"
        },
        {
         "geo": "geo",
         "hovertemplate": "cruise=HOT322<br>lat=%{lat}<br>lon=%{lon}<extra></extra>",
         "lat": [
          21.570113959853998,
          21.812672344380996,
          22.968830399983002,
          22.850785706827697,
          22.750940039312916,
          22.767505657894734,
          22.758137258771928,
          22.75639875,
          22.212017414860682
         ],
         "legendgroup": "HOT322",
         "lon": [
          200.76746202921544,
          200.6181039206622,
          201.5664301766625,
          201.81508916033485,
          202.04861830850479,
          201.9755927631579,
          202.06711941885965,
          202.05929187499999,
          201.9502125851393
         ],
         "marker": {
          "color": "#FFA15A",
          "symbol": "circle"
         },
         "mode": "markers",
         "name": "HOT322",
         "showlegend": true,
         "type": "scattergeo"
        },
        {
         "geo": "geo",
         "hovertemplate": "cruise=HOT323<br>lat=%{lat}<br>lon=%{lon}<extra></extra>",
         "lat": [
          22.23072006965944,
          22.759206666666667,
          22.735548684210528,
          22.74347692860624,
          21.75623861743912
         ],
         "legendgroup": "HOT323",
         "lon": [
          201.88626308372034,
          202.033156502193,
          202.05620565789476,
          202.07816628898635,
          201.77575758051847
         ],
         "marker": {
          "color": "#19d3f3",
          "symbol": "circle"
         },
         "mode": "markers",
         "name": "HOT323",
         "showlegend": true,
         "type": "scattergeo"
        },
        {
         "geo": "geo",
         "hovertemplate": "cruise=HOT324<br>lat=%{lat}<br>lon=%{lon}<extra></extra>",
         "lat": [
          21.339353333333335,
          22.42520835526316,
          22.77032153508772,
          22.862139714912278,
          22.718617677345538,
          21.542060257997935
         ],
         "legendgroup": "HOT324",
         "lon": [
          201.73138666666668,
          201.94227951754385,
          202.0295175767544,
          202.09082451754387,
          202.01922039882314,
          201.8045393137255
         ],
         "marker": {
          "color": "#FF6692",
          "symbol": "circle"
         },
         "mode": "markers",
         "name": "HOT324",
         "showlegend": true,
         "type": "scattergeo"
        },
        {
         "geo": "geo",
         "hovertemplate": "cruise=HOT325<br>lat=%{lat}<br>lon=%{lon}<extra></extra>",
         "lat": [
          21.315085714285715,
          21.30853080882353,
          22.47693424220273,
          22.746771874999997,
          22.676205739348372,
          21.810654138286893
         ],
         "legendgroup": "HOT325",
         "lon": [
          202.12245714285714,
          201.79071580882353,
          201.92067939814817,
          201.99689049342103,
          201.97488109022555,
          201.6535479618163
         ],
         "marker": {
          "color": "#B6E880",
          "symbol": "circle"
         },
         "mode": "markers",
         "name": "HOT325",
         "showlegend": true,
         "type": "scattergeo"
        },
        {
         "geo": "geo",
         "hovertemplate": "cruise=HOT326<br>lat=%{lat}<br>lon=%{lon}<extra></extra>",
         "lat": [
          21.337555000000002,
          22.50149384679648,
          22.75617075727293,
          22.748376946770335,
          22.219913333333334
         ],
         "legendgroup": "HOT326",
         "lon": [
          201.7598198809524,
          201.92751406561274,
          202.0318509904508,
          202.03739329246412,
          201.82606916666666
         ],
         "marker": {
          "color": "#FF97FF",
          "symbol": "circle"
         },
         "mode": "markers",
         "name": "HOT326",
         "showlegend": true,
         "type": "scattergeo"
        },
        {
         "geo": "geo",
         "hovertemplate": "cruise=SCOPE-PARAGON<br>lat=%{lat}<br>lon=%{lon}<extra></extra>",
         "lat": [
          21.783544881434356,
          21.847872324561404,
          21.706139473684214,
          21.573899301378447,
          21.480484035087716,
          21.58357158163265,
          21.632176381578947,
          21.870047500797448,
          22.03957546875,
          22.20450543859649,
          22.183886315789476,
          22.279739099378883,
          22.3132835645933,
          21.97321468253968
         ],
         "legendgroup": "SCOPE-PARAGON",
         "lon": [
          204.13002768363216,
          204.72789842105263,
          204.72807194078948,
          204.5868388294956,
          204.3619364144737,
          204.05866443877554,
          203.93199914473686,
          203.67132427591707,
          203.60601713541666,
          203.64441086466164,
          203.7086580263158,
          203.71079004658387,
          203.58544801435406,
          203.28144027777776
         ],
         "marker": {
          "color": "#FECB52",
          "symbol": "circle"
         },
         "mode": "markers",
         "name": "SCOPE-PARAGON",
         "showlegend": true,
         "type": "scattergeo"
        },
        {
         "geo": "geo",
         "hovertemplate": "cruise=TN397_740<br>lat=%{lat}<br>lon=%{lon}<extra></extra>",
         "lat": [
          30.725372316883856,
          29.070064257667173,
          27.277935911864347,
          24.416892015391934,
          22.12512633614772,
          19.894592383651247,
          19.573068895797185,
          18.12474271737336,
          14.531903245841931,
          11.228690879579387,
          10.670430365691324,
          9.014802390978081,
          5.331864818497181,
          4.601277829347596,
          1.728989502943161,
          0.13173915070473866,
          0.33501382730533225,
          0.1975481640239778,
          2.9382184166246486,
          6.100278512434933,
          9.004888095539638,
          11.32535019405701,
          14.193333973824421,
          17.487108114426952,
          19.747794486320693
         ],
         "legendgroup": "TN397_740",
         "lon": [
          239.48605762614477,
          236.66627765555555,
          233.67810305417547,
          228.9822288033804,
          225.30325989119262,
          221.78597157426083,
          221.40711902051135,
          220.27176733389388,
          219.99986795913037,
          220.0014531223872,
          219.9772833178983,
          219.98806018958723,
          220.00238591307223,
          220.04100154365062,
          219.99727939020795,
          220.06169115797263,
          220.20147754486018,
          218.01819065006634,
          215.98447771068635,
          213.64628159959994,
          211.4862943356494,
          209.75032550257114,
          207.57637983225735,
          205.02960824546838,
          203.28384498705677
         ],
         "marker": {
          "color": "#636efa",
          "symbol": "circle"
         },
         "mode": "markers",
         "name": "TN397_740",
         "showlegend": true,
         "type": "scattergeo"
        },
        {
         "geo": "geo",
         "hovertemplate": "cruise=TN398<br>lat=%{lat}<br>lon=%{lon}<extra></extra>",
         "lat": [
          21.22621689102564,
          22.41445919183536,
          23.183441533139607,
          24.080042145205827,
          25.554742814312398,
          27.061060847911,
          28.35268305322858,
          29.513631496379983,
          30.573128557474128,
          31.44037286744994,
          32.08995719461454,
          32.55879644431023,
          32.94788512286324
         ],
         "legendgroup": "TN398",
         "lon": [
          202.07752420329672,
          202.1622092112011,
          202.90284913231307,
          206.36276755941392,
          210.26497479198818,
          214.75838582034467,
          219.125407907015,
          223.51158595043677,
          228.1859760215103,
          233.00711173355947,
          237.87292519891616,
          241.23596195946172,
          241.55974678952992
         ],
         "marker": {
          "color": "#EF553B",
          "symbol": "circle"
         },
         "mode": "markers",
         "name": "TN398",
         "showlegend": true,
         "type": "scattergeo"
        }
       ],
       "layout": {
        "geo": {
         "center": {},
         "domain": {
          "x": [
           0,
           1
          ],
          "y": [
           0,
           1
          ]
         }
        },
        "legend": {
         "title": {
          "text": "cruise"
         },
         "tracegroupgap": 0
        },
        "margin": {
         "t": 60
        },
        "template": {
         "data": {
          "bar": [
           {
            "error_x": {
             "color": "#2a3f5f"
            },
            "error_y": {
             "color": "#2a3f5f"
            },
            "marker": {
             "line": {
              "color": "#E5ECF6",
              "width": 0.5
             },
             "pattern": {
              "fillmode": "overlay",
              "size": 10,
              "solidity": 0.2
             }
            },
            "type": "bar"
           }
          ],
          "barpolar": [
           {
            "marker": {
             "line": {
              "color": "#E5ECF6",
              "width": 0.5
             },
             "pattern": {
              "fillmode": "overlay",
              "size": 10,
              "solidity": 0.2
             }
            },
            "type": "barpolar"
           }
          ],
          "carpet": [
           {
            "aaxis": {
             "endlinecolor": "#2a3f5f",
             "gridcolor": "white",
             "linecolor": "white",
             "minorgridcolor": "white",
             "startlinecolor": "#2a3f5f"
            },
            "baxis": {
             "endlinecolor": "#2a3f5f",
             "gridcolor": "white",
             "linecolor": "white",
             "minorgridcolor": "white",
             "startlinecolor": "#2a3f5f"
            },
            "type": "carpet"
           }
          ],
          "choropleth": [
           {
            "colorbar": {
             "outlinewidth": 0,
             "ticks": ""
            },
            "type": "choropleth"
           }
          ],
          "contour": [
           {
            "colorbar": {
             "outlinewidth": 0,
             "ticks": ""
            },
            "colorscale": [
             [
              0,
              "#0d0887"
             ],
             [
              0.1111111111111111,
              "#46039f"
             ],
             [
              0.2222222222222222,
              "#7201a8"
             ],
             [
              0.3333333333333333,
              "#9c179e"
             ],
             [
              0.4444444444444444,
              "#bd3786"
             ],
             [
              0.5555555555555556,
              "#d8576b"
             ],
             [
              0.6666666666666666,
              "#ed7953"
             ],
             [
              0.7777777777777778,
              "#fb9f3a"
             ],
             [
              0.8888888888888888,
              "#fdca26"
             ],
             [
              1,
              "#f0f921"
             ]
            ],
            "type": "contour"
           }
          ],
          "contourcarpet": [
           {
            "colorbar": {
             "outlinewidth": 0,
             "ticks": ""
            },
            "type": "contourcarpet"
           }
          ],
          "heatmap": [
           {
            "colorbar": {
             "outlinewidth": 0,
             "ticks": ""
            },
            "colorscale": [
             [
              0,
              "#0d0887"
             ],
             [
              0.1111111111111111,
              "#46039f"
             ],
             [
              0.2222222222222222,
              "#7201a8"
             ],
             [
              0.3333333333333333,
              "#9c179e"
             ],
             [
              0.4444444444444444,
              "#bd3786"
             ],
             [
              0.5555555555555556,
              "#d8576b"
             ],
             [
              0.6666666666666666,
              "#ed7953"
             ],
             [
              0.7777777777777778,
              "#fb9f3a"
             ],
             [
              0.8888888888888888,
              "#fdca26"
             ],
             [
              1,
              "#f0f921"
             ]
            ],
            "type": "heatmap"
           }
          ],
          "heatmapgl": [
           {
            "colorbar": {
             "outlinewidth": 0,
             "ticks": ""
            },
            "colorscale": [
             [
              0,
              "#0d0887"
             ],
             [
              0.1111111111111111,
              "#46039f"
             ],
             [
              0.2222222222222222,
              "#7201a8"
             ],
             [
              0.3333333333333333,
              "#9c179e"
             ],
             [
              0.4444444444444444,
              "#bd3786"
             ],
             [
              0.5555555555555556,
              "#d8576b"
             ],
             [
              0.6666666666666666,
              "#ed7953"
             ],
             [
              0.7777777777777778,
              "#fb9f3a"
             ],
             [
              0.8888888888888888,
              "#fdca26"
             ],
             [
              1,
              "#f0f921"
             ]
            ],
            "type": "heatmapgl"
           }
          ],
          "histogram": [
           {
            "marker": {
             "pattern": {
              "fillmode": "overlay",
              "size": 10,
              "solidity": 0.2
             }
            },
            "type": "histogram"
           }
          ],
          "histogram2d": [
           {
            "colorbar": {
             "outlinewidth": 0,
             "ticks": ""
            },
            "colorscale": [
             [
              0,
              "#0d0887"
             ],
             [
              0.1111111111111111,
              "#46039f"
             ],
             [
              0.2222222222222222,
              "#7201a8"
             ],
             [
              0.3333333333333333,
              "#9c179e"
             ],
             [
              0.4444444444444444,
              "#bd3786"
             ],
             [
              0.5555555555555556,
              "#d8576b"
             ],
             [
              0.6666666666666666,
              "#ed7953"
             ],
             [
              0.7777777777777778,
              "#fb9f3a"
             ],
             [
              0.8888888888888888,
              "#fdca26"
             ],
             [
              1,
              "#f0f921"
             ]
            ],
            "type": "histogram2d"
           }
          ],
          "histogram2dcontour": [
           {
            "colorbar": {
             "outlinewidth": 0,
             "ticks": ""
            },
            "colorscale": [
             [
              0,
              "#0d0887"
             ],
             [
              0.1111111111111111,
              "#46039f"
             ],
             [
              0.2222222222222222,
              "#7201a8"
             ],
             [
              0.3333333333333333,
              "#9c179e"
             ],
             [
              0.4444444444444444,
              "#bd3786"
             ],
             [
              0.5555555555555556,
              "#d8576b"
             ],
             [
              0.6666666666666666,
              "#ed7953"
             ],
             [
              0.7777777777777778,
              "#fb9f3a"
             ],
             [
              0.8888888888888888,
              "#fdca26"
             ],
             [
              1,
              "#f0f921"
             ]
            ],
            "type": "histogram2dcontour"
           }
          ],
          "mesh3d": [
           {
            "colorbar": {
             "outlinewidth": 0,
             "ticks": ""
            },
            "type": "mesh3d"
           }
          ],
          "parcoords": [
           {
            "line": {
             "colorbar": {
              "outlinewidth": 0,
              "ticks": ""
             }
            },
            "type": "parcoords"
           }
          ],
          "pie": [
           {
            "automargin": true,
            "type": "pie"
           }
          ],
          "scatter": [
           {
            "fillpattern": {
             "fillmode": "overlay",
             "size": 10,
             "solidity": 0.2
            },
            "type": "scatter"
           }
          ],
          "scatter3d": [
           {
            "line": {
             "colorbar": {
              "outlinewidth": 0,
              "ticks": ""
             }
            },
            "marker": {
             "colorbar": {
              "outlinewidth": 0,
              "ticks": ""
             }
            },
            "type": "scatter3d"
           }
          ],
          "scattercarpet": [
           {
            "marker": {
             "colorbar": {
              "outlinewidth": 0,
              "ticks": ""
             }
            },
            "type": "scattercarpet"
           }
          ],
          "scattergeo": [
           {
            "marker": {
             "colorbar": {
              "outlinewidth": 0,
              "ticks": ""
             }
            },
            "type": "scattergeo"
           }
          ],
          "scattergl": [
           {
            "marker": {
             "colorbar": {
              "outlinewidth": 0,
              "ticks": ""
             }
            },
            "type": "scattergl"
           }
          ],
          "scattermapbox": [
           {
            "marker": {
             "colorbar": {
              "outlinewidth": 0,
              "ticks": ""
             }
            },
            "type": "scattermapbox"
           }
          ],
          "scatterpolar": [
           {
            "marker": {
             "colorbar": {
              "outlinewidth": 0,
              "ticks": ""
             }
            },
            "type": "scatterpolar"
           }
          ],
          "scatterpolargl": [
           {
            "marker": {
             "colorbar": {
              "outlinewidth": 0,
              "ticks": ""
             }
            },
            "type": "scatterpolargl"
           }
          ],
          "scatterternary": [
           {
            "marker": {
             "colorbar": {
              "outlinewidth": 0,
              "ticks": ""
             }
            },
            "type": "scatterternary"
           }
          ],
          "surface": [
           {
            "colorbar": {
             "outlinewidth": 0,
             "ticks": ""
            },
            "colorscale": [
             [
              0,
              "#0d0887"
             ],
             [
              0.1111111111111111,
              "#46039f"
             ],
             [
              0.2222222222222222,
              "#7201a8"
             ],
             [
              0.3333333333333333,
              "#9c179e"
             ],
             [
              0.4444444444444444,
              "#bd3786"
             ],
             [
              0.5555555555555556,
              "#d8576b"
             ],
             [
              0.6666666666666666,
              "#ed7953"
             ],
             [
              0.7777777777777778,
              "#fb9f3a"
             ],
             [
              0.8888888888888888,
              "#fdca26"
             ],
             [
              1,
              "#f0f921"
             ]
            ],
            "type": "surface"
           }
          ],
          "table": [
           {
            "cells": {
             "fill": {
              "color": "#EBF0F8"
             },
             "line": {
              "color": "white"
             }
            },
            "header": {
             "fill": {
              "color": "#C8D4E3"
             },
             "line": {
              "color": "white"
             }
            },
            "type": "table"
           }
          ]
         },
         "layout": {
          "annotationdefaults": {
           "arrowcolor": "#2a3f5f",
           "arrowhead": 0,
           "arrowwidth": 1
          },
          "autotypenumbers": "strict",
          "coloraxis": {
           "colorbar": {
            "outlinewidth": 0,
            "ticks": ""
           }
          },
          "colorscale": {
           "diverging": [
            [
             0,
             "#8e0152"
            ],
            [
             0.1,
             "#c51b7d"
            ],
            [
             0.2,
             "#de77ae"
            ],
            [
             0.3,
             "#f1b6da"
            ],
            [
             0.4,
             "#fde0ef"
            ],
            [
             0.5,
             "#f7f7f7"
            ],
            [
             0.6,
             "#e6f5d0"
            ],
            [
             0.7,
             "#b8e186"
            ],
            [
             0.8,
             "#7fbc41"
            ],
            [
             0.9,
             "#4d9221"
            ],
            [
             1,
             "#276419"
            ]
           ],
           "sequential": [
            [
             0,
             "#0d0887"
            ],
            [
             0.1111111111111111,
             "#46039f"
            ],
            [
             0.2222222222222222,
             "#7201a8"
            ],
            [
             0.3333333333333333,
             "#9c179e"
            ],
            [
             0.4444444444444444,
             "#bd3786"
            ],
            [
             0.5555555555555556,
             "#d8576b"
            ],
            [
             0.6666666666666666,
             "#ed7953"
            ],
            [
             0.7777777777777778,
             "#fb9f3a"
            ],
            [
             0.8888888888888888,
             "#fdca26"
            ],
            [
             1,
             "#f0f921"
            ]
           ],
           "sequentialminus": [
            [
             0,
             "#0d0887"
            ],
            [
             0.1111111111111111,
             "#46039f"
            ],
            [
             0.2222222222222222,
             "#7201a8"
            ],
            [
             0.3333333333333333,
             "#9c179e"
            ],
            [
             0.4444444444444444,
             "#bd3786"
            ],
            [
             0.5555555555555556,
             "#d8576b"
            ],
            [
             0.6666666666666666,
             "#ed7953"
            ],
            [
             0.7777777777777778,
             "#fb9f3a"
            ],
            [
             0.8888888888888888,
             "#fdca26"
            ],
            [
             1,
             "#f0f921"
            ]
           ]
          },
          "colorway": [
           "#636efa",
           "#EF553B",
           "#00cc96",
           "#ab63fa",
           "#FFA15A",
           "#19d3f3",
           "#FF6692",
           "#B6E880",
           "#FF97FF",
           "#FECB52"
          ],
          "font": {
           "color": "#2a3f5f"
          },
          "geo": {
           "bgcolor": "white",
           "lakecolor": "white",
           "landcolor": "#E5ECF6",
           "showlakes": true,
           "showland": true,
           "subunitcolor": "white"
          },
          "hoverlabel": {
           "align": "left"
          },
          "hovermode": "closest",
          "mapbox": {
           "style": "light"
          },
          "paper_bgcolor": "white",
          "plot_bgcolor": "#E5ECF6",
          "polar": {
           "angularaxis": {
            "gridcolor": "white",
            "linecolor": "white",
            "ticks": ""
           },
           "bgcolor": "#E5ECF6",
           "radialaxis": {
            "gridcolor": "white",
            "linecolor": "white",
            "ticks": ""
           }
          },
          "scene": {
           "xaxis": {
            "backgroundcolor": "#E5ECF6",
            "gridcolor": "white",
            "gridwidth": 2,
            "linecolor": "white",
            "showbackground": true,
            "ticks": "",
            "zerolinecolor": "white"
           },
           "yaxis": {
            "backgroundcolor": "#E5ECF6",
            "gridcolor": "white",
            "gridwidth": 2,
            "linecolor": "white",
            "showbackground": true,
            "ticks": "",
            "zerolinecolor": "white"
           },
           "zaxis": {
            "backgroundcolor": "#E5ECF6",
            "gridcolor": "white",
            "gridwidth": 2,
            "linecolor": "white",
            "showbackground": true,
            "ticks": "",
            "zerolinecolor": "white"
           }
          },
          "shapedefaults": {
           "line": {
            "color": "#2a3f5f"
           }
          },
          "ternary": {
           "aaxis": {
            "gridcolor": "white",
            "linecolor": "white",
            "ticks": ""
           },
           "baxis": {
            "gridcolor": "white",
            "linecolor": "white",
            "ticks": ""
           },
           "bgcolor": "#E5ECF6",
           "caxis": {
            "gridcolor": "white",
            "linecolor": "white",
            "ticks": ""
           }
          },
          "title": {
           "x": 0.05
          },
          "xaxis": {
           "automargin": true,
           "gridcolor": "white",
           "linecolor": "white",
           "ticks": "",
           "title": {
            "standoff": 15
           },
           "zerolinecolor": "white",
           "zerolinewidth": 2
          },
          "yaxis": {
           "automargin": true,
           "gridcolor": "white",
           "linecolor": "white",
           "ticks": "",
           "title": {
            "standoff": 15
           },
           "zerolinecolor": "white",
           "zerolinewidth": 2
          }
         }
        }
       }
      },
      "text/html": [
       "<div>                            <div id=\"afd94786-d0bc-44f2-b03e-c6406b90bd62\" class=\"plotly-graph-div\" style=\"height:525px; width:100%;\"></div>            <script type=\"text/javascript\">                require([\"plotly\"], function(Plotly) {                    window.PLOTLYENV=window.PLOTLYENV || {};                                    if (document.getElementById(\"afd94786-d0bc-44f2-b03e-c6406b90bd62\")) {                    Plotly.newPlot(                        \"afd94786-d0bc-44f2-b03e-c6406b90bd62\",                        [{\"geo\":\"geo\",\"hovertemplate\":\"cruise=Thompson_1<br>lat=%{lat}<br>lon=%{lon}<extra></extra>\",\"lat\":[49.94211666666666,50.56388726006192,51.740366447368416,52.91259409732525,53.607746563390315],\"legendgroup\":\"Thompson_1\",\"lon\":[223.6929111111111,219.23455527283284,210.50745405701753,201.63565756326435,196.26889788105413],\"marker\":{\"color\":\"#636efa\",\"symbol\":\"circle\"},\"mode\":\"markers\",\"name\":\"Thompson_1\",\"showlegend\":true,\"type\":\"scattergeo\"},{\"geo\":\"geo\",\"hovertemplate\":\"cruise=Tokyo_3<br>lat=%{lat}<br>lon=%{lon}<extra></extra>\",\"lat\":[22.12517970238095,26.160285809132386,28.48502472136223,31.115856546863522,34.418607491104304,37.733478145188336,40.81642613914924,43.16203428244524,44.29729757565789,44.473712774535024,43.51068746666667,41.15395498627658,37.697621813957056,35.66600547927125],\"legendgroup\":\"Tokyo_3\",\"lon\":[114.7688550595238,122.17550866592472,128.51694541408668,135.4895207165132,144.29849887233516,153.48869374064756,162.9953969033886,173.9224328522393,183.2597366348684,195.68742940987337,206.95113360000002,219.22613135348308,231.1657783373295,234.90976691534414],\"marker\":{\"color\":\"#EF553B\",\"symbol\":\"circle\"},\"mode\":\"markers\",\"name\":\"Tokyo_3\",\"showlegend\":true,\"type\":\"scattergeo\"},{\"geo\":\"geo\",\"hovertemplate\":\"cruise=MBARI_1<br>lat=%{lat}<br>lon=%{lon}<extra></extra>\",\"lat\":[39.04384820157954,37.434410960783005,35.58906658718933,34.516886819731624,33.91322327679094,33.76954046378383,34.318827931881785,35.41818579454602,36.056010508114035,35.9775556685307,35.96733219078947,36.451495284966306],\"legendgroup\":\"MBARI_1\",\"lon\":[228.24855540550465,232.0390484092251,234.87057763919958,233.1262151344455,232.00957801955408,232.10716392152375,233.16654297211778,235.51505160746325,236.5047973648026,236.4245338486842,236.32477200164476,237.05902595336917],\"marker\":{\"color\":\"#00cc96\",\"symbol\":\"circle\"},\"mode\":\"markers\",\"name\":\"MBARI_1\",\"showlegend\":true,\"type\":\"scattergeo\"},{\"geo\":\"geo\",\"hovertemplate\":\"cruise=Thompson_9<br>lat=%{lat}<br>lon=%{lon}<extra></extra>\",\"lat\":[46.446778242196395,44.1602982642165,39.740230968871835,35.51817016203704,31.34824877741228,27.257630021929824,24.726384223927877,22.778580219298245,21.245729411764707],\"legendgroup\":\"Thompson_9\",\"lon\":[231.33315142971063,229.0051522716616,225.4088797115619,221.44980847222223,217.57037694901317,213.74913400219296,208.9032847417154,204.0373092653509,202.18815294117647],\"marker\":{\"color\":\"#ab63fa\",\"symbol\":\"circle\"},\"mode\":\"markers\",\"name\":\"Thompson_9\",\"showlegend\":true,\"type\":\"scattergeo\"},{\"geo\":\"geo\",\"hovertemplate\":\"cruise=Thompson_10<br>lat=%{lat}<br>lon=%{lon}<extra></extra>\",\"lat\":[48.2254454887218,48.63565383855218,48.798116947393,48.70432159926471,48.64096726973684,48.576726145833334,48.2600775],\"legendgroup\":\"Thompson_10\",\"lon\":[236.73789218045113,233.56407009039853,231.58013046316773,232.7315297977941,233.46226125,234.42818604166666,236.41993875],\"marker\":{\"color\":\"#FFA15A\",\"symbol\":\"circle\"},\"mode\":\"markers\",\"name\":\"Thompson_10\",\"showlegend\":true,\"type\":\"scattergeo\"},{\"geo\":\"geo\",\"hovertemplate\":\"cruise=MBARI_2<br>lat=%{lat}<br>lon=%{lon}<extra></extra>\",\"lat\":[36.539805688669595,35.97371377467105,35.946732052083334,36.27851036979167,36.14088807826511,35.94122983188406,35.74237849738147,36.45683258319789,36.50470188571429],\"legendgroup\":\"MBARI_2\",\"lon\":[237.42822759765036,236.19248571567985,236.30740040833336,237.64069254218748,237.77004785140105,237.68349672463765,237.61374469528508,237.38866796891773,237.406009325],\"marker\":{\"color\":\"#19d3f3\",\"symbol\":\"circle\"},\"mode\":\"markers\",\"name\":\"MBARI_2\",\"showlegend\":true,\"type\":\"scattergeo\"},{\"geo\":\"geo\",\"hovertemplate\":\"cruise=Thompson_12<br>lat=%{lat}<br>lon=%{lon}<extra></extra>\",\"lat\":[47.91424566269842,47.59369705000144,44.144114524877686,40.45919948788377,36.827687413149825,33.470171476921905,30.3282437773786,26.870698000462962,24.842403056862747],\"legendgroup\":\"Thompson_12\",\"lon\":[237.48588037301587,234.17012133280943,228.93319594905785,224.13326322856358,219.6484909040339,215.69263857443045,212.12335095514348,208.34558283184626,206.17544227745097],\"marker\":{\"color\":\"#FF6692\",\"symbol\":\"circle\"},\"mode\":\"markers\",\"name\":\"Thompson_12\",\"showlegend\":true,\"type\":\"scattergeo\"},{\"geo\":\"geo\",\"hovertemplate\":\"cruise=MBARI_3<br>lat=%{lat}<br>lon=%{lon}<extra></extra>\",\"lat\":[36.70781744078144,35.76512051568315,33.957137635103386,33.29592622128237,33.28918724278173,33.45490641447369,34.81789753054845,35.931525493893226,36.1294541885965,36.13023129180602,36.43495238866397],\"legendgroup\":\"MBARI_3\",\"lon\":[237.82425054212453,236.53062477405635,235.12118150023494,231.68869111528824,230.57501557706485,230.9036653618421,233.75640378516624,236.11794472141779,236.5785198026316,236.6404029750484,237.18713944565556],\"marker\":{\"color\":\"#B6E880\",\"symbol\":\"circle\"},\"mode\":\"markers\",\"name\":\"MBARI_3\",\"showlegend\":true,\"type\":\"scattergeo\"},{\"geo\":\"geo\",\"hovertemplate\":\"cruise=SCOPE_1<br>lat=%{lat}<br>lon=%{lon}<extra></extra>\",\"lat\":[22.290180365067076,22.773843657407408,22.772269103487886,22.67434],\"legendgroup\":\"SCOPE_1\",\"lon\":[201.96286871581526,202.0203088340643,201.983536750731,201.9682738888889],\"marker\":{\"color\":\"#FF97FF\",\"symbol\":\"circle\"},\"mode\":\"markers\",\"name\":\"SCOPE_1\",\"showlegend\":true,\"type\":\"scattergeo\"},{\"geo\":\"geo\",\"hovertemplate\":\"cruise=SCOPE_2<br>lat=%{lat}<br>lon=%{lon}<extra></extra>\",\"lat\":[44.88910873199834,42.026058657513346,39.02237938596492,35.91279018274854,32.827968541666664,29.669941260964908,26.553926206140353,23.97815375,22.42674875],\"legendgroup\":\"SCOPE_2\",\"lon\":[233.7783090706158,229.45424173404524,225.12467991228073,220.8239919152047,216.72378854166666,212.67624414473684,208.80496792763157,205.68543375000002,203.83453124999997],\"marker\":{\"color\":\"#FECB52\",\"symbol\":\"circle\"},\"mode\":\"markers\",\"name\":\"SCOPE_2\",\"showlegend\":true,\"type\":\"scattergeo\"},{\"geo\":\"geo\",\"hovertemplate\":\"cruise=SCOPE_3<br>lat=%{lat}<br>lon=%{lon}<extra></extra>\",\"lat\":[21.343488333333333,22.479078728531853,22.76517,22.77021442105263,21.8111231372549],\"legendgroup\":\"SCOPE_3\",\"lon\":[201.72628333333336,201.91796498654531,201.97337041666665,201.9914177368421,201.83503647058822],\"marker\":{\"color\":\"#636efa\",\"symbol\":\"circle\"},\"mode\":\"markers\",\"name\":\"SCOPE_3\",\"showlegend\":true,\"type\":\"scattergeo\"},{\"geo\":\"geo\",\"hovertemplate\":\"cruise=SCOPE_4<br>lat=%{lat}<br>lon=%{lon}<extra></extra>\",\"lat\":[21.342839523809527,22.201997692307692,22.720887333333334],\"legendgroup\":\"SCOPE_4\",\"lon\":[201.7274430952381,201.84467423076924,201.98936733333332],\"marker\":{\"color\":\"#EF553B\",\"symbol\":\"circle\"},\"mode\":\"markers\",\"name\":\"SCOPE_4\",\"showlegend\":true,\"type\":\"scattergeo\"},{\"geo\":\"geo\",\"hovertemplate\":\"cruise=SCOPE_5<br>lat=%{lat}<br>lon=%{lon}<extra></extra>\",\"lat\":[21.342908214285714,22.40319510526316,22.740705462184877,22.732425051487414,22.35891213235294],\"legendgroup\":\"SCOPE_5\",\"lon\":[201.72616142857143,201.8965657631579,201.93407132352942,201.95835445366134,201.87201113970588],\"marker\":{\"color\":\"#00cc96\",\"symbol\":\"circle\"},\"mode\":\"markers\",\"name\":\"SCOPE_5\",\"showlegend\":true,\"type\":\"scattergeo\"},{\"geo\":\"geo\",\"hovertemplate\":\"cruise=SCOPE_6<br>lat=%{lat}<br>lon=%{lon}<extra></extra>\",\"lat\":[22.892250763321346,24.303250618421053,24.45039140350877,24.549817362329435,24.589295056818184,24.57429570631123,24.548305131709483,24.50823788011696,24.411490913461538,24.347626593567252,24.166016159420288,22.607146917293232],\"legendgroup\":\"SCOPE_6\",\"lon\":[202.52204770022882,203.19679464473683,203.26581254020468,203.40143333698828,203.53970893939393,203.6303212320574,203.67670803767228,203.6957281115288,203.67446384615386,203.63945748781677,203.53873033816427,202.96472488721807],\"marker\":{\"color\":\"#ab63fa\",\"symbol\":\"circle\"},\"mode\":\"markers\",\"name\":\"SCOPE_6\",\"showlegend\":true,\"type\":\"scattergeo\"},{\"geo\":\"geo\",\"hovertemplate\":\"cruise=SCOPE_9<br>lat=%{lat}<br>lon=%{lon}<extra></extra>\",\"lat\":[21.308455548245615],\"legendgroup\":\"SCOPE_9\",\"lon\":[201.90351365131576],\"marker\":{\"color\":\"#FFA15A\",\"symbol\":\"circle\"},\"mode\":\"markers\",\"name\":\"SCOPE_9\",\"showlegend\":true,\"type\":\"scattergeo\"},{\"geo\":\"geo\",\"hovertemplate\":\"cruise=SCOPE_10<br>lat=%{lat}<br>lon=%{lon}<extra></extra>\",\"lat\":[22.75594875,22.762298638974887],\"legendgroup\":\"SCOPE_10\",\"lon\":[201.9726221875,201.969118874785],\"marker\":{\"color\":\"#19d3f3\",\"symbol\":\"circle\"},\"mode\":\"markers\",\"name\":\"SCOPE_10\",\"showlegend\":true,\"type\":\"scattergeo\"},{\"geo\":\"geo\",\"hovertemplate\":\"cruise=SCOPE_11<br>lat=%{lat}<br>lon=%{lon}<extra></extra>\",\"lat\":[21.34377058823529,22.441085694444443,22.752174977894175,22.732337780693054,22.469345789473685],\"legendgroup\":\"SCOPE_11\",\"lon\":[201.72592352941177,201.91343708333332,201.97202259919464,202.00219770498293,201.9312052631579],\"marker\":{\"color\":\"#FF6692\",\"symbol\":\"circle\"},\"mode\":\"markers\",\"name\":\"SCOPE_11\",\"showlegend\":true,\"type\":\"scattergeo\"},{\"geo\":\"geo\",\"hovertemplate\":\"cruise=SCOPE_12<br>lat=%{lat}<br>lon=%{lon}<extra></extra>\",\"lat\":[21.3084725,22.361473514056225,22.731659460411386,22.7138975,22.22227375],\"legendgroup\":\"SCOPE_12\",\"lon\":[201.80103125,201.89582401606427,201.99977183431955,202.01219708333335,201.816666875],\"marker\":{\"color\":\"#B6E880\",\"symbol\":\"circle\"},\"mode\":\"markers\",\"name\":\"SCOPE_12\",\"showlegend\":true,\"type\":\"scattergeo\"},{\"geo\":\"geo\",\"hovertemplate\":\"cruise=SCOPE_13<br>lat=%{lat}<br>lon=%{lon}<extra></extra>\",\"lat\":[21.343505,22.454132240497074,22.746149624060152,22.736153891278764,22.311626041666667],\"legendgroup\":\"SCOPE_13\",\"lon\":[201.72613249999998,201.92696963572124,202.05888631578947,202.12435798196734,201.88159375],\"marker\":{\"color\":\"#FF97FF\",\"symbol\":\"circle\"},\"mode\":\"markers\",\"name\":\"SCOPE_13\",\"showlegend\":true,\"type\":\"scattergeo\"},{\"geo\":\"geo\",\"hovertemplate\":\"cruise=SCOPE_14<br>lat=%{lat}<br>lon=%{lon}<extra></extra>\",\"lat\":[22.599253636363635,22.668711103565364,22.672396666666668],\"legendgroup\":\"SCOPE_14\",\"lon\":[201.9462032960558,201.99216278438033,201.96616000000003],\"marker\":{\"color\":\"#FECB52\",\"symbol\":\"circle\"},\"mode\":\"markers\",\"name\":\"SCOPE_14\",\"showlegend\":true,\"type\":\"scattergeo\"},{\"geo\":\"geo\",\"hovertemplate\":\"cruise=SCOPE_15<br>lat=%{lat}<br>lon=%{lon}<extra></extra>\",\"lat\":[22.342373,22.75169794736842,22.729039488636364,22.02827965116279,21.571499999999997],\"legendgroup\":\"SCOPE_15\",\"lon\":[201.851744,202.01130357894738,202.02930221590907,201.77106680232558,201.65719999999996],\"marker\":{\"color\":\"#636efa\",\"symbol\":\"circle\"},\"mode\":\"markers\",\"name\":\"SCOPE_15\",\"showlegend\":true,\"type\":\"scattergeo\"},{\"geo\":\"geo\",\"hovertemplate\":\"cruise=SCOPE_16<br>lat=%{lat}<br>lon=%{lon}<extra></extra>\",\"lat\":[22.883661853070176,24.390558333333335,27.439232230392157,28.97186833333333,31.869187529761902,33.6264689254386,36.73674354166667,36.96115645733652,36.08028918128655,36.01632629186603,33.63848395833333,30.28691104166667,27.090744077380954,25.2017125,23.07922333333333],\"legendgroup\":\"SCOPE_16\",\"lon\":[201.87945298245614,202.02547729166668,201.9977768259804,201.99574145833333,202.01103023809526,202.0051641776316,202.00290458333336,202.016243161882,202.03948788011695,202.00972867224883,201.99852465277777,201.99850125,201.96669116071428,201.96636583333333,202.00009888888889],\"marker\":{\"color\":\"#EF553B\",\"symbol\":\"circle\"},\"mode\":\"markers\",\"name\":\"SCOPE_16\",\"showlegend\":true,\"type\":\"scattergeo\"},{\"geo\":\"geo\",\"hovertemplate\":\"cruise=SCOPE_17<br>lat=%{lat}<br>lon=%{lon}<extra></extra>\",\"lat\":[22.809200000000004,23.58284232578397,23.46566879795396],\"legendgroup\":\"SCOPE_17\",\"lon\":[204.0786,203.16370087108012,203.24340464194373],\"marker\":{\"color\":\"#00cc96\",\"symbol\":\"circle\"},\"mode\":\"markers\",\"name\":\"SCOPE_17\",\"showlegend\":true,\"type\":\"scattergeo\"},{\"geo\":\"geo\",\"hovertemplate\":\"cruise=SCOPE_18<br>lat=%{lat}<br>lon=%{lon}<extra></extra>\",\"lat\":[22.748177916666666,22.727496805555557,22.741475917874396,21.797580460526316,21.2556],\"legendgroup\":\"SCOPE_18\",\"lon\":[201.99803416666666,201.9478161111111,201.98785502415458,201.94333912280703,202.0918],\"marker\":{\"color\":\"#ab63fa\",\"symbol\":\"circle\"},\"mode\":\"markers\",\"name\":\"SCOPE_18\",\"showlegend\":true,\"type\":\"scattergeo\"},{\"geo\":\"geo\",\"hovertemplate\":\"cruise=SCOPE_19<br>lat=%{lat}<br>lon=%{lon}<extra></extra>\",\"lat\":[22.748673750000002,22.74810958333333,22.754940833333333,21.92892375,21.7156],\"legendgroup\":\"SCOPE_19\",\"lon\":[202.0253125,202.01431916666664,202.0223220833333,201.71412979166666,201.6492],\"marker\":{\"color\":\"#FFA15A\",\"symbol\":\"circle\"},\"mode\":\"markers\",\"name\":\"SCOPE_19\",\"showlegend\":true,\"type\":\"scattergeo\"},{\"geo\":\"geo\",\"hovertemplate\":\"cruise=MGL1704<br>lat=%{lat}<br>lon=%{lon}<extra></extra>\",\"lat\":[23.41151,25.02322375,28.07081300865801,31.870573658421417,35.72558655982906,39.481651666666664,41.67218666666667,40.49778460317461,38.379043124999995,36.91502333333333,36.10623583333333,34.96950673913044,33.928888908333334,32.29018666666667,30.123228750000003,27.088801875,23.356810900735294],\"legendgroup\":\"MGL1704\",\"lon\":[201.99878166666667,201.99742325,202.00019134199135,202.00013805655445,202.00010929273503,201.99985375,202.001346875,202.001895,202.000258125,201.99952,202.00023583333333,202.00034967391306,202.00032843333332,202.00000083333333,201.99991770833333,202.1202920833333,202.30226080269608],\"marker\":{\"color\":\"#19d3f3\",\"symbol\":\"circle\"},\"mode\":\"markers\",\"name\":\"MGL1704\",\"showlegend\":true,\"type\":\"scattergeo\"},{\"geo\":\"geo\",\"hovertemplate\":\"cruise=HOT-294<br>lat=%{lat}<br>lon=%{lon}<extra></extra>\",\"lat\":[22.241212179769736,22.772795942028985,22.772124259259257,22.801235],\"legendgroup\":\"HOT-294\",\"lon\":[201.8535788805921,201.94693905797104,201.9815841666667,202.32349366666668],\"marker\":{\"color\":\"#FF6692\",\"symbol\":\"circle\"},\"mode\":\"markers\",\"name\":\"HOT-294\",\"showlegend\":true,\"type\":\"scattergeo\"},{\"geo\":\"geo\",\"hovertemplate\":\"cruise=MESO_SCOPE<br>lat=%{lat}<br>lon=%{lon}<extra></extra>\",\"lat\":[21.41995857142857,22.862349803545325,24.936585778841046,27.426306666666665,26.288338749999998,25.104643125,25.14232262696214,25.599494375000003,24.72849304388422,24.771090098039213,24.80414393592677,24.742449799498747,25.734292291666666,26.481646136363636,26.47374209876543,26.48871212820513,26.533017932692307,26.715931666666666,25.017333750000002,24.080232499999997],\"legendgroup\":\"MESO_SCOPE\",\"lon\":[202.39636,202.21602308114038,201.82015001993622,202.48984541666667,202.00862208333334,201.53704958333333,201.46239128808864,201.78783854166667,201.4954081232493,201.48488140271493,201.36847279176203,201.31743727652463,201.4580243154762,201.5236756818182,201.48236586419753,201.4343080769231,201.41248325320512,201.26339291666667,200.604574375,201.56860416666666],\"marker\":{\"color\":\"#B6E880\",\"symbol\":\"circle\"},\"mode\":\"markers\",\"name\":\"MESO_SCOPE\",\"showlegend\":true,\"type\":\"scattergeo\"},{\"geo\":\"geo\",\"hovertemplate\":\"cruise=KM1712<br>lat=%{lat}<br>lon=%{lon}<extra></extra>\",\"lat\":[22.443731320385695,24.03780249226006,27.375310646464648,27.779528949561403,26.59948783184042,25.861021375152625,27.82686222489312,28.98134429700734,32.747084794050345,35.260418555809814,35.228477913610675,35.25914341130604,37.53649638655462,41.59478292225663,41.74971810738968,41.77138822916666,44.12864796897221,48.71882357331456,49.73874142350361,49.69685547305764,49.812341130952376,49.881622625,50.02635697091488,53.24830193830722,57.32462565789474,59.98170520833334,59.969629175770315],\"legendgroup\":\"KM1712\",\"lon\":[201.9869345832111,202.5187616402219,204.50515122853534,204.73526570614035,204.2201226391869,204.12148952991453,204.9477195132828,205.40777834839074,207.28263022883294,208.99465497266718,208.9886626921121,209.00900271076998,209.96164782913164,211.66392080293446,211.76050907695375,211.75743424632353,211.3874391202327,210.5788767382503,210.30197303405575,210.3086508030493,210.82779205357144,210.7361669375,210.71936457062228,210.03608271490333,210.20557523245617,210.6534775,210.633155174941],\"marker\":{\"color\":\"#FF97FF\",\"symbol\":\"circle\"},\"mode\":\"markers\",\"name\":\"KM1712\",\"showlegend\":true,\"type\":\"scattergeo\"},{\"geo\":\"geo\",\"hovertemplate\":\"cruise=KM1713<br>lat=%{lat}<br>lon=%{lon}<extra></extra>\",\"lat\":[55.000403636363636,54.999684082602336,53.842724805194806,51.4965,49.96772340643275,49.887165380116954,48.263429181286554,46.305613209064326,46.006607272408964,45.98879396320663,42.9817057413755,41.99829638888889,42.0255857537594,39.08454664574515,34.709377708333335,34.005291581688596,33.89352073464912,30.19130356858054,24.82490617635592,24.162653311622805,23.642998296969697],\"legendgroup\":\"KM1713\",\"lon\":[212.78627163101604,212.78405776803118,213.31248772727272,214.35903500000003,214.99183141281233,214.82234625365496,209.77603961744637,203.22715610810113,201.97442602065826,202.05482930555556,201.99741386278197,202.00518323586746,202.05824447274435,201.99973966014693,202.00923833333334,202.0315748245614,202.031482752193,201.19241861642743,199.97608771089895,199.77338963355263,200.35668777575756],\"marker\":{\"color\":\"#FECB52\",\"symbol\":\"circle\"},\"mode\":\"markers\",\"name\":\"KM1713\",\"showlegend\":true,\"type\":\"scattergeo\"},{\"geo\":\"geo\",\"hovertemplate\":\"cruise=HOT297<br>lat=%{lat}<br>lon=%{lon}<extra></extra>\",\"lat\":[21.34307535,22.40027710490196,22.78678915090488,22.77555807,22.158171308333333],\"legendgroup\":\"HOT297\",\"lon\":[201.726296125,201.90649361895424,202.02422864791666,202.01751637249998,201.79289995],\"marker\":{\"color\":\"#636efa\",\"symbol\":\"circle\"},\"mode\":\"markers\",\"name\":\"HOT297\",\"showlegend\":true,\"type\":\"scattergeo\"},{\"geo\":\"geo\",\"hovertemplate\":\"cruise=HOT299<br>lat=%{lat}<br>lon=%{lon}<extra></extra>\",\"lat\":[21.343300555555555,22.50440570945463,22.799381453634084,22.7993],\"legendgroup\":\"HOT299\",\"lon\":[201.72685555555555,201.9317442829245,201.97641754385964,201.9765],\"marker\":{\"color\":\"#EF553B\",\"symbol\":\"circle\"},\"mode\":\"markers\",\"name\":\"HOT299\",\"showlegend\":true,\"type\":\"scattergeo\"},{\"geo\":\"geo\",\"hovertemplate\":\"cruise=SCOPE_Falkor1<br>lat=%{lat}<br>lon=%{lon}<extra></extra>\",\"lat\":[21.34776512383901,21.35252239389234,21.14696096153846,22.228925813953488,22.149455479452058,21.88580076923077,21.899000962148964,21.96135124102871,22.116727879699248,22.147926730549198,22.103372521367522,22.065351547987614,21.623375384615386],\"legendgroup\":\"SCOPE_Falkor1\",\"lon\":[201.68335525541795,201.68423060300208,203.18081814102564,203.89414514534883,204.38063897260275,203.92966961538463,204.02897502596235,204.01752758601887,203.94835479699248,203.85367989130435,203.9892959188034,203.571729752322,203.235535],\"marker\":{\"color\":\"#00cc96\",\"symbol\":\"circle\"},\"mode\":\"markers\",\"name\":\"SCOPE_Falkor1\",\"showlegend\":true,\"type\":\"scattergeo\"},{\"geo\":\"geo\",\"hovertemplate\":\"cruise=SCOPE_Falkor2<br>lat=%{lat}<br>lon=%{lon}<extra></extra>\",\"lat\":[22.102543275303645,22.261446049382716,22.349039411764707,22.06111699595142,22.304060241935485,22.260253433734942,22.17388662337662,22.133222103174603,22.106822469135803,23.30974773809524,24.572874772727275,24.56951634637188,23.97740208333333,22.657315476190476],\"legendgroup\":\"SCOPE_Falkor2\",\"lon\":[203.64908884210527,203.60072222222223,203.4196744117647,202.9943627651822,203.04254322580644,202.97188710843372,203.08251720779222,203.01772089947087,202.9693445679012,201.03357345238095,199.2334487121212,199.16461090702947,199.59651250000002,200.60473142857143],\"marker\":{\"color\":\"#ab63fa\",\"symbol\":\"circle\"},\"mode\":\"markers\",\"name\":\"SCOPE_Falkor2\",\"showlegend\":true,\"type\":\"scattergeo\"},{\"geo\":\"geo\",\"hovertemplate\":\"cruise=HOT301<br>lat=%{lat}<br>lon=%{lon}<extra></extra>\",\"lat\":[21.334377500000002,22.299036228729605,22.777105689655173,22.79072511393426,22.44333404761905],\"legendgroup\":\"HOT301\",\"lon\":[201.74009,201.85446493471528,202.00608867816092,201.98330476104056,201.92834266666665],\"marker\":{\"color\":\"#FFA15A\",\"symbol\":\"circle\"},\"mode\":\"markers\",\"name\":\"HOT301\",\"showlegend\":true,\"type\":\"scattergeo\"},{\"geo\":\"geo\",\"hovertemplate\":\"cruise=HOT302<br>lat=%{lat}<br>lon=%{lon}<extra></extra>\",\"lat\":[21.357672899159663,22.172726757575756,22.63865857142857,21.835099545454543,22.643185448717947],\"legendgroup\":\"HOT302\",\"lon\":[201.72351537815126,201.8255914280303,201.98560107142856,201.90957227272727,202.02912987179485],\"marker\":{\"color\":\"#19d3f3\",\"symbol\":\"circle\"},\"mode\":\"markers\",\"name\":\"HOT302\",\"showlegend\":true,\"type\":\"scattergeo\"},{\"geo\":\"geo\",\"hovertemplate\":\"cruise=HOT303<br>lat=%{lat}<br>lon=%{lon}<extra></extra>\",\"lat\":[21.35000625,22.342231274299053,22.784793227115408,22.756539684439357,22.19796533181818],\"legendgroup\":\"HOT303\",\"lon\":[201.72789625000001,201.88103110094076,201.997943075546,201.9949281731121,201.80644082272727],\"marker\":{\"color\":\"#FF6692\",\"symbol\":\"circle\"},\"mode\":\"markers\",\"name\":\"HOT303\",\"showlegend\":true,\"type\":\"scattergeo\"},{\"geo\":\"geo\",\"hovertemplate\":\"cruise=KOK1806<br>lat=%{lat}<br>lon=%{lon}<extra></extra>\",\"lat\":[19.514285833333332,19.427231875,18.928372291666665,19.286606460526315,20.4436775],\"legendgroup\":\"KOK1806\",\"lon\":[205.22164500000002,205.199066875,205.46221791666667,203.84118290789473,202.90804654411764],\"marker\":{\"color\":\"#B6E880\",\"symbol\":\"circle\"},\"mode\":\"markers\",\"name\":\"KOK1806\",\"showlegend\":true,\"type\":\"scattergeo\"},{\"geo\":\"geo\",\"hovertemplate\":\"cruise=HOT304<br>lat=%{lat}<br>lon=%{lon}<extra></extra>\",\"lat\":[21.34047,22.43257761574074,22.77233354166667,22.74404067982456,22.2991128125],\"legendgroup\":\"HOT304\",\"lon\":[201.73353,201.90573564814815,202.00810333333334,201.98232853070178,201.85041453125],\"marker\":{\"color\":\"#FF97FF\",\"symbol\":\"circle\"},\"mode\":\"markers\",\"name\":\"HOT304\",\"showlegend\":true,\"type\":\"scattergeo\"},{\"geo\":\"geo\",\"hovertemplate\":\"cruise=HOT307<br>lat=%{lat}<br>lon=%{lon}<extra></extra>\",\"lat\":[22.51694270132275,22.778209375,22.779945603070175,22.404795913461538],\"legendgroup\":\"HOT307\",\"lon\":[201.92560009550263,201.944944375,201.94283933114036,201.9162462980769],\"marker\":{\"color\":\"#FECB52\",\"symbol\":\"circle\"},\"mode\":\"markers\",\"name\":\"HOT307\",\"showlegend\":true,\"type\":\"scattergeo\"},{\"geo\":\"geo\",\"hovertemplate\":\"cruise=HOT308<br>lat=%{lat}<br>lon=%{lon}<extra></extra>\",\"lat\":[22.524115980528975,21.764404048402255],\"legendgroup\":\"HOT308\",\"lon\":[201.93601645899787,201.83938544407894],\"marker\":{\"color\":\"#636efa\",\"symbol\":\"circle\"},\"mode\":\"markers\",\"name\":\"HOT308\",\"showlegend\":true,\"type\":\"scattergeo\"},{\"geo\":\"geo\",\"hovertemplate\":\"cruise=HOT309<br>lat=%{lat}<br>lon=%{lon}<extra></extra>\",\"lat\":[22.388664609909032,22.7416256,22.77293309716599,22.171025824823253],\"legendgroup\":\"HOT309\",\"lon\":[201.89743724948016,201.9739884,201.9989687112011,201.94913518853102],\"marker\":{\"color\":\"#EF553B\",\"symbol\":\"circle\"},\"mode\":\"markers\",\"name\":\"HOT309\",\"showlegend\":true,\"type\":\"scattergeo\"},{\"geo\":\"geo\",\"hovertemplate\":\"cruise=HOT310<br>lat=%{lat}<br>lon=%{lon}<extra></extra>\",\"lat\":[21.340558333333334,22.457443853599518,22.739606287878786,22.75291272727273,22.811447333333334],\"legendgroup\":\"HOT310\",\"lon\":[201.72940055555557,201.9176023290986,202.0128906818182,202.02288928571429,202.07089066666668],\"marker\":{\"color\":\"#00cc96\",\"symbol\":\"circle\"},\"mode\":\"markers\",\"name\":\"HOT310\",\"showlegend\":true,\"type\":\"scattergeo\"},{\"geo\":\"geo\",\"hovertemplate\":\"cruise=KM1906<br>lat=%{lat}<br>lon=%{lon}<extra></extra>\",\"lat\":[22.731095000000003,25.27508819476227,28.858745953947366,31.93186625603865,35.364046337719294,38.37536374742002,41.4584291796875,41.65390657111529,41.61052272727272,39.126480028659614,36.946459228070175,34.33244166666667,33.128117256836944,35.97355673913044,40.14320802106763,40.785795937211454,36.45846181789737,32.123041633771926,27.370261346749228,23.589593541666666],\"legendgroup\":\"KM1906\",\"lon\":[201.99969083333335,201.99996760488176,202.0010275328947,201.9997985748792,202.00020949561403,202.00011154218268,201.970902648631,202.03364006200397,202.0745834090909,202.00044293540566,201.99958173684212,202.00009458333332,201.9999618234004,202.00000173913043,202.0000787374419,202.00023727262234,202.00006563204005,202.00036638157894,202.000755123839,201.94493375],\"marker\":{\"color\":\"#ab63fa\",\"symbol\":\"circle\"},\"mode\":\"markers\",\"name\":\"KM1906\",\"showlegend\":true,\"type\":\"scattergeo\"},{\"geo\":\"geo\",\"hovertemplate\":\"cruise=HOT312<br>lat=%{lat}<br>lon=%{lon}<extra></extra>\",\"lat\":[21.34300222222222,22.39399636363636,22.756559976973683,22.698206799199085,22.664235416666667],\"legendgroup\":\"HOT312\",\"lon\":[201.72769416666668,201.89983062500002,201.95824448026318,201.9704023283753,202.05271791666667],\"marker\":{\"color\":\"#FFA15A\",\"symbol\":\"circle\"},\"mode\":\"markers\",\"name\":\"HOT312\",\"showlegend\":true,\"type\":\"scattergeo\"},{\"geo\":\"geo\",\"hovertemplate\":\"cruise=HOT313<br>lat=%{lat}<br>lon=%{lon}<extra></extra>\",\"lat\":[21.34283157894737,22.39182238095238,22.78093634502924,22.773085000000002,22.318928333333336],\"legendgroup\":\"HOT313\",\"lon\":[201.72631254385965,201.91280214285715,201.97872421052634,201.9978559375,201.873065],\"marker\":{\"color\":\"#19d3f3\",\"symbol\":\"circle\"},\"mode\":\"markers\",\"name\":\"HOT313\",\"showlegend\":true,\"type\":\"scattergeo\"},{\"geo\":\"geo\",\"hovertemplate\":\"cruise=HOT314<br>lat=%{lat}<br>lon=%{lon}<extra></extra>\",\"lat\":[22.32778047987616,22.744527058823532,22.762650999999998,22.772215],\"legendgroup\":\"HOT314\",\"lon\":[201.8943094036174,201.97765529411765,202.02325150000001,202.09477333333334],\"marker\":{\"color\":\"#FF6692\",\"symbol\":\"circle\"},\"mode\":\"markers\",\"name\":\"HOT314\",\"showlegend\":true,\"type\":\"scattergeo\"},{\"geo\":\"geo\",\"hovertemplate\":\"cruise=HOT315<br>lat=%{lat}<br>lon=%{lon}<extra></extra>\",\"lat\":[21.33890166666667,22.570823192355892,22.726723135964914,22.686935625,22.13468396694215],\"legendgroup\":\"HOT315\",\"lon\":[201.73099333333334,201.941245018797,201.95926914473685,201.93668395833333,201.7946135123967],\"marker\":{\"color\":\"#B6E880\",\"symbol\":\"circle\"},\"mode\":\"markers\",\"name\":\"HOT315\",\"showlegend\":true,\"type\":\"scattergeo\"},{\"geo\":\"geo\",\"hovertemplate\":\"cruise=SR1917<br>lat=%{lat}<br>lon=%{lon}<extra></extra>\",\"lat\":[14.580276283966782,16.285986956601736,18.51007791587001,20.686059960340362,22.830960394915717,24.908798876407243,26.952399674662754,28.89688819087711,30.43699438329143,31.420462696849995,32.930271952478876,33.68915835673786,34.08271152541963,34.454511561962775,33.64685779875835,32.07212788549082,32.25439118194745,33.149542465338236,34.07018379539327,34.95056457078613,35.8257194706764,36.44305056750691],\"legendgroup\":\"SR1917\",\"lon\":[146.04049168076398,148.4515650157636,151.69890514275372,155.0422828183919,158.5546444931031,162.18508036150612,166.05690904213154,170.10493551116502,173.83313203941833,177.79720603040553,182.18130810980477,186.78226173908877,191.80701237194268,196.57674922354605,201.35950764477667,205.1844141018596,209.52110159992358,214.08073256813432,218.80154024650895,223.35792741422952,227.96219154916858,231.2199356880525],\"marker\":{\"color\":\"#FF97FF\",\"symbol\":\"circle\"},\"mode\":\"markers\",\"name\":\"SR1917\",\"showlegend\":true,\"type\":\"scattergeo\"},{\"geo\":\"geo\",\"hovertemplate\":\"cruise=KM1923_751<br>lat=%{lat}<br>lon=%{lon}<extra></extra>\",\"lat\":[2.0603403818755295,6.701828745855183,11.578250858497531,16.522297117394924,20.253549118231337],\"legendgroup\":\"KM1923_751\",\"lon\":[206.43353084921011,205.40924694637638,204.32174532640195,203.19948393046033,202.3461486046275],\"marker\":{\"color\":\"#FECB52\",\"symbol\":\"circle\"},\"mode\":\"markers\",\"name\":\"KM1923_751\",\"showlegend\":true,\"type\":\"scattergeo\"},{\"geo\":\"geo\",\"hovertemplate\":\"cruise=HOT317<br>lat=%{lat}<br>lon=%{lon}<extra></extra>\",\"lat\":[21.34342745643992,22.27869485154417,22.624238840555435,21.49909052465373],\"legendgroup\":\"HOT317\",\"lon\":[201.7274915068887,201.88109732810636,201.9627377718163,201.68470598380236],\"marker\":{\"color\":\"#636efa\",\"symbol\":\"circle\"},\"mode\":\"markers\",\"name\":\"HOT317\",\"showlegend\":true,\"type\":\"scattergeo\"},{\"geo\":\"geo\",\"hovertemplate\":\"cruise=HOT318<br>lat=%{lat}<br>lon=%{lon}<extra></extra>\",\"lat\":[21.345772464952734,22.26259603108925,22.719512911679043,22.2305542713954],\"legendgroup\":\"HOT318\",\"lon\":[201.73278606575786,201.87964112199427,201.99220993005,201.8723527527244],\"marker\":{\"color\":\"#EF553B\",\"symbol\":\"circle\"},\"mode\":\"markers\",\"name\":\"HOT318\",\"showlegend\":true,\"type\":\"scattergeo\"},{\"geo\":\"geo\",\"hovertemplate\":\"cruise=HOT319<br>lat=%{lat}<br>lon=%{lon}<extra></extra>\",\"lat\":[21.342649794884167,22.400101661543232,22.764798033989457,22.741388334799367,22.124362489131368],\"legendgroup\":\"HOT319\",\"lon\":[201.728688880711,201.91245243620295,201.92987180691316,201.97372132091712,201.91410878602494],\"marker\":{\"color\":\"#00cc96\",\"symbol\":\"circle\"},\"mode\":\"markers\",\"name\":\"HOT319\",\"showlegend\":true,\"type\":\"scattergeo\"},{\"geo\":\"geo\",\"hovertemplate\":\"cruise=HOT321<br>lat=%{lat}<br>lon=%{lon}<extra></extra>\",\"lat\":[21.330258931891557,22.535232764614122,22.766550352228595,22.763759236800098,22.752193505867627,21.90082610523012],\"legendgroup\":\"HOT321\",\"lon\":[201.75683857465688,201.94545772300725,201.99205307384423,201.9852423339561,202.0110501890949,201.66418982626445],\"marker\":{\"color\":\"#ab63fa\",\"symbol\":\"circle\"},\"mode\":\"markers\",\"name\":\"HOT321\",\"showlegend\":true,\"type\":\"scattergeo\"},{\"geo\":\"geo\",\"hovertemplate\":\"cruise=HOT322<br>lat=%{lat}<br>lon=%{lon}<extra></extra>\",\"lat\":[21.570113959853998,21.812672344380996,22.968830399983002,22.850785706827697,22.750940039312916,22.767505657894734,22.758137258771928,22.75639875,22.212017414860682],\"legendgroup\":\"HOT322\",\"lon\":[200.76746202921544,200.6181039206622,201.5664301766625,201.81508916033485,202.04861830850479,201.9755927631579,202.06711941885965,202.05929187499999,201.9502125851393],\"marker\":{\"color\":\"#FFA15A\",\"symbol\":\"circle\"},\"mode\":\"markers\",\"name\":\"HOT322\",\"showlegend\":true,\"type\":\"scattergeo\"},{\"geo\":\"geo\",\"hovertemplate\":\"cruise=HOT323<br>lat=%{lat}<br>lon=%{lon}<extra></extra>\",\"lat\":[22.23072006965944,22.759206666666667,22.735548684210528,22.74347692860624,21.75623861743912],\"legendgroup\":\"HOT323\",\"lon\":[201.88626308372034,202.033156502193,202.05620565789476,202.07816628898635,201.77575758051847],\"marker\":{\"color\":\"#19d3f3\",\"symbol\":\"circle\"},\"mode\":\"markers\",\"name\":\"HOT323\",\"showlegend\":true,\"type\":\"scattergeo\"},{\"geo\":\"geo\",\"hovertemplate\":\"cruise=HOT324<br>lat=%{lat}<br>lon=%{lon}<extra></extra>\",\"lat\":[21.339353333333335,22.42520835526316,22.77032153508772,22.862139714912278,22.718617677345538,21.542060257997935],\"legendgroup\":\"HOT324\",\"lon\":[201.73138666666668,201.94227951754385,202.0295175767544,202.09082451754387,202.01922039882314,201.8045393137255],\"marker\":{\"color\":\"#FF6692\",\"symbol\":\"circle\"},\"mode\":\"markers\",\"name\":\"HOT324\",\"showlegend\":true,\"type\":\"scattergeo\"},{\"geo\":\"geo\",\"hovertemplate\":\"cruise=HOT325<br>lat=%{lat}<br>lon=%{lon}<extra></extra>\",\"lat\":[21.315085714285715,21.30853080882353,22.47693424220273,22.746771874999997,22.676205739348372,21.810654138286893],\"legendgroup\":\"HOT325\",\"lon\":[202.12245714285714,201.79071580882353,201.92067939814817,201.99689049342103,201.97488109022555,201.6535479618163],\"marker\":{\"color\":\"#B6E880\",\"symbol\":\"circle\"},\"mode\":\"markers\",\"name\":\"HOT325\",\"showlegend\":true,\"type\":\"scattergeo\"},{\"geo\":\"geo\",\"hovertemplate\":\"cruise=HOT326<br>lat=%{lat}<br>lon=%{lon}<extra></extra>\",\"lat\":[21.337555000000002,22.50149384679648,22.75617075727293,22.748376946770335,22.219913333333334],\"legendgroup\":\"HOT326\",\"lon\":[201.7598198809524,201.92751406561274,202.0318509904508,202.03739329246412,201.82606916666666],\"marker\":{\"color\":\"#FF97FF\",\"symbol\":\"circle\"},\"mode\":\"markers\",\"name\":\"HOT326\",\"showlegend\":true,\"type\":\"scattergeo\"},{\"geo\":\"geo\",\"hovertemplate\":\"cruise=SCOPE-PARAGON<br>lat=%{lat}<br>lon=%{lon}<extra></extra>\",\"lat\":[21.783544881434356,21.847872324561404,21.706139473684214,21.573899301378447,21.480484035087716,21.58357158163265,21.632176381578947,21.870047500797448,22.03957546875,22.20450543859649,22.183886315789476,22.279739099378883,22.3132835645933,21.97321468253968],\"legendgroup\":\"SCOPE-PARAGON\",\"lon\":[204.13002768363216,204.72789842105263,204.72807194078948,204.5868388294956,204.3619364144737,204.05866443877554,203.93199914473686,203.67132427591707,203.60601713541666,203.64441086466164,203.7086580263158,203.71079004658387,203.58544801435406,203.28144027777776],\"marker\":{\"color\":\"#FECB52\",\"symbol\":\"circle\"},\"mode\":\"markers\",\"name\":\"SCOPE-PARAGON\",\"showlegend\":true,\"type\":\"scattergeo\"},{\"geo\":\"geo\",\"hovertemplate\":\"cruise=TN397_740<br>lat=%{lat}<br>lon=%{lon}<extra></extra>\",\"lat\":[30.725372316883856,29.070064257667173,27.277935911864347,24.416892015391934,22.12512633614772,19.894592383651247,19.573068895797185,18.12474271737336,14.531903245841931,11.228690879579387,10.670430365691324,9.014802390978081,5.331864818497181,4.601277829347596,1.728989502943161,0.13173915070473866,0.33501382730533225,0.1975481640239778,2.9382184166246486,6.100278512434933,9.004888095539638,11.32535019405701,14.193333973824421,17.487108114426952,19.747794486320693],\"legendgroup\":\"TN397_740\",\"lon\":[239.48605762614477,236.66627765555555,233.67810305417547,228.9822288033804,225.30325989119262,221.78597157426083,221.40711902051135,220.27176733389388,219.99986795913037,220.0014531223872,219.9772833178983,219.98806018958723,220.00238591307223,220.04100154365062,219.99727939020795,220.06169115797263,220.20147754486018,218.01819065006634,215.98447771068635,213.64628159959994,211.4862943356494,209.75032550257114,207.57637983225735,205.02960824546838,203.28384498705677],\"marker\":{\"color\":\"#636efa\",\"symbol\":\"circle\"},\"mode\":\"markers\",\"name\":\"TN397_740\",\"showlegend\":true,\"type\":\"scattergeo\"},{\"geo\":\"geo\",\"hovertemplate\":\"cruise=TN398<br>lat=%{lat}<br>lon=%{lon}<extra></extra>\",\"lat\":[21.22621689102564,22.41445919183536,23.183441533139607,24.080042145205827,25.554742814312398,27.061060847911,28.35268305322858,29.513631496379983,30.573128557474128,31.44037286744994,32.08995719461454,32.55879644431023,32.94788512286324],\"legendgroup\":\"TN398\",\"lon\":[202.07752420329672,202.1622092112011,202.90284913231307,206.36276755941392,210.26497479198818,214.75838582034467,219.125407907015,223.51158595043677,228.1859760215103,233.00711173355947,237.87292519891616,241.23596195946172,241.55974678952992],\"marker\":{\"color\":\"#EF553B\",\"symbol\":\"circle\"},\"mode\":\"markers\",\"name\":\"TN398\",\"showlegend\":true,\"type\":\"scattergeo\"}],                        {\"template\":{\"data\":{\"histogram2dcontour\":[{\"type\":\"histogram2dcontour\",\"colorbar\":{\"outlinewidth\":0,\"ticks\":\"\"},\"colorscale\":[[0.0,\"#0d0887\"],[0.1111111111111111,\"#46039f\"],[0.2222222222222222,\"#7201a8\"],[0.3333333333333333,\"#9c179e\"],[0.4444444444444444,\"#bd3786\"],[0.5555555555555556,\"#d8576b\"],[0.6666666666666666,\"#ed7953\"],[0.7777777777777778,\"#fb9f3a\"],[0.8888888888888888,\"#fdca26\"],[1.0,\"#f0f921\"]]}],\"choropleth\":[{\"type\":\"choropleth\",\"colorbar\":{\"outlinewidth\":0,\"ticks\":\"\"}}],\"histogram2d\":[{\"type\":\"histogram2d\",\"colorbar\":{\"outlinewidth\":0,\"ticks\":\"\"},\"colorscale\":[[0.0,\"#0d0887\"],[0.1111111111111111,\"#46039f\"],[0.2222222222222222,\"#7201a8\"],[0.3333333333333333,\"#9c179e\"],[0.4444444444444444,\"#bd3786\"],[0.5555555555555556,\"#d8576b\"],[0.6666666666666666,\"#ed7953\"],[0.7777777777777778,\"#fb9f3a\"],[0.8888888888888888,\"#fdca26\"],[1.0,\"#f0f921\"]]}],\"heatmap\":[{\"type\":\"heatmap\",\"colorbar\":{\"outlinewidth\":0,\"ticks\":\"\"},\"colorscale\":[[0.0,\"#0d0887\"],[0.1111111111111111,\"#46039f\"],[0.2222222222222222,\"#7201a8\"],[0.3333333333333333,\"#9c179e\"],[0.4444444444444444,\"#bd3786\"],[0.5555555555555556,\"#d8576b\"],[0.6666666666666666,\"#ed7953\"],[0.7777777777777778,\"#fb9f3a\"],[0.8888888888888888,\"#fdca26\"],[1.0,\"#f0f921\"]]}],\"heatmapgl\":[{\"type\":\"heatmapgl\",\"colorbar\":{\"outlinewidth\":0,\"ticks\":\"\"},\"colorscale\":[[0.0,\"#0d0887\"],[0.1111111111111111,\"#46039f\"],[0.2222222222222222,\"#7201a8\"],[0.3333333333333333,\"#9c179e\"],[0.4444444444444444,\"#bd3786\"],[0.5555555555555556,\"#d8576b\"],[0.6666666666666666,\"#ed7953\"],[0.7777777777777778,\"#fb9f3a\"],[0.8888888888888888,\"#fdca26\"],[1.0,\"#f0f921\"]]}],\"contourcarpet\":[{\"type\":\"contourcarpet\",\"colorbar\":{\"outlinewidth\":0,\"ticks\":\"\"}}],\"contour\":[{\"type\":\"contour\",\"colorbar\":{\"outlinewidth\":0,\"ticks\":\"\"},\"colorscale\":[[0.0,\"#0d0887\"],[0.1111111111111111,\"#46039f\"],[0.2222222222222222,\"#7201a8\"],[0.3333333333333333,\"#9c179e\"],[0.4444444444444444,\"#bd3786\"],[0.5555555555555556,\"#d8576b\"],[0.6666666666666666,\"#ed7953\"],[0.7777777777777778,\"#fb9f3a\"],[0.8888888888888888,\"#fdca26\"],[1.0,\"#f0f921\"]]}],\"surface\":[{\"type\":\"surface\",\"colorbar\":{\"outlinewidth\":0,\"ticks\":\"\"},\"colorscale\":[[0.0,\"#0d0887\"],[0.1111111111111111,\"#46039f\"],[0.2222222222222222,\"#7201a8\"],[0.3333333333333333,\"#9c179e\"],[0.4444444444444444,\"#bd3786\"],[0.5555555555555556,\"#d8576b\"],[0.6666666666666666,\"#ed7953\"],[0.7777777777777778,\"#fb9f3a\"],[0.8888888888888888,\"#fdca26\"],[1.0,\"#f0f921\"]]}],\"mesh3d\":[{\"type\":\"mesh3d\",\"colorbar\":{\"outlinewidth\":0,\"ticks\":\"\"}}],\"scatter\":[{\"fillpattern\":{\"fillmode\":\"overlay\",\"size\":10,\"solidity\":0.2},\"type\":\"scatter\"}],\"parcoords\":[{\"type\":\"parcoords\",\"line\":{\"colorbar\":{\"outlinewidth\":0,\"ticks\":\"\"}}}],\"scatterpolargl\":[{\"type\":\"scatterpolargl\",\"marker\":{\"colorbar\":{\"outlinewidth\":0,\"ticks\":\"\"}}}],\"bar\":[{\"error_x\":{\"color\":\"#2a3f5f\"},\"error_y\":{\"color\":\"#2a3f5f\"},\"marker\":{\"line\":{\"color\":\"#E5ECF6\",\"width\":0.5},\"pattern\":{\"fillmode\":\"overlay\",\"size\":10,\"solidity\":0.2}},\"type\":\"bar\"}],\"scattergeo\":[{\"type\":\"scattergeo\",\"marker\":{\"colorbar\":{\"outlinewidth\":0,\"ticks\":\"\"}}}],\"scatterpolar\":[{\"type\":\"scatterpolar\",\"marker\":{\"colorbar\":{\"outlinewidth\":0,\"ticks\":\"\"}}}],\"histogram\":[{\"marker\":{\"pattern\":{\"fillmode\":\"overlay\",\"size\":10,\"solidity\":0.2}},\"type\":\"histogram\"}],\"scattergl\":[{\"type\":\"scattergl\",\"marker\":{\"colorbar\":{\"outlinewidth\":0,\"ticks\":\"\"}}}],\"scatter3d\":[{\"type\":\"scatter3d\",\"line\":{\"colorbar\":{\"outlinewidth\":0,\"ticks\":\"\"}},\"marker\":{\"colorbar\":{\"outlinewidth\":0,\"ticks\":\"\"}}}],\"scattermapbox\":[{\"type\":\"scattermapbox\",\"marker\":{\"colorbar\":{\"outlinewidth\":0,\"ticks\":\"\"}}}],\"scatterternary\":[{\"type\":\"scatterternary\",\"marker\":{\"colorbar\":{\"outlinewidth\":0,\"ticks\":\"\"}}}],\"scattercarpet\":[{\"type\":\"scattercarpet\",\"marker\":{\"colorbar\":{\"outlinewidth\":0,\"ticks\":\"\"}}}],\"carpet\":[{\"aaxis\":{\"endlinecolor\":\"#2a3f5f\",\"gridcolor\":\"white\",\"linecolor\":\"white\",\"minorgridcolor\":\"white\",\"startlinecolor\":\"#2a3f5f\"},\"baxis\":{\"endlinecolor\":\"#2a3f5f\",\"gridcolor\":\"white\",\"linecolor\":\"white\",\"minorgridcolor\":\"white\",\"startlinecolor\":\"#2a3f5f\"},\"type\":\"carpet\"}],\"table\":[{\"cells\":{\"fill\":{\"color\":\"#EBF0F8\"},\"line\":{\"color\":\"white\"}},\"header\":{\"fill\":{\"color\":\"#C8D4E3\"},\"line\":{\"color\":\"white\"}},\"type\":\"table\"}],\"barpolar\":[{\"marker\":{\"line\":{\"color\":\"#E5ECF6\",\"width\":0.5},\"pattern\":{\"fillmode\":\"overlay\",\"size\":10,\"solidity\":0.2}},\"type\":\"barpolar\"}],\"pie\":[{\"automargin\":true,\"type\":\"pie\"}]},\"layout\":{\"autotypenumbers\":\"strict\",\"colorway\":[\"#636efa\",\"#EF553B\",\"#00cc96\",\"#ab63fa\",\"#FFA15A\",\"#19d3f3\",\"#FF6692\",\"#B6E880\",\"#FF97FF\",\"#FECB52\"],\"font\":{\"color\":\"#2a3f5f\"},\"hovermode\":\"closest\",\"hoverlabel\":{\"align\":\"left\"},\"paper_bgcolor\":\"white\",\"plot_bgcolor\":\"#E5ECF6\",\"polar\":{\"bgcolor\":\"#E5ECF6\",\"angularaxis\":{\"gridcolor\":\"white\",\"linecolor\":\"white\",\"ticks\":\"\"},\"radialaxis\":{\"gridcolor\":\"white\",\"linecolor\":\"white\",\"ticks\":\"\"}},\"ternary\":{\"bgcolor\":\"#E5ECF6\",\"aaxis\":{\"gridcolor\":\"white\",\"linecolor\":\"white\",\"ticks\":\"\"},\"baxis\":{\"gridcolor\":\"white\",\"linecolor\":\"white\",\"ticks\":\"\"},\"caxis\":{\"gridcolor\":\"white\",\"linecolor\":\"white\",\"ticks\":\"\"}},\"coloraxis\":{\"colorbar\":{\"outlinewidth\":0,\"ticks\":\"\"}},\"colorscale\":{\"sequential\":[[0.0,\"#0d0887\"],[0.1111111111111111,\"#46039f\"],[0.2222222222222222,\"#7201a8\"],[0.3333333333333333,\"#9c179e\"],[0.4444444444444444,\"#bd3786\"],[0.5555555555555556,\"#d8576b\"],[0.6666666666666666,\"#ed7953\"],[0.7777777777777778,\"#fb9f3a\"],[0.8888888888888888,\"#fdca26\"],[1.0,\"#f0f921\"]],\"sequentialminus\":[[0.0,\"#0d0887\"],[0.1111111111111111,\"#46039f\"],[0.2222222222222222,\"#7201a8\"],[0.3333333333333333,\"#9c179e\"],[0.4444444444444444,\"#bd3786\"],[0.5555555555555556,\"#d8576b\"],[0.6666666666666666,\"#ed7953\"],[0.7777777777777778,\"#fb9f3a\"],[0.8888888888888888,\"#fdca26\"],[1.0,\"#f0f921\"]],\"diverging\":[[0,\"#8e0152\"],[0.1,\"#c51b7d\"],[0.2,\"#de77ae\"],[0.3,\"#f1b6da\"],[0.4,\"#fde0ef\"],[0.5,\"#f7f7f7\"],[0.6,\"#e6f5d0\"],[0.7,\"#b8e186\"],[0.8,\"#7fbc41\"],[0.9,\"#4d9221\"],[1,\"#276419\"]]},\"xaxis\":{\"gridcolor\":\"white\",\"linecolor\":\"white\",\"ticks\":\"\",\"title\":{\"standoff\":15},\"zerolinecolor\":\"white\",\"automargin\":true,\"zerolinewidth\":2},\"yaxis\":{\"gridcolor\":\"white\",\"linecolor\":\"white\",\"ticks\":\"\",\"title\":{\"standoff\":15},\"zerolinecolor\":\"white\",\"automargin\":true,\"zerolinewidth\":2},\"scene\":{\"xaxis\":{\"backgroundcolor\":\"#E5ECF6\",\"gridcolor\":\"white\",\"linecolor\":\"white\",\"showbackground\":true,\"ticks\":\"\",\"zerolinecolor\":\"white\",\"gridwidth\":2},\"yaxis\":{\"backgroundcolor\":\"#E5ECF6\",\"gridcolor\":\"white\",\"linecolor\":\"white\",\"showbackground\":true,\"ticks\":\"\",\"zerolinecolor\":\"white\",\"gridwidth\":2},\"zaxis\":{\"backgroundcolor\":\"#E5ECF6\",\"gridcolor\":\"white\",\"linecolor\":\"white\",\"showbackground\":true,\"ticks\":\"\",\"zerolinecolor\":\"white\",\"gridwidth\":2}},\"shapedefaults\":{\"line\":{\"color\":\"#2a3f5f\"}},\"annotationdefaults\":{\"arrowcolor\":\"#2a3f5f\",\"arrowhead\":0,\"arrowwidth\":1},\"geo\":{\"bgcolor\":\"white\",\"landcolor\":\"#E5ECF6\",\"subunitcolor\":\"white\",\"showland\":true,\"showlakes\":true,\"lakecolor\":\"white\"},\"title\":{\"x\":0.05},\"mapbox\":{\"style\":\"light\"}}},\"geo\":{\"domain\":{\"x\":[0.0,1.0],\"y\":[0.0,1.0]},\"center\":{}},\"legend\":{\"title\":{\"text\":\"cruise\"},\"tracegroupgap\":0},\"margin\":{\"t\":60}},                        {\"responsive\": true}                    ).then(function(){\n",
       "                            \n",
       "var gd = document.getElementById('afd94786-d0bc-44f2-b03e-c6406b90bd62');\n",
       "var x = new MutationObserver(function (mutations, observer) {{\n",
       "        var display = window.getComputedStyle(gd).display;\n",
       "        if (!display || display === 'none') {{\n",
       "            console.log([gd, 'removed!']);\n",
       "            Plotly.purge(gd);\n",
       "            observer.disconnect();\n",
       "        }}\n",
       "}});\n",
       "\n",
       "// Listen for the removal of the full notebook cells\n",
       "var notebookContainer = gd.closest('#notebook-container');\n",
       "if (notebookContainer) {{\n",
       "    x.observe(notebookContainer, {childList: true});\n",
       "}}\n",
       "\n",
       "// Listen for the clearing of the current output cell\n",
       "var outputEl = gd.closest('.output');\n",
       "if (outputEl) {{\n",
       "    x.observe(outputEl, {childList: true});\n",
       "}}\n",
       "\n",
       "                        })                };                });            </script>        </div>"
      ]
     },
     "metadata": {},
     "output_type": "display_data"
    }
   ],
   "source": [
    "map_df = df.copy()\n",
    "map_df.date = pd.to_datetime(map_df.date)\n",
    "# changes negative lon to postive value to plot better\n",
    "map_df['lon'] = np.where(map_df['lon'] < 0, map_df['lon'] +360, map_df['lon'])\n",
    "## samples are the data from cruises found wihtin this \"box\" of location in north pacific ocean\n",
    "samples = map_df[(map_df['lon']>= 114) & (map_df['lon'] <= 242) & (map_df['lat'] >= 0)]\n",
    "map_df_notnull = samples[samples.lon.notnull()]\n",
    "map_df_avg = map_df_notnull.groupby([pd.Grouper(key = 'date', freq = '24H'), 'cruise']).mean().reset_index()\n",
    "# i make figure here \n",
    "fig = px.scatter_geo(map_df_avg, lat = 'lat', lon = 'lon', color = 'cruise')\n",
    "fig.show()"
   ]
  },
  {
   "cell_type": "markdown",
   "id": "2cf77367",
   "metadata": {},
   "source": [
    "### Plot of pro diel cycle in SCOPE_6"
   ]
  },
  {
   "cell_type": "code",
   "execution_count": 66,
   "id": "6805f06a",
   "metadata": {},
   "outputs": [],
   "source": [
    "subset = df.loc[samples.index]"
   ]
  },
  {
   "cell_type": "code",
   "execution_count": 79,
   "id": "40447a62",
   "metadata": {},
   "outputs": [
    {
     "data": {
      "text/html": [
       "<div>\n",
       "<style scoped>\n",
       "    .dataframe tbody tr th:only-of-type {\n",
       "        vertical-align: middle;\n",
       "    }\n",
       "\n",
       "    .dataframe tbody tr th {\n",
       "        vertical-align: top;\n",
       "    }\n",
       "\n",
       "    .dataframe thead th {\n",
       "        text-align: right;\n",
       "    }\n",
       "</style>\n",
       "<table border=\"1\" class=\"dataframe\">\n",
       "  <thead>\n",
       "    <tr style=\"text-align: right;\">\n",
       "      <th></th>\n",
       "      <th>cruise</th>\n",
       "      <th>date</th>\n",
       "      <th>pop</th>\n",
       "      <th>n_per_uL</th>\n",
       "      <th>c_per_uL</th>\n",
       "      <th>lat</th>\n",
       "      <th>lon</th>\n",
       "      <th>temp</th>\n",
       "      <th>salinity</th>\n",
       "      <th>par</th>\n",
       "      <th>c_quotas</th>\n",
       "    </tr>\n",
       "  </thead>\n",
       "  <tbody>\n",
       "    <tr>\n",
       "      <th>26548</th>\n",
       "      <td>SCOPE_6</td>\n",
       "      <td>2015-07-25 00:00:00+00:00</td>\n",
       "      <td>prochloro</td>\n",
       "      <td>108.879389</td>\n",
       "      <td>4.835158</td>\n",
       "      <td>21.370393</td>\n",
       "      <td>-158.227993</td>\n",
       "      <td>27.217143</td>\n",
       "      <td>35.095714</td>\n",
       "      <td>1710.587857</td>\n",
       "      <td>0.044408</td>\n",
       "    </tr>\n",
       "    <tr>\n",
       "      <th>26552</th>\n",
       "      <td>SCOPE_6</td>\n",
       "      <td>2015-07-25 01:00:00+00:00</td>\n",
       "      <td>prochloro</td>\n",
       "      <td>118.620507</td>\n",
       "      <td>4.896587</td>\n",
       "      <td>21.524195</td>\n",
       "      <td>-158.309580</td>\n",
       "      <td>27.253500</td>\n",
       "      <td>35.117500</td>\n",
       "      <td>1872.756500</td>\n",
       "      <td>0.041279</td>\n",
       "    </tr>\n",
       "    <tr>\n",
       "      <th>26556</th>\n",
       "      <td>SCOPE_6</td>\n",
       "      <td>2015-07-25 03:00:00+00:00</td>\n",
       "      <td>prochloro</td>\n",
       "      <td>84.992478</td>\n",
       "      <td>4.224224</td>\n",
       "      <td>21.623643</td>\n",
       "      <td>-158.194900</td>\n",
       "      <td>26.688571</td>\n",
       "      <td>35.188571</td>\n",
       "      <td>1416.512857</td>\n",
       "      <td>0.049701</td>\n",
       "    </tr>\n",
       "    <tr>\n",
       "      <th>26560</th>\n",
       "      <td>SCOPE_6</td>\n",
       "      <td>2015-07-25 04:00:00+00:00</td>\n",
       "      <td>prochloro</td>\n",
       "      <td>85.348219</td>\n",
       "      <td>4.332430</td>\n",
       "      <td>21.610435</td>\n",
       "      <td>-158.126945</td>\n",
       "      <td>26.623500</td>\n",
       "      <td>35.180500</td>\n",
       "      <td>864.704500</td>\n",
       "      <td>0.050762</td>\n",
       "    </tr>\n",
       "    <tr>\n",
       "      <th>26564</th>\n",
       "      <td>SCOPE_6</td>\n",
       "      <td>2015-07-25 05:00:00+00:00</td>\n",
       "      <td>prochloro</td>\n",
       "      <td>95.938421</td>\n",
       "      <td>4.678521</td>\n",
       "      <td>21.685345</td>\n",
       "      <td>-158.084300</td>\n",
       "      <td>26.753000</td>\n",
       "      <td>35.205500</td>\n",
       "      <td>30.036000</td>\n",
       "      <td>0.048766</td>\n",
       "    </tr>\n",
       "    <tr>\n",
       "      <th>...</th>\n",
       "      <td>...</td>\n",
       "      <td>...</td>\n",
       "      <td>...</td>\n",
       "      <td>...</td>\n",
       "      <td>...</td>\n",
       "      <td>...</td>\n",
       "      <td>...</td>\n",
       "      <td>...</td>\n",
       "      <td>...</td>\n",
       "      <td>...</td>\n",
       "      <td>...</td>\n",
       "    </tr>\n",
       "    <tr>\n",
       "      <th>27500</th>\n",
       "      <td>SCOPE_6</td>\n",
       "      <td>2015-08-05 02:00:00+00:00</td>\n",
       "      <td>prochloro</td>\n",
       "      <td>125.393038</td>\n",
       "      <td>5.195718</td>\n",
       "      <td>22.790225</td>\n",
       "      <td>-156.963845</td>\n",
       "      <td>27.500500</td>\n",
       "      <td>35.020500</td>\n",
       "      <td>1747.372500</td>\n",
       "      <td>0.041435</td>\n",
       "    </tr>\n",
       "    <tr>\n",
       "      <th>27504</th>\n",
       "      <td>SCOPE_6</td>\n",
       "      <td>2015-08-05 03:00:00+00:00</td>\n",
       "      <td>prochloro</td>\n",
       "      <td>117.470822</td>\n",
       "      <td>5.534811</td>\n",
       "      <td>22.604930</td>\n",
       "      <td>-157.036010</td>\n",
       "      <td>27.500000</td>\n",
       "      <td>35.027000</td>\n",
       "      <td>1070.546500</td>\n",
       "      <td>0.047116</td>\n",
       "    </tr>\n",
       "    <tr>\n",
       "      <th>27508</th>\n",
       "      <td>SCOPE_6</td>\n",
       "      <td>2015-08-05 04:00:00+00:00</td>\n",
       "      <td>prochloro</td>\n",
       "      <td>120.002015</td>\n",
       "      <td>5.326479</td>\n",
       "      <td>22.418605</td>\n",
       "      <td>-157.106230</td>\n",
       "      <td>27.450500</td>\n",
       "      <td>35.069500</td>\n",
       "      <td>411.661500</td>\n",
       "      <td>0.044387</td>\n",
       "    </tr>\n",
       "    <tr>\n",
       "      <th>27512</th>\n",
       "      <td>SCOPE_6</td>\n",
       "      <td>2015-08-05 05:00:00+00:00</td>\n",
       "      <td>prochloro</td>\n",
       "      <td>129.215307</td>\n",
       "      <td>5.259567</td>\n",
       "      <td>22.238015</td>\n",
       "      <td>-157.171285</td>\n",
       "      <td>27.404000</td>\n",
       "      <td>35.055000</td>\n",
       "      <td>11.197500</td>\n",
       "      <td>0.040704</td>\n",
       "    </tr>\n",
       "    <tr>\n",
       "      <th>27516</th>\n",
       "      <td>SCOPE_6</td>\n",
       "      <td>2015-08-05 06:00:00+00:00</td>\n",
       "      <td>prochloro</td>\n",
       "      <td>135.867924</td>\n",
       "      <td>5.008669</td>\n",
       "      <td>22.060368</td>\n",
       "      <td>-157.234816</td>\n",
       "      <td>26.968421</td>\n",
       "      <td>35.139474</td>\n",
       "      <td>0.000000</td>\n",
       "      <td>0.036864</td>\n",
       "    </tr>\n",
       "  </tbody>\n",
       "</table>\n",
       "<p>243 rows × 11 columns</p>\n",
       "</div>"
      ],
      "text/plain": [
       "        cruise                      date        pop    n_per_uL  c_per_uL  \\\n",
       "26548  SCOPE_6 2015-07-25 00:00:00+00:00  prochloro  108.879389  4.835158   \n",
       "26552  SCOPE_6 2015-07-25 01:00:00+00:00  prochloro  118.620507  4.896587   \n",
       "26556  SCOPE_6 2015-07-25 03:00:00+00:00  prochloro   84.992478  4.224224   \n",
       "26560  SCOPE_6 2015-07-25 04:00:00+00:00  prochloro   85.348219  4.332430   \n",
       "26564  SCOPE_6 2015-07-25 05:00:00+00:00  prochloro   95.938421  4.678521   \n",
       "...        ...                       ...        ...         ...       ...   \n",
       "27500  SCOPE_6 2015-08-05 02:00:00+00:00  prochloro  125.393038  5.195718   \n",
       "27504  SCOPE_6 2015-08-05 03:00:00+00:00  prochloro  117.470822  5.534811   \n",
       "27508  SCOPE_6 2015-08-05 04:00:00+00:00  prochloro  120.002015  5.326479   \n",
       "27512  SCOPE_6 2015-08-05 05:00:00+00:00  prochloro  129.215307  5.259567   \n",
       "27516  SCOPE_6 2015-08-05 06:00:00+00:00  prochloro  135.867924  5.008669   \n",
       "\n",
       "             lat         lon       temp   salinity          par  c_quotas  \n",
       "26548  21.370393 -158.227993  27.217143  35.095714  1710.587857  0.044408  \n",
       "26552  21.524195 -158.309580  27.253500  35.117500  1872.756500  0.041279  \n",
       "26556  21.623643 -158.194900  26.688571  35.188571  1416.512857  0.049701  \n",
       "26560  21.610435 -158.126945  26.623500  35.180500   864.704500  0.050762  \n",
       "26564  21.685345 -158.084300  26.753000  35.205500    30.036000  0.048766  \n",
       "...          ...         ...        ...        ...          ...       ...  \n",
       "27500  22.790225 -156.963845  27.500500  35.020500  1747.372500  0.041435  \n",
       "27504  22.604930 -157.036010  27.500000  35.027000  1070.546500  0.047116  \n",
       "27508  22.418605 -157.106230  27.450500  35.069500   411.661500  0.044387  \n",
       "27512  22.238015 -157.171285  27.404000  35.055000    11.197500  0.040704  \n",
       "27516  22.060368 -157.234816  26.968421  35.139474     0.000000  0.036864  \n",
       "\n",
       "[243 rows x 11 columns]"
      ]
     },
     "execution_count": 79,
     "metadata": {},
     "output_type": "execute_result"
    }
   ],
   "source": [
    "scope_6_pro"
   ]
  },
  {
   "cell_type": "code",
   "execution_count": 80,
   "id": "f6493315",
   "metadata": {
    "scrolled": false
   },
   "outputs": [
    {
     "data": {
      "image/png": "[encoded data removed]",
      "text/plain": [
       "<Figure size 1200x800 with 2 Axes>"
      ]
     },
     "metadata": {},
     "output_type": "display_data"
    }
   ],
   "source": [
    "# figure making to give context why im looking at pro cell size (cell size changes everyday day bc diel cycle but i want to look at overall change in cell size)\n",
    "# make figure of pro diel cycle \n",
    "df_pro = subset[subset['pop'] == 'prochloro']\n",
    "# getting data from scope_6 and plotting\n",
    "scope_6_pro = df_pro[df_pro['cruise'] == 'SCOPE_6']\n",
    "# setting variables\n",
    "x = scope_6_pro['date']\n",
    "y = scope_6_pro['c_quotas']\n",
    "y1 = scope_6_pro['par']\n",
    "# plotting diel cycle from scope_6 for pro only\n",
    "fig, ax = plt.subplots(sharey = True, sharex = True, nrows = 1, ncols = 1, figsize = (12, 8))\n",
    "# plots carbon quota data\n",
    "ax.plot(x, y, c='steelblue', marker = '.')\n",
    "# makes secondary axis by sharing the the xaxis and creating yaxis\n",
    "parax = ax.twinx()\n",
    "# plots par on shared xaxis\n",
    "parax.plot(x, y1, c = 'orange', marker = '.')\n",
    "ax.set_xlabel('Time', fontsize = 14)\n",
    "parax.set_ylabel('PAR (μE/m^2/s)', fontsize = 14)\n",
    "ax.set_ylabel('Carbon Quota (pg C / cell)', fontsize = 14)\n",
    "plt.title('Prochlorococcus Diel Cycle with PAR', fontsize = 15)\n",
    "\n",
    "# shortens days into every other day for tick mark labels\n",
    "plt.gca().xaxis.set_major_locator(mdates.DayLocator(interval=1))\n",
    "plt.gcf().autofmt_xdate()\n",
    "for label in ax.xaxis.get_ticklabels()[::2]:\n",
    "    label.set_visible(False)\n",
    "#plt.savefig('fig2.png')\n"
   ]
  },
  {
   "cell_type": "markdown",
   "id": "fdcd68ec",
   "metadata": {},
   "source": [
    "### Refining data in df to make find_night function work"
   ]
  },
  {
   "cell_type": "code",
   "execution_count": 72,
   "id": "8a094266",
   "metadata": {
    "scrolled": true
   },
   "outputs": [],
   "source": [
    "df_change = subset.copy()\n",
    "## filtering out the NaN val in lon column\n",
    "df_change_notnull = df_change[df_change.lon.notnull()].reset_index()\n",
    "## renamed date column to time for astral fucntion to work\n",
    "df_change_notnull.rename(columns = {'date':'time'}, inplace = True)\n",
    "df_night = find_night(df_change_notnull)"
   ]
  },
  {
   "cell_type": "markdown",
   "id": "de2c7d49",
   "metadata": {},
   "source": [
    "### Slicing out day and sunset to get \"day\""
   ]
  },
  {
   "cell_type": "code",
   "execution_count": 73,
   "id": "b60baedd",
   "metadata": {},
   "outputs": [],
   "source": [
    "## integrating par\n",
    "def integrate_par(df):\n",
    "    df['int_par'] = integrate.cumtrapz(y=df['par'], x=df['sec'],initial=0)\n",
    "    return df"
   ]
  },
  {
   "cell_type": "code",
   "execution_count": 74,
   "id": "8ee1a5f6",
   "metadata": {
    "scrolled": false
   },
   "outputs": [
    {
     "name": "stderr",
     "output_type": "stream",
     "text": [
      "C:\\Users\\Krist\\AppData\\Local\\Temp\\ipykernel_14920\\496470608.py:10: FutureWarning:\n",
      "\n",
      "Not prepending group keys to the result index of transform-like apply. In the future, the group keys will be included in the index, regardless of whether the applied function returns a like-indexed object.\n",
      "To preserve the previous behavior, use\n",
      "\n",
      "\t>>> .groupby(..., group_keys=False)\n",
      "\n",
      "To adopt the future behavior and silence this warning, use \n",
      "\n",
      "\t>>> .groupby(..., group_keys=True)\n",
      "\n"
     ]
    }
   ],
   "source": [
    "pro_cruises = df_night[df_night['pop'] == 'prochloro']\n",
    "# im joining the \n",
    "pro_notnight = pro_cruises[pro_cruises['night'] != 'night']\n",
    "\n",
    "##pro_join = pd.concat([pro_day, pro_sunset])\n",
    "# here im trying to get rid of the NaN values in PAR now\n",
    "real_pro = pro_notnight[pro_notnight.par.notnull()].reset_index()\n",
    "epoch = pd.to_datetime('1970-01-01')\n",
    "real_pro['sec'] = round((real_pro['time'].dt.tz_localize(None)-epoch).dt.total_seconds())\n",
    "int_pro = real_pro.groupby([pd.Grouper(key='time', freq='24H'), 'cruise']).apply(integrate_par)\n",
    "real_data = int_pro.groupby([pd.Grouper(key='time', freq='24H'), 'cruise']).agg({\n",
    "    'c_quotas': 'mean',\n",
    "    'int_par': 'sum',\n",
    "    'lat': 'mean'\n",
    "}).reset_index()"
   ]
  },
  {
   "cell_type": "code",
   "execution_count": 75,
   "id": "5bd611cb",
   "metadata": {},
   "outputs": [
    {
     "data": {
      "text/html": [
       "<div>\n",
       "<style scoped>\n",
       "    .dataframe tbody tr th:only-of-type {\n",
       "        vertical-align: middle;\n",
       "    }\n",
       "\n",
       "    .dataframe tbody tr th {\n",
       "        vertical-align: top;\n",
       "    }\n",
       "\n",
       "    .dataframe thead th {\n",
       "        text-align: right;\n",
       "    }\n",
       "</style>\n",
       "<table border=\"1\" class=\"dataframe\">\n",
       "  <thead>\n",
       "    <tr style=\"text-align: right;\">\n",
       "      <th></th>\n",
       "      <th>time</th>\n",
       "      <th>cruise</th>\n",
       "      <th>c_quotas</th>\n",
       "      <th>int_par</th>\n",
       "      <th>lat</th>\n",
       "    </tr>\n",
       "  </thead>\n",
       "  <tbody>\n",
       "  </tbody>\n",
       "</table>\n",
       "</div>"
      ],
      "text/plain": [
       "Empty DataFrame\n",
       "Columns: [time, cruise, c_quotas, int_par, lat]\n",
       "Index: []"
      ]
     },
     "execution_count": 75,
     "metadata": {},
     "output_type": "execute_result"
    }
   ],
   "source": [
    "real_data[real_data['lat'] <0]"
   ]
  },
  {
   "cell_type": "markdown",
   "id": "b9b69811",
   "metadata": {},
   "source": [
    "### Plotting PAR vs c_quotas using scipy... maybe"
   ]
  },
  {
   "cell_type": "code",
   "execution_count": 76,
   "id": "20e8ea24",
   "metadata": {
    "scrolled": false
   },
   "outputs": [
    {
     "data": {
      "text/plain": [
       "Text(0.5, 1.0, 'Prochlorococcus PAR vs Carbon Quota')"
      ]
     },
     "execution_count": 76,
     "metadata": {},
     "output_type": "execute_result"
    },
    {
     "data": {
      "image/png": "[encoded data removed]",
      "text/plain": [
       "<Figure size 1200x800 with 1 Axes>"
      ]
     },
     "metadata": {},
     "output_type": "display_data"
    }
   ],
   "source": [
    "# setting variables\n",
    "x = real_data['int_par']\n",
    "y = real_data['c_quotas']\n",
    "\n",
    "fig, ax = plt.subplots(sharey = True, sharex = True, nrows = 1, ncols = 1, figsize = (12, 8))\n",
    "# plots carbon quota data\n",
    "ax.scatter(x, y, c='steelblue', marker = '.')\n",
    "ax.set_yscale('log')\n",
    "ax.set_xscale('log')\n",
    "ax.set_xlabel('PAR', fontsize = 14)\n",
    "ax.set_ylabel('c_quotas', fontsize = 14)\n",
    "plt.title('Prochlorococcus PAR vs Carbon Quota', fontsize = 15)"
   ]
  },
  {
   "cell_type": "code",
   "execution_count": 82,
   "id": "dfd2c367",
   "metadata": {
    "scrolled": false
   },
   "outputs": [
    {
     "data": {
      "application/vnd.plotly.v1+json": {
       "config": {
        "plotlyServerURL": "https://plot.ly"
       },
       "data": [
        {
         "hovertemplate": "Integrated PAR (μE / m^2)=%{x}<br>Carbon Quota (pg C / cell)=%{y}<br>lat=%{marker.color}<extra></extra>",
         "legendgroup": "",
         "marker": {
          "color": [
           46.237233208020044,
           44.19006287914528,
           39.777685392996375,
           35.58065613756614,
           31.418705282894734,
           27.330967406015038,
           24.758008055555557,
           22.78588342105263,
           21.245729411764707,
           22.17100605670523,
           22.77859788888889,
           22.774619892494393,
           22.67434,
           41.898047146814406,
           39.02237938596491,
           35.93776360845295,
           32.88127575,
           29.717809047619046,
           26.635673947368424,
           24.042974047619047,
           22.42674875,
           21.343488333333333,
           22.443624335839598,
           22.76818925,
           22.77266738095238,
           21.979224102564103,
           21.342839523809527,
           22.201997692307692,
           22.71622423076923,
           21.342908214285714,
           22.342183359133127,
           22.740705462184877,
           22.730924799168974,
           22.35891213235294,
           22.83480854174911,
           24.302623808864265,
           24.445516934210524,
           24.549527567529935,
           24.590515568181818,
           24.572951870465637,
           24.547497658051377,
           24.510186035431715,
           24.409943,
           24.34783396407686,
           24.143524083333332,
           22.607146917293232,
           21.308455548245615,
           22.759054583333334,
           22.763265208425477,
           21.34377058823529,
           22.379303583333332,
           22.75212219002367,
           22.732977408260233,
           22.455500999999998,
           21.3084725,
           22.27575774509804,
           22.729144387464387,
           22.707721499999998,
           22.22227375,
           21.3435075,
           22.39656318859649,
           22.74959421052632,
           22.728654808393532,
           22.311626041666667,
           22.563851550802138,
           22.668623007518796,
           22.672396666666668,
           22.38548833333333,
           22.750531000000002,
           22.72537357142857,
           22.071766250000003,
           21.571499999999997,
           22.79272447368421,
           24.361546428571426,
           27.33050492647059,
           28.91587523809524,
           31.761976249999996,
           33.581106390977446,
           36.64946425,
           37.017321903622694,
           36.116594721362226,
           35.996835180055406,
           33.71261525,
           30.35748380952381,
           27.21878189285714,
           25.245864761904766,
           23.07922333333333,
           22.8092,
           23.488380646258502,
           23.463545798319327,
           22.748177916666666,
           22.727463666666665,
           22.739357805555557,
           21.902156302631578,
           21.2556,
           22.748673750000002,
           22.745682857142857,
           22.75815725,
           21.95939857142857,
           21.7156,
           32.099746714334856,
           35.687938955365624,
           39.443619999999996,
           41.6954225,
           40.54898842592593,
           38.41351068181818,
           36.90340333333333,
           36.11590363636364,
           34.99170475,
           33.92241517272728,
           32.33361,
           30.200532142857146,
           27.15886525,
           23.451094957983194,
           22.241212179769736,
           22.772080583333334,
           22.77822369047619,
           22.801235,
           21.43058,
           22.842351541353384,
           24.904994007472382,
           27.351438571428574,
           26.31187675,
           25.114253095238094,
           25.16925322222222,
           25.67161690476191,
           24.730043681318683,
           24.771090098039213,
           24.800862922437673,
           24.740403611111113,
           25.646889249999997,
           26.48305052631579,
           26.47374209876543,
           26.48871212820513,
           26.526719769230773,
           26.672689523809524,
           25.0710565,
           24.080232499999997,
           22.409099518443547,
           23.974589740712073,
           27.308988006535948,
           27.782652881836945,
           26.636733186263736,
           25.830537484817814,
           27.826742584537172,
           28.95467599111415,
           32.675713513157895,
           35.258870089181286,
           35.22890557204978,
           35.26639556530214,
           37.406233571428565,
           38.87982927853192,
           34.850012,
           34.003494426691724,
           33.868284131578946,
           30.27386255309326,
           24.91303877436647,
           24.158529758947367,
           23.642998296969697,
           21.34307535,
           22.353583609999998,
           22.784335269564064,
           22.771092009375,
           22.158171308333333,
           21.343300555555555,
           22.457101154977373,
           22.799406907894735,
           22.7993,
           21.34776512383901,
           21.35287144047619,
           21.159053823529412,
           22.118829210526314,
           22.077052333333334,
           21.887138823529412,
           21.90210451814059,
           21.96211380263158,
           22.108007701754385,
           22.142476478696743,
           22.10910885620915,
           22.04555285714286,
           21.6302825,
           22.09790569627193,
           22.266251052631578,
           22.350357619047617,
           22.106281857585138,
           22.305364666666666,
           22.26711975,
           22.173737698412697,
           22.134188403361346,
           22.11542761904762,
           23.304916538461537,
           24.5715734375,
           24.580397473544974,
           23.985370238095236,
           22.657315476190476,
           21.334377500000002,
           22.27882455352564,
           22.7797875,
           22.787180192982454,
           22.44153574074074,
           21.357591911764708,
           22.15854363292011,
           22.612785555555558,
           21.84629,
           22.649200238095236,
           21.35000625,
           22.27810546544391,
           22.789751177248675,
           22.760439129605263,
           22.19796533181818,
           19.514285833333332,
           19.427065714285714,
           18.9681695,
           19.279409659442727,
           20.4436775,
           21.34047,
           22.384757989417988,
           22.772635,
           22.738821491228073,
           22.2991128125,
           22.436918232986113,
           22.777375499999998,
           22.7881133933518,
           22.404795913461538,
           22.47257258731319,
           21.942772916666666,
           22.745458333333335,
           22.775468573407203,
           22.75863,
           21.340558333333334,
           22.395176,
           22.74169705882353,
           22.758572058823532,
           22.81298625,
           22.731095000000003,
           25.201969269005847,
           28.80120037593985,
           31.911824941520468,
           35.30871390977444,
           38.38821760061919,
           41.452173157894734,
           41.66106788533835,
           41.61097880952381,
           39.31936752715121,
           36.942534649122805,
           34.41839875,
           33.15593329352794,
           35.46952375,
           40.082722269562794,
           40.8278281871345,
           36.56028983193277,
           32.192800210526315,
           27.446216635338345,
           23.861675625,
           21.34300222222222,
           22.36096714285714,
           22.75121930263158,
           22.703095839598998,
           22.664235416666667,
           21.34283157894737,
           22.373909,
           22.789662,
           22.768412307692305,
           22.377928125,
           22.28011641868512,
           22.7460490625,
           22.762650999999998,
           22.772215,
           21.33890166666667,
           22.519432767027865,
           22.723707631578947,
           22.684077,
           22.13468396694215,
           14.693798066826739,
           16.104117530966143,
           18.339405744392224,
           20.500692078148663,
           22.67286458807731,
           24.756617070401706,
           26.850708209254382,
           28.7768352003153,
           30.396196929151735,
           31.35357178623319,
           32.85214294895738,
           33.674771988121,
           34.06183971162628,
           34.44320818972238,
           33.70334753157775,
           32.14025194648848,
           32.23562831265376,
           33.13150595132092,
           34.051893729906055,
           34.927290958513126,
           35.81621498369456,
           36.45407428664058,
           2.187635191517631,
           6.724748214693785,
           11.356896805820897,
           16.422254134270837,
           20.151971128398976,
           21.34342745643992,
           22.27869485154417,
           22.60470544120733,
           21.55703836616022,
           21.345772464952734,
           22.26259603108925,
           22.715934078883386,
           22.211261767050903,
           21.342649794884167,
           22.303089916161532,
           22.75707322008101,
           22.75199706801737,
           22.32028381422725,
           22.762806203703704,
           22.769927894736842,
           22.753452460526315,
           22.744129047619047,
           22.413990460526318,
           22.134612083591332,
           22.760354523809525,
           22.734727171052633,
           22.729914585073793,
           21.88983821862348,
           21.339353333333335,
           22.34419252819549,
           22.768914570637122,
           22.8373065,
           22.72123527777778,
           21.633130465587044,
           21.315085714285715,
           21.30853080882353,
           22.422614840643273,
           22.73202447368421,
           22.6825053250774,
           22.024051666666665,
           21.33656,
           22.452381794398274,
           22.75583938596491,
           22.741578055555557,
           22.219913333333334,
           21.770494736842107,
           21.84490289473684,
           21.70253886842105,
           21.56695685463659,
           21.487777342105264,
           21.58357158163265,
           21.642006657894736,
           21.89614782480677,
           22.03957546875,
           22.203814678362576,
           22.179358828947368,
           22.286904964285714,
           22.345081153846156,
           21.973214682539684,
           30.757664377476054,
           29.085490502346243,
           27.313000538238654,
           24.41200256277232,
           22.13942682217782,
           19.942208206872014,
           19.578419406185915,
           18.179415860878155,
           14.628647799189844,
           11.316874745839337,
           10.671685970540421,
           9.134980130644681,
           5.426337576730288,
           4.598748776682625,
           1.7400282106055494,
           0.1254828951630087,
           0.30100231731974164,
           0.21813968852519922,
           2.89342371648673,
           6.019762008379121,
           8.958126942107372,
           11.221560452060439,
           14.078618952846861,
           17.316303444522237,
           19.747794486320693,
           21.225739619391028,
           22.353621176923077,
           23.129783271912064,
           24.062992551225822,
           25.557971775978405,
           27.04237705029586,
           28.362178899816847,
           29.506697132173382,
           30.55781936171757,
           31.433221737649777,
           32.083659594402675,
           32.557351532284386,
           32.94788512286324
          ],
          "coloraxis": "coloraxis",
          "symbol": "circle"
         },
         "mode": "markers",
         "name": "",
         "orientation": "v",
         "showlegend": false,
         "type": "scatter",
         "x": [
          3505107.067669173,
          616707612.1340116,
          81268532.57894737,
          92935882,
          816775523.6447368,
          855178014.7894737,
          802666440,
          797818268.8421053,
          0,
          426858382.8195046,
          341575214.7526316,
          362579011.7142857,
          14360488.799999997,
          153859647.83684212,
          221091570.90000004,
          381834852.41052634,
          306571325.40000004,
          219680256.6,
          435978007.4842105,
          485341008.3,
          41565494.7,
          7485840,
          403673224.33759403,
          275367013.1999999,
          251485399.79999998,
          141860484.9,
          21638147.142857146,
          273620423.7,
          190178458.2,
          6150304.285714285,
          281136153.0789473,
          354130344,
          293227203.1263158,
          115183834.09411764,
          573295672.468421,
          517781305.5157894,
          628799681.4473684,
          556651502.8736843,
          601558873.7727273,
          466351885.8270676,
          617413505.555263,
          375533969.8924812,
          88408963.80000001,
          585301192.9,
          436162069.59999996,
          101202668.1,
          0,
          86142473.1,
          153348783.7263158,
          0,
          232473964.5,
          182922992.60827065,
          210036147.2,
          25096725.9,
          10591398,
          117828387.3,
          205741983.92307693,
          209103471.00000003,
          45322621.2,
          6343470,
          304284813.6,
          267477534.89999995,
          275788054.45479876,
          68318824.1,
          73733839.66227272,
          99932588.5263158,
          6262272.000000001,
          21310020,
          273776110.2,
          317302395.7058823,
          352377968.78571427,
          57621999.18461538,
          330454338.19342107,
          327939287.00399995,
          394872446.0398235,
          381475685.03400004,
          317355167.232,
          170794336.61273682,
          289977873.795,
          111076636.80397607,
          107091473.51936843,
          163381425.7523684,
          124725174.04800001,
          267103680.74999994,
          202554635.20200002,
          373851822.46500003,
          13279075.2,
          73287294.04800001,
          340836627.51,
          48281320.49082354,
          41539612.5,
          408396917.7,
          405093899.59999996,
          394142394.6,
          123849331.20000002,
          37415177.099999994,
          424459959.29999995,
          332555417.1,
          342035720.1,
          103721302.79999998,
          427365584.3663158,
          772948964.8246154,
          694534136.13,
          585597697.74,
          195004106.1,
          523493219.70000005,
          487701731.70000005,
          994773615.8400002,
          578141787.83,
          516080763.5400001,
          760652087.0400002,
          873963916.02,
          970437882.6899999,
          199664900.4335294,
          266324644.6105263,
          385927256.7,
          206819195.1,
          44736782.099999994,
          4835.103896103896,
          1530235.9616970648,
          708151.4557011874,
          812308.1731737922,
          1336499.7864140272,
          2174697.2724180077,
          841325.7052761944,
          1260452.2324553465,
          407761.486137392,
          953087.2788639301,
          1359375.3844957983,
          1373151.8319941824,
          942916.594528119,
          318370.2761278195,
          528701.5316855203,
          905573.3511764708,
          1267993.0964785833,
          1186636.0830981866,
          1151691.2289999085,
          60679.85415192392,
          131324086.77413699,
          160228392.49593723,
          178064235.97083,
          139579103.90473816,
          149503885.88956612,
          186719176.32212076,
          140733190.3956399,
          158025281.5981578,
          142746779.47530317,
          132013353.29484802,
          146912755.49809408,
          131464287.75291213,
          34078575.206502855,
          35907164.240216225,
          127936910.02581,
          126881650.43972054,
          114454757.75796236,
          123313918.92245999,
          151622953.41159317,
          140400047.22492313,
          7041979.571588183,
          2870049.0000000005,
          139221729,
          193245820.8,
          120383820.9,
          13011785.999999998,
          15822521.999999996,
          215056073.138009,
          98427171.8368421,
          27089546.400000002,
          23968395.434674922,
          175970035.794,
          145604651.976,
          157543923.366,
          135069188.094,
          253097129.97900003,
          149926530.87971428,
          289052752.483421,
          174787286.73394737,
          166144170.95810527,
          123517161.975,
          65555486.21699999,
          15156067.950000001,
          93039418.09657894,
          221547434.5127368,
          326923116.47447366,
          228110940.9487895,
          113790971.651,
          100818497.16,
          169549662.95810527,
          215230889.63733837,
          306775371.2452106,
          179284033.90184212,
          165337109.2653158,
          142469482.70442858,
          333580009.275,
          14042160,
          6230475,
          149406657.94285715,
          218352718.79999998,
          141552834.34736842,
          39896606.699999996,
          4963530.335294118,
          44811844.800000004,
          249986771.09999996,
          15981975.9,
          64419507.00000001,
          41462762.400000006,
          316839528.0057416,
          314260152.3,
          324419288.44736844,
          114942502.8,
          172761.204,
          667593228.1410002,
          612497809.773,
          584565988.3128947,
          122798710.95882353,
          29687297.4,
          364257192.20000005,
          334125695.70000005,
          371151290.3684211,
          78525893.7,
          121953798.9,
          129678285.6,
          158122215.52105263,
          31921980.300000004,
          71506129.52763157,
          66324917.7,
          36838259.1,
          158375485.0894737,
          16862839.2,
          17054109,
          189692478.9,
          103175138.7,
          274440054.59999996,
          26145299.699999996,
          4994379.402,
          477030737.2569999,
          480485251.13399994,
          531516531.987,
          478821891.52515787,
          230169742.40461874,
          137720320.71116102,
          466435052.26396227,
          471710941.88400006,
          265021194.99948055,
          343649206.62426317,
          374805668.00925,
          451210106.3879257,
          121476321.92561537,
          254588797.4191579,
          243505340.8666316,
          331463400.6372353,
          268298837.7034737,
          262853118.27473682,
          276308570.68200004,
          3083858.5999999996,
          318158444.70000005,
          396326555.8105263,
          413685822.7421053,
          29020038.300000004,
          14990890.736842103,
          333261304.20000005,
          299574697.5,
          150862482,
          56219162.4,
          214812003.14860684,
          300073175.09999996,
          280216746,
          8735856.3,
          20196291.6,
          270679815.27236843,
          307592993.4157894,
          278551901.7,
          103250509.19999997,
          19665035.182950817,
          296098620.2810611,
          691066904.2233363,
          664338357.65704,
          684208751.2179971,
          565141876.6359116,
          591214680.179368,
          579448723.407793,
          445715177.1833192,
          369284599.991185,
          233887371.33884668,
          357737261.3870364,
          146703466.78360307,
          101173875.03438261,
          468630214.1052281,
          314084931.3592974,
          299088552.19241136,
          249073151.55615628,
          178386572.65856358,
          210433265.3987776,
          209387609.24472874,
          5918000.032044199,
          211681275.8875619,
          557353825.0774242,
          421613300.11703426,
          426404324.5403618,
          188144046.82380912,
          0,
          189750819.9631579,
          124733085.52105263,
          0,
          4833947.0249999985,
          228291004.63437647,
          339215168.79213357,
          133970876.79393451,
          0,
          417727124.43044984,
          289280410.17228407,
          147431054.78766873,
          176892488.82120115,
          14420423.986013984,
          145269091.05647603,
          155296847.62538698,
          147300564.49602795,
          24445319.562030077,
          594412722.1393998,
          549935821.3818345,
          560531870.708848,
          614605726.4302878,
          265355267.86818713,
          16745360.100560952,
          251600490.2839412,
          458437962.05863976,
          445026563.77223253,
          379459423.7932971,
          150443637.22438973,
          0,
          46461782.56812079,
          379788984.4736068,
          402366877.7376774,
          350514825.8771303,
          154264981.84017193,
          70678200.3040863,
          468175509.9981896,
          344106246.6169206,
          221416796.59117994,
          69780984.55073614,
          485618856.3914192,
          592347170.7168256,
          623850442.6564896,
          667399693.5863764,
          643706629.5853007,
          468252440.6023591,
          502518851.2741718,
          529617807.19145435,
          413436099.9381668,
          199498084.49912202,
          553049669.6974975,
          577667482.2272365,
          245106949.1828406,
          49065577.65000982,
          145734190.9885714,
          134322573.25588235,
          226151322.78315789,
          222781313.15052631,
          135091959.39,
          170511851.4110526,
          149528922.9868421,
          277142765.17736846,
          306423826.3436842,
          326080380.16556394,
          211707546.76894736,
          327719804.7513369,
          247989228.07736844,
          334151178.4468421,
          476727871.6942105,
          405597044.52,
          264124052.65712547,
          140698561.50473684,
          476858185.32789475,
          179097220.42849624,
          138295506.43736842,
          450460365.27157897,
          453348020.2878947,
          432142014.8842106,
          48139584.29526316,
          8230691.146153846,
          460614108.59999996,
          349318189.87578946,
          333191169.6678947,
          268060976.4857143,
          276088577.2546154,
          223261886.61,
          263876552.1,
          147749330.86411765,
          202207793.4473684,
          189833148.89526317,
          123707810.08421053,
          231668.91
         ],
         "xaxis": "x",
         "y": [
          0.04237388038299595,
          0.04108931507137234,
          0.039635556473830054,
          0.03663300238833925,
          0.03755011113117486,
          0.03684479723167621,
          0.03831283593661731,
          0.0404324206916783,
          0.0524836358295552,
          0.0341743756603491,
          0.03368570380782161,
          0.033931458814128394,
          0.039392088564564866,
          0.0352581307186741,
          0.0334117657018065,
          0.027724930810928274,
          0.02793780790669531,
          0.029088401826072387,
          0.02962059203197273,
          0.03094073416476068,
          0.03555825363103238,
          0.03287744999667705,
          0.031462499186278435,
          0.030499078214560483,
          0.030814651457633978,
          0.03275069593083479,
          0.03555774978858763,
          0.03961643052256579,
          0.039207476318298747,
          0.0398480825087517,
          0.036369401401599,
          0.0364893704015895,
          0.03402050163564775,
          0.03709081964405715,
          0.03462165058552127,
          0.02983070590853972,
          0.030008794336720344,
          0.031005910653629624,
          0.03308689523370947,
          0.03350143853934972,
          0.03274708917538647,
          0.03245659546863016,
          0.030752690158196577,
          0.03642552145754609,
          0.038447631171654374,
          0.04152010960055676,
          0.027063586012681384,
          0.028694667747921804,
          0.03280217249094365,
          0.0373069194648653,
          0.0374044615784841,
          0.03673671710570587,
          0.03903567498903526,
          0.058459473227747624,
          0.030492204428650277,
          0.0302921066427501,
          0.03331422697590564,
          0.0336609142875514,
          0.038314206434841035,
          0.0301696353372257,
          0.03232993158121149,
          0.032780022964987006,
          0.03316367020325171,
          0.03327115429428172,
          0.03097238084429715,
          0.027000936975525313,
          0.03680970741973223,
          0.034501416743244605,
          0.03179500281878497,
          0.03414837206943215,
          0.03682521290368103,
          0.042379424185248586,
          0.036700544526602964,
          0.03485351065535347,
          0.03827989078972815,
          0.035891935864955204,
          0.04288134088200434,
          0.05195316931384507,
          0.05809793829880674,
          0.06478316993456217,
          0.06565195371461913,
          0.0590668308489207,
          0.057590479842016304,
          0.04705569448923341,
          0.03828984601925731,
          0.03619594098904818,
          0.0432965007952229,
          0.038295107061302285,
          0.037883071793598226,
          0.045556126924330975,
          0.04095148897745435,
          0.04106359785910258,
          0.03487400947238333,
          0.036948912194175634,
          0.044294848743065704,
          0.024215578316990775,
          0.027308608680264936,
          0.028849321077189887,
          0.02660143584358001,
          0.03153247672161866,
          0.05133608012500326,
          0.07417708986467847,
          0.0735212564039876,
          0.06853483469166405,
          0.0796214907304478,
          0.07925936211752971,
          0.07253120077826136,
          0.06831245680029802,
          0.056050999664897426,
          0.050682653253478566,
          0.04167359754282852,
          0.0380401844050129,
          0.03598462435309543,
          0.034311550757164834,
          0.03532285136724341,
          0.030179739135221866,
          0.031168781243340323,
          0.032223894407172,
          0.0243595616166317,
          0.02292956938768964,
          0.03008750083229224,
          0.03585940303089057,
          0.0367463774299549,
          0.03362404958620068,
          0.031695437810276735,
          0.03310241147289423,
          0.038600139682566245,
          0.043578769517549965,
          0.036556001737032495,
          0.03485928523938822,
          0.03147323742531651,
          0.030441297901223158,
          0.031065813568775334,
          0.03430318595857056,
          0.029661857663300217,
          0.028003941030111938,
          0.030036536857322244,
          0.03722208959854235,
          0.037405414206424646,
          0.03929200963206868,
          0.0440079570088323,
          0.035675896108396166,
          0.034172903731951663,
          0.0371182375502264,
          0.037875691327832424,
          0.03771810403649804,
          0.042196907160492916,
          0.03983429006480247,
          0.04062549674950141,
          0.04113404700925708,
          0.04250613320782528,
          0.04376049978739722,
          0.03475131006215918,
          0.0371187032159092,
          0.03728546953439875,
          0.034690042772642066,
          0.03841502527919822,
          0.03917291972820362,
          0.050296208612126435,
          0.02918697774888475,
          0.02914720639156269,
          0.028112904949308386,
          0.026121610386443207,
          0.032890750240502774,
          0.03049826082711547,
          0.033328331991772146,
          0.028843806005837587,
          0.03821659368164407,
          0.03934649146862345,
          0.04252255656987852,
          0.04671717873137686,
          0.035886671445424484,
          0.03484891440154127,
          0.03581667532267394,
          0.038161302394408736,
          0.03959429656690964,
          0.04162557417522115,
          0.03744691393565921,
          0.03881907565702802,
          0.030479036040330698,
          0.0483962845702812,
          0.039716898879038766,
          0.04397779529954698,
          0.04492601670957991,
          0.0471987023662653,
          0.04797157657022319,
          0.04666810081359739,
          0.04298071902828197,
          0.040576229984719735,
          0.04109335949564204,
          0.0435678392861598,
          0.03634893929631555,
          0.03679473096496751,
          0.03675547264324515,
          0.04657642709548213,
          0.0322644490507557,
          0.04312610344986101,
          0.037194160002909524,
          0.036754670472562694,
          0.055709900610667856,
          0.0321269682587514,
          0.041050815376492404,
          0.035279250578260646,
          0.04018879086423307,
          0.04186258170177325,
          0.035423863285808474,
          0.04007518087175661,
          0.04275330771099109,
          0.04154490485315124,
          0.0465975345740228,
          0.053330695280811746,
          0.05027133081708918,
          0.03894786353470198,
          0.039353812127221076,
          0.055035550899436764,
          0.04679169461220242,
          0.04201697401164489,
          0.044019941151070135,
          0.04092052875507297,
          0.050977394634941386,
          0.04198249608573596,
          0.038126444475525365,
          0.04009112373432314,
          0.04563696063347754,
          0.04296703676807361,
          0.07105401565956287,
          0.0415699051909389,
          0.04260400568702307,
          0.0508395539292223,
          0.027110851848994633,
          0.027641144974968036,
          0.026580087395156705,
          0.029658143159424093,
          0.03220584443495617,
          0.03138348982935025,
          0.03719978504175634,
          0.03854697910244977,
          0.04506622862527695,
          0.06724673207244353,
          0.0683155315892479,
          0.09150381833995594,
          0.09428496862761518,
          0.09241615248602837,
          0.08484587191647154,
          0.071814619229898,
          0.05834388756181451,
          0.04132232683026876,
          0.07982393805046895,
          0.0926511502947881,
          0.09348632314463404,
          0.07055045783462348,
          0.04528038459494934,
          0.04423904904530073,
          0.04847592986690075,
          0.043506184600090855,
          0.03977801338810277,
          0.03916929408691303,
          0.037409868605795975,
          0.041416689187450145,
          0.03135368914560787,
          0.026693515699286623,
          0.027062128502075393,
          0.026974621449820026,
          0.03177850066140671,
          0.02655674270346954,
          0.028269133491381077,
          0.03024121955371426,
          0.03482900060319494,
          0.04016755318553947,
          0.03693978631097422,
          0.03750795995353526,
          0.03670037304571007,
          0.04455862195785614,
          0.027558301702287166,
          0.029325882962509518,
          0.03143001702635461,
          0.02747855962300657,
          0.02687578611679794,
          0.026789563183758112,
          0.02811101847024839,
          0.027780990208657028,
          0.03448211224314087,
          0.04032109047525922,
          0.04689843622978748,
          0.05521414331908323,
          0.052432294068308676,
          0.043995302209341454,
          0.03708360165718891,
          0.03628494127338384,
          0.03741148842713562,
          0.03793779050481674,
          0.037298594977221086,
          0.03885062380932071,
          0.04712922508026049,
          0.053823299163744065,
          0.043170859634382094,
          0.043547758205446555,
          0.03216285515454001,
          0.026970898365771344,
          0.02918164460697113,
          0.035774741125041,
          0.03916667620748577,
          0.03510415436902944,
          0.0379900611719153,
          0.0201780519358099,
          0.02815487207563164,
          0.028891402989769204,
          0.030648051952244296,
          0.0288474483871491,
          0.032046706874097095,
          0.03233860656927622,
          0.03106430498666904,
          0.03394706444061876,
          0.03323974501957482,
          0.03336965654529743,
          0.03387269210074083,
          0.03270272635841573,
          0.0348301689853735,
          0.033768236636424434,
          0.030748874762458706,
          0.03249484425976803,
          0.032919877296475955,
          0.03848329441435198,
          0.03266909012492603,
          0.03326802025298004,
          0.04409709025785758,
          0.04501579084258302,
          0.04076855982583257,
          0.037693286332949535,
          0.0529272517817729,
          0.037616657208512976,
          0.042218234401326646,
          0.039005698879483214,
          0.0409887290195875,
          0.04823746987439439,
          0.031325584569365274,
          0.03461960947554748,
          0.033731838985032035,
          0.032557414751079074,
          0.03560765171095399,
          0.034307911513356396,
          0.033132534816953566,
          0.033022938392376425,
          0.032359118207702084,
          0.02984842333839129,
          0.035454743983979256,
          0.03293338612510223,
          0.03251539839620116,
          0.03183825301638149,
          0.0313836674323577,
          0.033355054711591045,
          0.03409629166674333,
          0.0317276211842948,
          0.03534803407890892,
          0.025652519155173636,
          0.03560307754929068,
          0.03877974841546915,
          0.03478992770308273,
          0.03550421968758737,
          0.03284954614579695,
          0.032254966573742286,
          0.036831404914461276,
          0.052778004542559855,
          0.06474032444250481,
          0.061868946830639086,
          0.05773514502459397,
          0.05808454803638709,
          0.06740604248018899,
          0.06226674478831007,
          0.07893905649307813,
          0.09836311261999033,
          0.06937068890003696,
          0.057196608098454296,
          0.051506631708516215,
          0.049653816915041,
          0.0437778060053039,
          0.04517028218696045,
          0.03693935678689511,
          0.04179689408275678,
          0.0431990097417949,
          0.04028059963266663,
          0.040593440644518745,
          0.0371754922944728,
          0.03953724887823373,
          0.040237627924674536,
          0.036681444498198726,
          0.03598526809960818,
          0.03695442976338749,
          0.054250819002568874,
          0.07367623886313805,
          0.09189521745993351,
          0.101142179400794
         ],
         "yaxis": "y"
        }
       ],
       "layout": {
        "coloraxis": {
         "colorbar": {
          "title": {
           "text": "lat"
          }
         },
         "colorscale": [
          [
           0,
           "#0d0887"
          ],
          [
           0.1111111111111111,
           "#46039f"
          ],
          [
           0.2222222222222222,
           "#7201a8"
          ],
          [
           0.3333333333333333,
           "#9c179e"
          ],
          [
           0.4444444444444444,
           "#bd3786"
          ],
          [
           0.5555555555555556,
           "#d8576b"
          ],
          [
           0.6666666666666666,
           "#ed7953"
          ],
          [
           0.7777777777777778,
           "#fb9f3a"
          ],
          [
           0.8888888888888888,
           "#fdca26"
          ],
          [
           1,
           "#f0f921"
          ]
         ]
        },
        "legend": {
         "tracegroupgap": 0
        },
        "template": {
         "data": {
          "bar": [
           {
            "error_x": {
             "color": "#2a3f5f"
            },
            "error_y": {
             "color": "#2a3f5f"
            },
            "marker": {
             "line": {
              "color": "#E5ECF6",
              "width": 0.5
             },
             "pattern": {
              "fillmode": "overlay",
              "size": 10,
              "solidity": 0.2
             }
            },
            "type": "bar"
           }
          ],
          "barpolar": [
           {
            "marker": {
             "line": {
              "color": "#E5ECF6",
              "width": 0.5
             },
             "pattern": {
              "fillmode": "overlay",
              "size": 10,
              "solidity": 0.2
             }
            },
            "type": "barpolar"
           }
          ],
          "carpet": [
           {
            "aaxis": {
             "endlinecolor": "#2a3f5f",
             "gridcolor": "white",
             "linecolor": "white",
             "minorgridcolor": "white",
             "startlinecolor": "#2a3f5f"
            },
            "baxis": {
             "endlinecolor": "#2a3f5f",
             "gridcolor": "white",
             "linecolor": "white",
             "minorgridcolor": "white",
             "startlinecolor": "#2a3f5f"
            },
            "type": "carpet"
           }
          ],
          "choropleth": [
           {
            "colorbar": {
             "outlinewidth": 0,
             "ticks": ""
            },
            "type": "choropleth"
           }
          ],
          "contour": [
           {
            "colorbar": {
             "outlinewidth": 0,
             "ticks": ""
            },
            "colorscale": [
             [
              0,
              "#0d0887"
             ],
             [
              0.1111111111111111,
              "#46039f"
             ],
             [
              0.2222222222222222,
              "#7201a8"
             ],
             [
              0.3333333333333333,
              "#9c179e"
             ],
             [
              0.4444444444444444,
              "#bd3786"
             ],
             [
              0.5555555555555556,
              "#d8576b"
             ],
             [
              0.6666666666666666,
              "#ed7953"
             ],
             [
              0.7777777777777778,
              "#fb9f3a"
             ],
             [
              0.8888888888888888,
              "#fdca26"
             ],
             [
              1,
              "#f0f921"
             ]
            ],
            "type": "contour"
           }
          ],
          "contourcarpet": [
           {
            "colorbar": {
             "outlinewidth": 0,
             "ticks": ""
            },
            "type": "contourcarpet"
           }
          ],
          "heatmap": [
           {
            "colorbar": {
             "outlinewidth": 0,
             "ticks": ""
            },
            "colorscale": [
             [
              0,
              "#0d0887"
             ],
             [
              0.1111111111111111,
              "#46039f"
             ],
             [
              0.2222222222222222,
              "#7201a8"
             ],
             [
              0.3333333333333333,
              "#9c179e"
             ],
             [
              0.4444444444444444,
              "#bd3786"
             ],
             [
              0.5555555555555556,
              "#d8576b"
             ],
             [
              0.6666666666666666,
              "#ed7953"
             ],
             [
              0.7777777777777778,
              "#fb9f3a"
             ],
             [
              0.8888888888888888,
              "#fdca26"
             ],
             [
              1,
              "#f0f921"
             ]
            ],
            "type": "heatmap"
           }
          ],
          "heatmapgl": [
           {
            "colorbar": {
             "outlinewidth": 0,
             "ticks": ""
            },
            "colorscale": [
             [
              0,
              "#0d0887"
             ],
             [
              0.1111111111111111,
              "#46039f"
             ],
             [
              0.2222222222222222,
              "#7201a8"
             ],
             [
              0.3333333333333333,
              "#9c179e"
             ],
             [
              0.4444444444444444,
              "#bd3786"
             ],
             [
              0.5555555555555556,
              "#d8576b"
             ],
             [
              0.6666666666666666,
              "#ed7953"
             ],
             [
              0.7777777777777778,
              "#fb9f3a"
             ],
             [
              0.8888888888888888,
              "#fdca26"
             ],
             [
              1,
              "#f0f921"
             ]
            ],
            "type": "heatmapgl"
           }
          ],
          "histogram": [
           {
            "marker": {
             "pattern": {
              "fillmode": "overlay",
              "size": 10,
              "solidity": 0.2
             }
            },
            "type": "histogram"
           }
          ],
          "histogram2d": [
           {
            "colorbar": {
             "outlinewidth": 0,
             "ticks": ""
            },
            "colorscale": [
             [
              0,
              "#0d0887"
             ],
             [
              0.1111111111111111,
              "#46039f"
             ],
             [
              0.2222222222222222,
              "#7201a8"
             ],
             [
              0.3333333333333333,
              "#9c179e"
             ],
             [
              0.4444444444444444,
              "#bd3786"
             ],
             [
              0.5555555555555556,
              "#d8576b"
             ],
             [
              0.6666666666666666,
              "#ed7953"
             ],
             [
              0.7777777777777778,
              "#fb9f3a"
             ],
             [
              0.8888888888888888,
              "#fdca26"
             ],
             [
              1,
              "#f0f921"
             ]
            ],
            "type": "histogram2d"
           }
          ],
          "histogram2dcontour": [
           {
            "colorbar": {
             "outlinewidth": 0,
             "ticks": ""
            },
            "colorscale": [
             [
              0,
              "#0d0887"
             ],
             [
              0.1111111111111111,
              "#46039f"
             ],
             [
              0.2222222222222222,
              "#7201a8"
             ],
             [
              0.3333333333333333,
              "#9c179e"
             ],
             [
              0.4444444444444444,
              "#bd3786"
             ],
             [
              0.5555555555555556,
              "#d8576b"
             ],
             [
              0.6666666666666666,
              "#ed7953"
             ],
             [
              0.7777777777777778,
              "#fb9f3a"
             ],
             [
              0.8888888888888888,
              "#fdca26"
             ],
             [
              1,
              "#f0f921"
             ]
            ],
            "type": "histogram2dcontour"
           }
          ],
          "mesh3d": [
           {
            "colorbar": {
             "outlinewidth": 0,
             "ticks": ""
            },
            "type": "mesh3d"
           }
          ],
          "parcoords": [
           {
            "line": {
             "colorbar": {
              "outlinewidth": 0,
              "ticks": ""
             }
            },
            "type": "parcoords"
           }
          ],
          "pie": [
           {
            "automargin": true,
            "type": "pie"
           }
          ],
          "scatter": [
           {
            "fillpattern": {
             "fillmode": "overlay",
             "size": 10,
             "solidity": 0.2
            },
            "type": "scatter"
           }
          ],
          "scatter3d": [
           {
            "line": {
             "colorbar": {
              "outlinewidth": 0,
              "ticks": ""
             }
            },
            "marker": {
             "colorbar": {
              "outlinewidth": 0,
              "ticks": ""
             }
            },
            "type": "scatter3d"
           }
          ],
          "scattercarpet": [
           {
            "marker": {
             "colorbar": {
              "outlinewidth": 0,
              "ticks": ""
             }
            },
            "type": "scattercarpet"
           }
          ],
          "scattergeo": [
           {
            "marker": {
             "colorbar": {
              "outlinewidth": 0,
              "ticks": ""
             }
            },
            "type": "scattergeo"
           }
          ],
          "scattergl": [
           {
            "marker": {
             "colorbar": {
              "outlinewidth": 0,
              "ticks": ""
             }
            },
            "type": "scattergl"
           }
          ],
          "scattermapbox": [
           {
            "marker": {
             "colorbar": {
              "outlinewidth": 0,
              "ticks": ""
             }
            },
            "type": "scattermapbox"
           }
          ],
          "scatterpolar": [
           {
            "marker": {
             "colorbar": {
              "outlinewidth": 0,
              "ticks": ""
             }
            },
            "type": "scatterpolar"
           }
          ],
          "scatterpolargl": [
           {
            "marker": {
             "colorbar": {
              "outlinewidth": 0,
              "ticks": ""
             }
            },
            "type": "scatterpolargl"
           }
          ],
          "scatterternary": [
           {
            "marker": {
             "colorbar": {
              "outlinewidth": 0,
              "ticks": ""
             }
            },
            "type": "scatterternary"
           }
          ],
          "surface": [
           {
            "colorbar": {
             "outlinewidth": 0,
             "ticks": ""
            },
            "colorscale": [
             [
              0,
              "#0d0887"
             ],
             [
              0.1111111111111111,
              "#46039f"
             ],
             [
              0.2222222222222222,
              "#7201a8"
             ],
             [
              0.3333333333333333,
              "#9c179e"
             ],
             [
              0.4444444444444444,
              "#bd3786"
             ],
             [
              0.5555555555555556,
              "#d8576b"
             ],
             [
              0.6666666666666666,
              "#ed7953"
             ],
             [
              0.7777777777777778,
              "#fb9f3a"
             ],
             [
              0.8888888888888888,
              "#fdca26"
             ],
             [
              1,
              "#f0f921"
             ]
            ],
            "type": "surface"
           }
          ],
          "table": [
           {
            "cells": {
             "fill": {
              "color": "#EBF0F8"
             },
             "line": {
              "color": "white"
             }
            },
            "header": {
             "fill": {
              "color": "#C8D4E3"
             },
             "line": {
              "color": "white"
             }
            },
            "type": "table"
           }
          ]
         },
         "layout": {
          "annotationdefaults": {
           "arrowcolor": "#2a3f5f",
           "arrowhead": 0,
           "arrowwidth": 1
          },
          "autotypenumbers": "strict",
          "coloraxis": {
           "colorbar": {
            "outlinewidth": 0,
            "ticks": ""
           }
          },
          "colorscale": {
           "diverging": [
            [
             0,
             "#8e0152"
            ],
            [
             0.1,
             "#c51b7d"
            ],
            [
             0.2,
             "#de77ae"
            ],
            [
             0.3,
             "#f1b6da"
            ],
            [
             0.4,
             "#fde0ef"
            ],
            [
             0.5,
             "#f7f7f7"
            ],
            [
             0.6,
             "#e6f5d0"
            ],
            [
             0.7,
             "#b8e186"
            ],
            [
             0.8,
             "#7fbc41"
            ],
            [
             0.9,
             "#4d9221"
            ],
            [
             1,
             "#276419"
            ]
           ],
           "sequential": [
            [
             0,
             "#0d0887"
            ],
            [
             0.1111111111111111,
             "#46039f"
            ],
            [
             0.2222222222222222,
             "#7201a8"
            ],
            [
             0.3333333333333333,
             "#9c179e"
            ],
            [
             0.4444444444444444,
             "#bd3786"
            ],
            [
             0.5555555555555556,
             "#d8576b"
            ],
            [
             0.6666666666666666,
             "#ed7953"
            ],
            [
             0.7777777777777778,
             "#fb9f3a"
            ],
            [
             0.8888888888888888,
             "#fdca26"
            ],
            [
             1,
             "#f0f921"
            ]
           ],
           "sequentialminus": [
            [
             0,
             "#0d0887"
            ],
            [
             0.1111111111111111,
             "#46039f"
            ],
            [
             0.2222222222222222,
             "#7201a8"
            ],
            [
             0.3333333333333333,
             "#9c179e"
            ],
            [
             0.4444444444444444,
             "#bd3786"
            ],
            [
             0.5555555555555556,
             "#d8576b"
            ],
            [
             0.6666666666666666,
             "#ed7953"
            ],
            [
             0.7777777777777778,
             "#fb9f3a"
            ],
            [
             0.8888888888888888,
             "#fdca26"
            ],
            [
             1,
             "#f0f921"
            ]
           ]
          },
          "colorway": [
           "#636efa",
           "#EF553B",
           "#00cc96",
           "#ab63fa",
           "#FFA15A",
           "#19d3f3",
           "#FF6692",
           "#B6E880",
           "#FF97FF",
           "#FECB52"
          ],
          "font": {
           "color": "#2a3f5f"
          },
          "geo": {
           "bgcolor": "white",
           "lakecolor": "white",
           "landcolor": "#E5ECF6",
           "showlakes": true,
           "showland": true,
           "subunitcolor": "white"
          },
          "hoverlabel": {
           "align": "left"
          },
          "hovermode": "closest",
          "mapbox": {
           "style": "light"
          },
          "paper_bgcolor": "white",
          "plot_bgcolor": "#E5ECF6",
          "polar": {
           "angularaxis": {
            "gridcolor": "white",
            "linecolor": "white",
            "ticks": ""
           },
           "bgcolor": "#E5ECF6",
           "radialaxis": {
            "gridcolor": "white",
            "linecolor": "white",
            "ticks": ""
           }
          },
          "scene": {
           "xaxis": {
            "backgroundcolor": "#E5ECF6",
            "gridcolor": "white",
            "gridwidth": 2,
            "linecolor": "white",
            "showbackground": true,
            "ticks": "",
            "zerolinecolor": "white"
           },
           "yaxis": {
            "backgroundcolor": "#E5ECF6",
            "gridcolor": "white",
            "gridwidth": 2,
            "linecolor": "white",
            "showbackground": true,
            "ticks": "",
            "zerolinecolor": "white"
           },
           "zaxis": {
            "backgroundcolor": "#E5ECF6",
            "gridcolor": "white",
            "gridwidth": 2,
            "linecolor": "white",
            "showbackground": true,
            "ticks": "",
            "zerolinecolor": "white"
           }
          },
          "shapedefaults": {
           "line": {
            "color": "#2a3f5f"
           }
          },
          "ternary": {
           "aaxis": {
            "gridcolor": "white",
            "linecolor": "white",
            "ticks": ""
           },
           "baxis": {
            "gridcolor": "white",
            "linecolor": "white",
            "ticks": ""
           },
           "bgcolor": "#E5ECF6",
           "caxis": {
            "gridcolor": "white",
            "linecolor": "white",
            "ticks": ""
           }
          },
          "title": {
           "x": 0.05
          },
          "xaxis": {
           "automargin": true,
           "gridcolor": "white",
           "linecolor": "white",
           "ticks": "",
           "title": {
            "standoff": 15
           },
           "zerolinecolor": "white",
           "zerolinewidth": 2
          },
          "yaxis": {
           "automargin": true,
           "gridcolor": "white",
           "linecolor": "white",
           "ticks": "",
           "title": {
            "standoff": 15
           },
           "zerolinecolor": "white",
           "zerolinewidth": 2
          }
         }
        },
        "title": {
         "text": "Carbon Quota Against Integreated PAR in Varying Latitudes"
        },
        "xaxis": {
         "anchor": "y",
         "domain": [
          0,
          1
         ],
         "title": {
          "text": "Integrated PAR (μE / m^2)"
         },
         "type": "log"
        },
        "yaxis": {
         "anchor": "x",
         "domain": [
          0,
          1
         ],
         "title": {
          "text": "Carbon Quota (pg C / cell)"
         },
         "type": "log"
        }
       }
      },
      "text/html": [
       "<div>                            <div id=\"f648a8f2-6792-4f95-8057-0d3128a1f27d\" class=\"plotly-graph-div\" style=\"height:525px; width:100%;\"></div>            <script type=\"text/javascript\">                require([\"plotly\"], function(Plotly) {                    window.PLOTLYENV=window.PLOTLYENV || {};                                    if (document.getElementById(\"f648a8f2-6792-4f95-8057-0d3128a1f27d\")) {                    Plotly.newPlot(                        \"f648a8f2-6792-4f95-8057-0d3128a1f27d\",                        [{\"hovertemplate\":\"Integrated PAR (\\u03bcE / m^2)=%{x}<br>Carbon Quota (pg C / cell)=%{y}<br>lat=%{marker.color}<extra></extra>\",\"legendgroup\":\"\",\"marker\":{\"color\":[46.237233208020044,44.19006287914528,39.777685392996375,35.58065613756614,31.418705282894734,27.330967406015038,24.758008055555557,22.78588342105263,21.245729411764707,22.17100605670523,22.77859788888889,22.774619892494393,22.67434,41.898047146814406,39.02237938596491,35.93776360845295,32.88127575,29.717809047619046,26.635673947368424,24.042974047619047,22.42674875,21.343488333333333,22.443624335839598,22.76818925,22.77266738095238,21.979224102564103,21.342839523809527,22.201997692307692,22.71622423076923,21.342908214285714,22.342183359133127,22.740705462184877,22.730924799168974,22.35891213235294,22.83480854174911,24.302623808864265,24.445516934210524,24.549527567529935,24.590515568181818,24.572951870465637,24.547497658051377,24.510186035431715,24.409943,24.34783396407686,24.143524083333332,22.607146917293232,21.308455548245615,22.759054583333334,22.763265208425477,21.34377058823529,22.379303583333332,22.75212219002367,22.732977408260233,22.455500999999998,21.3084725,22.27575774509804,22.729144387464387,22.707721499999998,22.22227375,21.3435075,22.39656318859649,22.74959421052632,22.728654808393532,22.311626041666667,22.563851550802138,22.668623007518796,22.672396666666668,22.38548833333333,22.750531000000002,22.72537357142857,22.071766250000003,21.571499999999997,22.79272447368421,24.361546428571426,27.33050492647059,28.91587523809524,31.761976249999996,33.581106390977446,36.64946425,37.017321903622694,36.116594721362226,35.996835180055406,33.71261525,30.35748380952381,27.21878189285714,25.245864761904766,23.07922333333333,22.8092,23.488380646258502,23.463545798319327,22.748177916666666,22.727463666666665,22.739357805555557,21.902156302631578,21.2556,22.748673750000002,22.745682857142857,22.75815725,21.95939857142857,21.7156,32.099746714334856,35.687938955365624,39.443619999999996,41.6954225,40.54898842592593,38.41351068181818,36.90340333333333,36.11590363636364,34.99170475,33.92241517272728,32.33361,30.200532142857146,27.15886525,23.451094957983194,22.241212179769736,22.772080583333334,22.77822369047619,22.801235,21.43058,22.842351541353384,24.904994007472382,27.351438571428574,26.31187675,25.114253095238094,25.16925322222222,25.67161690476191,24.730043681318683,24.771090098039213,24.800862922437673,24.740403611111113,25.646889249999997,26.48305052631579,26.47374209876543,26.48871212820513,26.526719769230773,26.672689523809524,25.0710565,24.080232499999997,22.409099518443547,23.974589740712073,27.308988006535948,27.782652881836945,26.636733186263736,25.830537484817814,27.826742584537172,28.95467599111415,32.675713513157895,35.258870089181286,35.22890557204978,35.26639556530214,37.406233571428565,38.87982927853192,34.850012,34.003494426691724,33.868284131578946,30.27386255309326,24.91303877436647,24.158529758947367,23.642998296969697,21.34307535,22.353583609999998,22.784335269564064,22.771092009375,22.158171308333333,21.343300555555555,22.457101154977373,22.799406907894735,22.7993,21.34776512383901,21.35287144047619,21.159053823529412,22.118829210526314,22.077052333333334,21.887138823529412,21.90210451814059,21.96211380263158,22.108007701754385,22.142476478696743,22.10910885620915,22.04555285714286,21.6302825,22.09790569627193,22.266251052631578,22.350357619047617,22.106281857585138,22.305364666666666,22.26711975,22.173737698412697,22.134188403361346,22.11542761904762,23.304916538461537,24.5715734375,24.580397473544974,23.985370238095236,22.657315476190476,21.334377500000002,22.27882455352564,22.7797875,22.787180192982454,22.44153574074074,21.357591911764708,22.15854363292011,22.612785555555558,21.84629,22.649200238095236,21.35000625,22.27810546544391,22.789751177248675,22.760439129605263,22.19796533181818,19.514285833333332,19.427065714285714,18.9681695,19.279409659442727,20.4436775,21.34047,22.384757989417988,22.772635,22.738821491228073,22.2991128125,22.436918232986113,22.777375499999998,22.7881133933518,22.404795913461538,22.47257258731319,21.942772916666666,22.745458333333335,22.775468573407203,22.75863,21.340558333333334,22.395176,22.74169705882353,22.758572058823532,22.81298625,22.731095000000003,25.201969269005847,28.80120037593985,31.911824941520468,35.30871390977444,38.38821760061919,41.452173157894734,41.66106788533835,41.61097880952381,39.31936752715121,36.942534649122805,34.41839875,33.15593329352794,35.46952375,40.082722269562794,40.8278281871345,36.56028983193277,32.192800210526315,27.446216635338345,23.861675625,21.34300222222222,22.36096714285714,22.75121930263158,22.703095839598998,22.664235416666667,21.34283157894737,22.373909,22.789662,22.768412307692305,22.377928125,22.28011641868512,22.7460490625,22.762650999999998,22.772215,21.33890166666667,22.519432767027865,22.723707631578947,22.684077,22.13468396694215,14.693798066826739,16.104117530966143,18.339405744392224,20.500692078148663,22.67286458807731,24.756617070401706,26.850708209254382,28.7768352003153,30.396196929151735,31.35357178623319,32.85214294895738,33.674771988121,34.06183971162628,34.44320818972238,33.70334753157775,32.14025194648848,32.23562831265376,33.13150595132092,34.051893729906055,34.927290958513126,35.81621498369456,36.45407428664058,2.187635191517631,6.724748214693785,11.356896805820897,16.422254134270837,20.151971128398976,21.34342745643992,22.27869485154417,22.60470544120733,21.55703836616022,21.345772464952734,22.26259603108925,22.715934078883386,22.211261767050903,21.342649794884167,22.303089916161532,22.75707322008101,22.75199706801737,22.32028381422725,22.762806203703704,22.769927894736842,22.753452460526315,22.744129047619047,22.413990460526318,22.134612083591332,22.760354523809525,22.734727171052633,22.729914585073793,21.88983821862348,21.339353333333335,22.34419252819549,22.768914570637122,22.8373065,22.72123527777778,21.633130465587044,21.315085714285715,21.30853080882353,22.422614840643273,22.73202447368421,22.6825053250774,22.024051666666665,21.33656,22.452381794398274,22.75583938596491,22.741578055555557,22.219913333333334,21.770494736842107,21.84490289473684,21.70253886842105,21.56695685463659,21.487777342105264,21.58357158163265,21.642006657894736,21.89614782480677,22.03957546875,22.203814678362576,22.179358828947368,22.286904964285714,22.345081153846156,21.973214682539684,30.757664377476054,29.085490502346243,27.313000538238654,24.41200256277232,22.13942682217782,19.942208206872014,19.578419406185915,18.179415860878155,14.628647799189844,11.316874745839337,10.671685970540421,9.134980130644681,5.426337576730288,4.598748776682625,1.7400282106055494,0.1254828951630087,0.30100231731974164,0.21813968852519922,2.89342371648673,6.019762008379121,8.958126942107372,11.221560452060439,14.078618952846861,17.316303444522237,19.747794486320693,21.225739619391028,22.353621176923077,23.129783271912064,24.062992551225822,25.557971775978405,27.04237705029586,28.362178899816847,29.506697132173382,30.55781936171757,31.433221737649777,32.083659594402675,32.557351532284386,32.94788512286324],\"coloraxis\":\"coloraxis\",\"symbol\":\"circle\"},\"mode\":\"markers\",\"name\":\"\",\"orientation\":\"v\",\"showlegend\":false,\"x\":[3505107.067669173,616707612.1340116,81268532.57894737,92935882.0,816775523.6447368,855178014.7894737,802666440.0,797818268.8421053,0.0,426858382.8195046,341575214.7526316,362579011.7142857,14360488.799999997,153859647.83684212,221091570.90000004,381834852.41052634,306571325.40000004,219680256.6,435978007.4842105,485341008.3,41565494.7,7485840.0,403673224.33759403,275367013.1999999,251485399.79999998,141860484.9,21638147.142857146,273620423.7,190178458.2,6150304.285714285,281136153.0789473,354130344.0,293227203.1263158,115183834.09411764,573295672.468421,517781305.5157894,628799681.4473684,556651502.8736843,601558873.7727273,466351885.8270676,617413505.555263,375533969.8924812,88408963.80000001,585301192.9,436162069.59999996,101202668.1,0.0,86142473.1,153348783.7263158,0.0,232473964.5,182922992.60827065,210036147.2,25096725.9,10591398.0,117828387.3,205741983.92307693,209103471.00000003,45322621.2,6343470.0,304284813.6,267477534.89999995,275788054.45479876,68318824.1,73733839.66227272,99932588.5263158,6262272.000000001,21310020.0,273776110.2,317302395.7058823,352377968.78571427,57621999.18461538,330454338.19342107,327939287.00399995,394872446.0398235,381475685.03400004,317355167.232,170794336.61273682,289977873.795,111076636.80397607,107091473.51936843,163381425.7523684,124725174.04800001,267103680.74999994,202554635.20200002,373851822.46500003,13279075.2,73287294.04800001,340836627.51,48281320.49082354,41539612.5,408396917.7,405093899.59999996,394142394.6,123849331.20000002,37415177.099999994,424459959.29999995,332555417.1,342035720.1,103721302.79999998,427365584.3663158,772948964.8246154,694534136.13,585597697.74,195004106.1,523493219.70000005,487701731.70000005,994773615.8400002,578141787.83,516080763.5400001,760652087.0400002,873963916.02,970437882.6899999,199664900.4335294,266324644.6105263,385927256.7,206819195.1,44736782.099999994,4835.103896103896,1530235.9616970648,708151.4557011874,812308.1731737922,1336499.7864140272,2174697.2724180077,841325.7052761944,1260452.2324553465,407761.486137392,953087.2788639301,1359375.3844957983,1373151.8319941824,942916.594528119,318370.2761278195,528701.5316855203,905573.3511764708,1267993.0964785833,1186636.0830981866,1151691.2289999085,60679.85415192392,131324086.77413699,160228392.49593723,178064235.97083,139579103.90473816,149503885.88956612,186719176.32212076,140733190.3956399,158025281.5981578,142746779.47530317,132013353.29484802,146912755.49809408,131464287.75291213,34078575.206502855,35907164.240216225,127936910.02581,126881650.43972054,114454757.75796236,123313918.92245999,151622953.41159317,140400047.22492313,7041979.571588183,2870049.0000000005,139221729.0,193245820.8,120383820.9,13011785.999999998,15822521.999999996,215056073.138009,98427171.8368421,27089546.400000002,23968395.434674922,175970035.794,145604651.976,157543923.366,135069188.094,253097129.97900003,149926530.87971428,289052752.483421,174787286.73394737,166144170.95810527,123517161.975,65555486.21699999,15156067.950000001,93039418.09657894,221547434.5127368,326923116.47447366,228110940.9487895,113790971.651,100818497.16,169549662.95810527,215230889.63733837,306775371.2452106,179284033.90184212,165337109.2653158,142469482.70442858,333580009.275,14042160.0,6230475.0,149406657.94285715,218352718.79999998,141552834.34736842,39896606.699999996,4963530.335294118,44811844.800000004,249986771.09999996,15981975.9,64419507.00000001,41462762.400000006,316839528.0057416,314260152.3,324419288.44736844,114942502.8,172761.204,667593228.1410002,612497809.773,584565988.3128947,122798710.95882353,29687297.4,364257192.20000005,334125695.70000005,371151290.3684211,78525893.7,121953798.9,129678285.6,158122215.52105263,31921980.300000004,71506129.52763157,66324917.7,36838259.1,158375485.0894737,16862839.2,17054109.0,189692478.9,103175138.7,274440054.59999996,26145299.699999996,4994379.402,477030737.2569999,480485251.13399994,531516531.987,478821891.52515787,230169742.40461874,137720320.71116102,466435052.26396227,471710941.88400006,265021194.99948055,343649206.62426317,374805668.00925,451210106.3879257,121476321.92561537,254588797.4191579,243505340.8666316,331463400.6372353,268298837.7034737,262853118.27473682,276308570.68200004,3083858.5999999996,318158444.70000005,396326555.8105263,413685822.7421053,29020038.300000004,14990890.736842103,333261304.20000005,299574697.5,150862482.0,56219162.4,214812003.14860684,300073175.09999996,280216746.0,8735856.3,20196291.6,270679815.27236843,307592993.4157894,278551901.7,103250509.19999997,19665035.182950817,296098620.2810611,691066904.2233363,664338357.65704,684208751.2179971,565141876.6359116,591214680.179368,579448723.407793,445715177.1833192,369284599.991185,233887371.33884668,357737261.3870364,146703466.78360307,101173875.03438261,468630214.1052281,314084931.3592974,299088552.19241136,249073151.55615628,178386572.65856358,210433265.3987776,209387609.24472874,5918000.032044199,211681275.8875619,557353825.0774242,421613300.11703426,426404324.5403618,188144046.82380912,0.0,189750819.9631579,124733085.52105263,0.0,4833947.0249999985,228291004.63437647,339215168.79213357,133970876.79393451,0.0,417727124.43044984,289280410.17228407,147431054.78766873,176892488.82120115,14420423.986013984,145269091.05647603,155296847.62538698,147300564.49602795,24445319.562030077,594412722.1393998,549935821.3818345,560531870.708848,614605726.4302878,265355267.86818713,16745360.100560952,251600490.2839412,458437962.05863976,445026563.77223253,379459423.7932971,150443637.22438973,0.0,46461782.56812079,379788984.4736068,402366877.7376774,350514825.8771303,154264981.84017193,70678200.3040863,468175509.9981896,344106246.6169206,221416796.59117994,69780984.55073614,485618856.3914192,592347170.7168256,623850442.6564896,667399693.5863764,643706629.5853007,468252440.6023591,502518851.2741718,529617807.19145435,413436099.9381668,199498084.49912202,553049669.6974975,577667482.2272365,245106949.1828406,49065577.65000982,145734190.9885714,134322573.25588235,226151322.78315789,222781313.15052631,135091959.39,170511851.4110526,149528922.9868421,277142765.17736846,306423826.3436842,326080380.16556394,211707546.76894736,327719804.7513369,247989228.07736844,334151178.4468421,476727871.6942105,405597044.52,264124052.65712547,140698561.50473684,476858185.32789475,179097220.42849624,138295506.43736842,450460365.27157897,453348020.2878947,432142014.8842106,48139584.29526316,8230691.146153846,460614108.59999996,349318189.87578946,333191169.6678947,268060976.4857143,276088577.2546154,223261886.61,263876552.1,147749330.86411765,202207793.4473684,189833148.89526317,123707810.08421053,231668.91],\"xaxis\":\"x\",\"y\":[0.04237388038299595,0.04108931507137234,0.039635556473830054,0.03663300238833925,0.03755011113117486,0.03684479723167621,0.03831283593661731,0.0404324206916783,0.0524836358295552,0.0341743756603491,0.03368570380782161,0.033931458814128394,0.039392088564564866,0.0352581307186741,0.0334117657018065,0.027724930810928274,0.02793780790669531,0.029088401826072387,0.02962059203197273,0.03094073416476068,0.03555825363103238,0.03287744999667705,0.031462499186278435,0.030499078214560483,0.030814651457633978,0.03275069593083479,0.03555774978858763,0.03961643052256579,0.039207476318298747,0.0398480825087517,0.036369401401599,0.0364893704015895,0.03402050163564775,0.03709081964405715,0.03462165058552127,0.02983070590853972,0.030008794336720344,0.031005910653629624,0.03308689523370947,0.03350143853934972,0.03274708917538647,0.03245659546863016,0.030752690158196577,0.03642552145754609,0.038447631171654374,0.04152010960055676,0.027063586012681384,0.028694667747921804,0.03280217249094365,0.0373069194648653,0.0374044615784841,0.03673671710570587,0.03903567498903526,0.058459473227747624,0.030492204428650277,0.0302921066427501,0.03331422697590564,0.0336609142875514,0.038314206434841035,0.0301696353372257,0.03232993158121149,0.032780022964987006,0.03316367020325171,0.03327115429428172,0.03097238084429715,0.027000936975525313,0.03680970741973223,0.034501416743244605,0.03179500281878497,0.03414837206943215,0.03682521290368103,0.042379424185248586,0.036700544526602964,0.03485351065535347,0.03827989078972815,0.035891935864955204,0.04288134088200434,0.05195316931384507,0.05809793829880674,0.06478316993456217,0.06565195371461913,0.0590668308489207,0.057590479842016304,0.04705569448923341,0.03828984601925731,0.03619594098904818,0.0432965007952229,0.038295107061302285,0.037883071793598226,0.045556126924330975,0.04095148897745435,0.04106359785910258,0.03487400947238333,0.036948912194175634,0.044294848743065704,0.024215578316990775,0.027308608680264936,0.028849321077189887,0.02660143584358001,0.03153247672161866,0.05133608012500326,0.07417708986467847,0.0735212564039876,0.06853483469166405,0.0796214907304478,0.07925936211752971,0.07253120077826136,0.06831245680029802,0.056050999664897426,0.050682653253478566,0.04167359754282852,0.0380401844050129,0.03598462435309543,0.034311550757164834,0.03532285136724341,0.030179739135221866,0.031168781243340323,0.032223894407172,0.0243595616166317,0.02292956938768964,0.03008750083229224,0.03585940303089057,0.0367463774299549,0.03362404958620068,0.031695437810276735,0.03310241147289423,0.038600139682566245,0.043578769517549965,0.036556001737032495,0.03485928523938822,0.03147323742531651,0.030441297901223158,0.031065813568775334,0.03430318595857056,0.029661857663300217,0.028003941030111938,0.030036536857322244,0.03722208959854235,0.037405414206424646,0.03929200963206868,0.0440079570088323,0.035675896108396166,0.034172903731951663,0.0371182375502264,0.037875691327832424,0.03771810403649804,0.042196907160492916,0.03983429006480247,0.04062549674950141,0.04113404700925708,0.04250613320782528,0.04376049978739722,0.03475131006215918,0.0371187032159092,0.03728546953439875,0.034690042772642066,0.03841502527919822,0.03917291972820362,0.050296208612126435,0.02918697774888475,0.02914720639156269,0.028112904949308386,0.026121610386443207,0.032890750240502774,0.03049826082711547,0.033328331991772146,0.028843806005837587,0.03821659368164407,0.03934649146862345,0.04252255656987852,0.04671717873137686,0.035886671445424484,0.03484891440154127,0.03581667532267394,0.038161302394408736,0.03959429656690964,0.04162557417522115,0.03744691393565921,0.03881907565702802,0.030479036040330698,0.0483962845702812,0.039716898879038766,0.04397779529954698,0.04492601670957991,0.0471987023662653,0.04797157657022319,0.04666810081359739,0.04298071902828197,0.040576229984719735,0.04109335949564204,0.0435678392861598,0.03634893929631555,0.03679473096496751,0.03675547264324515,0.04657642709548213,0.0322644490507557,0.04312610344986101,0.037194160002909524,0.036754670472562694,0.055709900610667856,0.0321269682587514,0.041050815376492404,0.035279250578260646,0.04018879086423307,0.04186258170177325,0.035423863285808474,0.04007518087175661,0.04275330771099109,0.04154490485315124,0.0465975345740228,0.053330695280811746,0.05027133081708918,0.03894786353470198,0.039353812127221076,0.055035550899436764,0.04679169461220242,0.04201697401164489,0.044019941151070135,0.04092052875507297,0.050977394634941386,0.04198249608573596,0.038126444475525365,0.04009112373432314,0.04563696063347754,0.04296703676807361,0.07105401565956287,0.0415699051909389,0.04260400568702307,0.0508395539292223,0.027110851848994633,0.027641144974968036,0.026580087395156705,0.029658143159424093,0.03220584443495617,0.03138348982935025,0.03719978504175634,0.03854697910244977,0.04506622862527695,0.06724673207244353,0.0683155315892479,0.09150381833995594,0.09428496862761518,0.09241615248602837,0.08484587191647154,0.071814619229898,0.05834388756181451,0.04132232683026876,0.07982393805046895,0.0926511502947881,0.09348632314463404,0.07055045783462348,0.04528038459494934,0.04423904904530073,0.04847592986690075,0.043506184600090855,0.03977801338810277,0.03916929408691303,0.037409868605795975,0.041416689187450145,0.03135368914560787,0.026693515699286623,0.027062128502075393,0.026974621449820026,0.03177850066140671,0.02655674270346954,0.028269133491381077,0.03024121955371426,0.03482900060319494,0.04016755318553947,0.03693978631097422,0.03750795995353526,0.03670037304571007,0.04455862195785614,0.027558301702287166,0.029325882962509518,0.03143001702635461,0.02747855962300657,0.02687578611679794,0.026789563183758112,0.02811101847024839,0.027780990208657028,0.03448211224314087,0.04032109047525922,0.04689843622978748,0.05521414331908323,0.052432294068308676,0.043995302209341454,0.03708360165718891,0.03628494127338384,0.03741148842713562,0.03793779050481674,0.037298594977221086,0.03885062380932071,0.04712922508026049,0.053823299163744065,0.043170859634382094,0.043547758205446555,0.03216285515454001,0.026970898365771344,0.02918164460697113,0.035774741125041,0.03916667620748577,0.03510415436902944,0.0379900611719153,0.0201780519358099,0.02815487207563164,0.028891402989769204,0.030648051952244296,0.0288474483871491,0.032046706874097095,0.03233860656927622,0.03106430498666904,0.03394706444061876,0.03323974501957482,0.03336965654529743,0.03387269210074083,0.03270272635841573,0.0348301689853735,0.033768236636424434,0.030748874762458706,0.03249484425976803,0.032919877296475955,0.03848329441435198,0.03266909012492603,0.03326802025298004,0.04409709025785758,0.04501579084258302,0.04076855982583257,0.037693286332949535,0.0529272517817729,0.037616657208512976,0.042218234401326646,0.039005698879483214,0.0409887290195875,0.04823746987439439,0.031325584569365274,0.03461960947554748,0.033731838985032035,0.032557414751079074,0.03560765171095399,0.034307911513356396,0.033132534816953566,0.033022938392376425,0.032359118207702084,0.02984842333839129,0.035454743983979256,0.03293338612510223,0.03251539839620116,0.03183825301638149,0.0313836674323577,0.033355054711591045,0.03409629166674333,0.0317276211842948,0.03534803407890892,0.025652519155173636,0.03560307754929068,0.03877974841546915,0.03478992770308273,0.03550421968758737,0.03284954614579695,0.032254966573742286,0.036831404914461276,0.052778004542559855,0.06474032444250481,0.061868946830639086,0.05773514502459397,0.05808454803638709,0.06740604248018899,0.06226674478831007,0.07893905649307813,0.09836311261999033,0.06937068890003696,0.057196608098454296,0.051506631708516215,0.049653816915041,0.0437778060053039,0.04517028218696045,0.03693935678689511,0.04179689408275678,0.0431990097417949,0.04028059963266663,0.040593440644518745,0.0371754922944728,0.03953724887823373,0.040237627924674536,0.036681444498198726,0.03598526809960818,0.03695442976338749,0.054250819002568874,0.07367623886313805,0.09189521745993351,0.101142179400794],\"yaxis\":\"y\",\"type\":\"scatter\"}],                        {\"template\":{\"data\":{\"histogram2dcontour\":[{\"type\":\"histogram2dcontour\",\"colorbar\":{\"outlinewidth\":0,\"ticks\":\"\"},\"colorscale\":[[0.0,\"#0d0887\"],[0.1111111111111111,\"#46039f\"],[0.2222222222222222,\"#7201a8\"],[0.3333333333333333,\"#9c179e\"],[0.4444444444444444,\"#bd3786\"],[0.5555555555555556,\"#d8576b\"],[0.6666666666666666,\"#ed7953\"],[0.7777777777777778,\"#fb9f3a\"],[0.8888888888888888,\"#fdca26\"],[1.0,\"#f0f921\"]]}],\"choropleth\":[{\"type\":\"choropleth\",\"colorbar\":{\"outlinewidth\":0,\"ticks\":\"\"}}],\"histogram2d\":[{\"type\":\"histogram2d\",\"colorbar\":{\"outlinewidth\":0,\"ticks\":\"\"},\"colorscale\":[[0.0,\"#0d0887\"],[0.1111111111111111,\"#46039f\"],[0.2222222222222222,\"#7201a8\"],[0.3333333333333333,\"#9c179e\"],[0.4444444444444444,\"#bd3786\"],[0.5555555555555556,\"#d8576b\"],[0.6666666666666666,\"#ed7953\"],[0.7777777777777778,\"#fb9f3a\"],[0.8888888888888888,\"#fdca26\"],[1.0,\"#f0f921\"]]}],\"heatmap\":[{\"type\":\"heatmap\",\"colorbar\":{\"outlinewidth\":0,\"ticks\":\"\"},\"colorscale\":[[0.0,\"#0d0887\"],[0.1111111111111111,\"#46039f\"],[0.2222222222222222,\"#7201a8\"],[0.3333333333333333,\"#9c179e\"],[0.4444444444444444,\"#bd3786\"],[0.5555555555555556,\"#d8576b\"],[0.6666666666666666,\"#ed7953\"],[0.7777777777777778,\"#fb9f3a\"],[0.8888888888888888,\"#fdca26\"],[1.0,\"#f0f921\"]]}],\"heatmapgl\":[{\"type\":\"heatmapgl\",\"colorbar\":{\"outlinewidth\":0,\"ticks\":\"\"},\"colorscale\":[[0.0,\"#0d0887\"],[0.1111111111111111,\"#46039f\"],[0.2222222222222222,\"#7201a8\"],[0.3333333333333333,\"#9c179e\"],[0.4444444444444444,\"#bd3786\"],[0.5555555555555556,\"#d8576b\"],[0.6666666666666666,\"#ed7953\"],[0.7777777777777778,\"#fb9f3a\"],[0.8888888888888888,\"#fdca26\"],[1.0,\"#f0f921\"]]}],\"contourcarpet\":[{\"type\":\"contourcarpet\",\"colorbar\":{\"outlinewidth\":0,\"ticks\":\"\"}}],\"contour\":[{\"type\":\"contour\",\"colorbar\":{\"outlinewidth\":0,\"ticks\":\"\"},\"colorscale\":[[0.0,\"#0d0887\"],[0.1111111111111111,\"#46039f\"],[0.2222222222222222,\"#7201a8\"],[0.3333333333333333,\"#9c179e\"],[0.4444444444444444,\"#bd3786\"],[0.5555555555555556,\"#d8576b\"],[0.6666666666666666,\"#ed7953\"],[0.7777777777777778,\"#fb9f3a\"],[0.8888888888888888,\"#fdca26\"],[1.0,\"#f0f921\"]]}],\"surface\":[{\"type\":\"surface\",\"colorbar\":{\"outlinewidth\":0,\"ticks\":\"\"},\"colorscale\":[[0.0,\"#0d0887\"],[0.1111111111111111,\"#46039f\"],[0.2222222222222222,\"#7201a8\"],[0.3333333333333333,\"#9c179e\"],[0.4444444444444444,\"#bd3786\"],[0.5555555555555556,\"#d8576b\"],[0.6666666666666666,\"#ed7953\"],[0.7777777777777778,\"#fb9f3a\"],[0.8888888888888888,\"#fdca26\"],[1.0,\"#f0f921\"]]}],\"mesh3d\":[{\"type\":\"mesh3d\",\"colorbar\":{\"outlinewidth\":0,\"ticks\":\"\"}}],\"scatter\":[{\"fillpattern\":{\"fillmode\":\"overlay\",\"size\":10,\"solidity\":0.2},\"type\":\"scatter\"}],\"parcoords\":[{\"type\":\"parcoords\",\"line\":{\"colorbar\":{\"outlinewidth\":0,\"ticks\":\"\"}}}],\"scatterpolargl\":[{\"type\":\"scatterpolargl\",\"marker\":{\"colorbar\":{\"outlinewidth\":0,\"ticks\":\"\"}}}],\"bar\":[{\"error_x\":{\"color\":\"#2a3f5f\"},\"error_y\":{\"color\":\"#2a3f5f\"},\"marker\":{\"line\":{\"color\":\"#E5ECF6\",\"width\":0.5},\"pattern\":{\"fillmode\":\"overlay\",\"size\":10,\"solidity\":0.2}},\"type\":\"bar\"}],\"scattergeo\":[{\"type\":\"scattergeo\",\"marker\":{\"colorbar\":{\"outlinewidth\":0,\"ticks\":\"\"}}}],\"scatterpolar\":[{\"type\":\"scatterpolar\",\"marker\":{\"colorbar\":{\"outlinewidth\":0,\"ticks\":\"\"}}}],\"histogram\":[{\"marker\":{\"pattern\":{\"fillmode\":\"overlay\",\"size\":10,\"solidity\":0.2}},\"type\":\"histogram\"}],\"scattergl\":[{\"type\":\"scattergl\",\"marker\":{\"colorbar\":{\"outlinewidth\":0,\"ticks\":\"\"}}}],\"scatter3d\":[{\"type\":\"scatter3d\",\"line\":{\"colorbar\":{\"outlinewidth\":0,\"ticks\":\"\"}},\"marker\":{\"colorbar\":{\"outlinewidth\":0,\"ticks\":\"\"}}}],\"scattermapbox\":[{\"type\":\"scattermapbox\",\"marker\":{\"colorbar\":{\"outlinewidth\":0,\"ticks\":\"\"}}}],\"scatterternary\":[{\"type\":\"scatterternary\",\"marker\":{\"colorbar\":{\"outlinewidth\":0,\"ticks\":\"\"}}}],\"scattercarpet\":[{\"type\":\"scattercarpet\",\"marker\":{\"colorbar\":{\"outlinewidth\":0,\"ticks\":\"\"}}}],\"carpet\":[{\"aaxis\":{\"endlinecolor\":\"#2a3f5f\",\"gridcolor\":\"white\",\"linecolor\":\"white\",\"minorgridcolor\":\"white\",\"startlinecolor\":\"#2a3f5f\"},\"baxis\":{\"endlinecolor\":\"#2a3f5f\",\"gridcolor\":\"white\",\"linecolor\":\"white\",\"minorgridcolor\":\"white\",\"startlinecolor\":\"#2a3f5f\"},\"type\":\"carpet\"}],\"table\":[{\"cells\":{\"fill\":{\"color\":\"#EBF0F8\"},\"line\":{\"color\":\"white\"}},\"header\":{\"fill\":{\"color\":\"#C8D4E3\"},\"line\":{\"color\":\"white\"}},\"type\":\"table\"}],\"barpolar\":[{\"marker\":{\"line\":{\"color\":\"#E5ECF6\",\"width\":0.5},\"pattern\":{\"fillmode\":\"overlay\",\"size\":10,\"solidity\":0.2}},\"type\":\"barpolar\"}],\"pie\":[{\"automargin\":true,\"type\":\"pie\"}]},\"layout\":{\"autotypenumbers\":\"strict\",\"colorway\":[\"#636efa\",\"#EF553B\",\"#00cc96\",\"#ab63fa\",\"#FFA15A\",\"#19d3f3\",\"#FF6692\",\"#B6E880\",\"#FF97FF\",\"#FECB52\"],\"font\":{\"color\":\"#2a3f5f\"},\"hovermode\":\"closest\",\"hoverlabel\":{\"align\":\"left\"},\"paper_bgcolor\":\"white\",\"plot_bgcolor\":\"#E5ECF6\",\"polar\":{\"bgcolor\":\"#E5ECF6\",\"angularaxis\":{\"gridcolor\":\"white\",\"linecolor\":\"white\",\"ticks\":\"\"},\"radialaxis\":{\"gridcolor\":\"white\",\"linecolor\":\"white\",\"ticks\":\"\"}},\"ternary\":{\"bgcolor\":\"#E5ECF6\",\"aaxis\":{\"gridcolor\":\"white\",\"linecolor\":\"white\",\"ticks\":\"\"},\"baxis\":{\"gridcolor\":\"white\",\"linecolor\":\"white\",\"ticks\":\"\"},\"caxis\":{\"gridcolor\":\"white\",\"linecolor\":\"white\",\"ticks\":\"\"}},\"coloraxis\":{\"colorbar\":{\"outlinewidth\":0,\"ticks\":\"\"}},\"colorscale\":{\"sequential\":[[0.0,\"#0d0887\"],[0.1111111111111111,\"#46039f\"],[0.2222222222222222,\"#7201a8\"],[0.3333333333333333,\"#9c179e\"],[0.4444444444444444,\"#bd3786\"],[0.5555555555555556,\"#d8576b\"],[0.6666666666666666,\"#ed7953\"],[0.7777777777777778,\"#fb9f3a\"],[0.8888888888888888,\"#fdca26\"],[1.0,\"#f0f921\"]],\"sequentialminus\":[[0.0,\"#0d0887\"],[0.1111111111111111,\"#46039f\"],[0.2222222222222222,\"#7201a8\"],[0.3333333333333333,\"#9c179e\"],[0.4444444444444444,\"#bd3786\"],[0.5555555555555556,\"#d8576b\"],[0.6666666666666666,\"#ed7953\"],[0.7777777777777778,\"#fb9f3a\"],[0.8888888888888888,\"#fdca26\"],[1.0,\"#f0f921\"]],\"diverging\":[[0,\"#8e0152\"],[0.1,\"#c51b7d\"],[0.2,\"#de77ae\"],[0.3,\"#f1b6da\"],[0.4,\"#fde0ef\"],[0.5,\"#f7f7f7\"],[0.6,\"#e6f5d0\"],[0.7,\"#b8e186\"],[0.8,\"#7fbc41\"],[0.9,\"#4d9221\"],[1,\"#276419\"]]},\"xaxis\":{\"gridcolor\":\"white\",\"linecolor\":\"white\",\"ticks\":\"\",\"title\":{\"standoff\":15},\"zerolinecolor\":\"white\",\"automargin\":true,\"zerolinewidth\":2},\"yaxis\":{\"gridcolor\":\"white\",\"linecolor\":\"white\",\"ticks\":\"\",\"title\":{\"standoff\":15},\"zerolinecolor\":\"white\",\"automargin\":true,\"zerolinewidth\":2},\"scene\":{\"xaxis\":{\"backgroundcolor\":\"#E5ECF6\",\"gridcolor\":\"white\",\"linecolor\":\"white\",\"showbackground\":true,\"ticks\":\"\",\"zerolinecolor\":\"white\",\"gridwidth\":2},\"yaxis\":{\"backgroundcolor\":\"#E5ECF6\",\"gridcolor\":\"white\",\"linecolor\":\"white\",\"showbackground\":true,\"ticks\":\"\",\"zerolinecolor\":\"white\",\"gridwidth\":2},\"zaxis\":{\"backgroundcolor\":\"#E5ECF6\",\"gridcolor\":\"white\",\"linecolor\":\"white\",\"showbackground\":true,\"ticks\":\"\",\"zerolinecolor\":\"white\",\"gridwidth\":2}},\"shapedefaults\":{\"line\":{\"color\":\"#2a3f5f\"}},\"annotationdefaults\":{\"arrowcolor\":\"#2a3f5f\",\"arrowhead\":0,\"arrowwidth\":1},\"geo\":{\"bgcolor\":\"white\",\"landcolor\":\"#E5ECF6\",\"subunitcolor\":\"white\",\"showland\":true,\"showlakes\":true,\"lakecolor\":\"white\"},\"title\":{\"x\":0.05},\"mapbox\":{\"style\":\"light\"}}},\"xaxis\":{\"anchor\":\"y\",\"domain\":[0.0,1.0],\"title\":{\"text\":\"Integrated PAR (\\u03bcE / m^2)\"},\"type\":\"log\"},\"yaxis\":{\"anchor\":\"x\",\"domain\":[0.0,1.0],\"title\":{\"text\":\"Carbon Quota (pg C / cell)\"},\"type\":\"log\"},\"coloraxis\":{\"colorbar\":{\"title\":{\"text\":\"lat\"}},\"colorscale\":[[0.0,\"#0d0887\"],[0.1111111111111111,\"#46039f\"],[0.2222222222222222,\"#7201a8\"],[0.3333333333333333,\"#9c179e\"],[0.4444444444444444,\"#bd3786\"],[0.5555555555555556,\"#d8576b\"],[0.6666666666666666,\"#ed7953\"],[0.7777777777777778,\"#fb9f3a\"],[0.8888888888888888,\"#fdca26\"],[1.0,\"#f0f921\"]]},\"legend\":{\"tracegroupgap\":0},\"title\":{\"text\":\"Carbon Quota Against Integreated PAR in Varying Latitudes\"}},                        {\"responsive\": true}                    ).then(function(){\n",
       "                            \n",
       "var gd = document.getElementById('f648a8f2-6792-4f95-8057-0d3128a1f27d');\n",
       "var x = new MutationObserver(function (mutations, observer) {{\n",
       "        var display = window.getComputedStyle(gd).display;\n",
       "        if (!display || display === 'none') {{\n",
       "            console.log([gd, 'removed!']);\n",
       "            Plotly.purge(gd);\n",
       "            observer.disconnect();\n",
       "        }}\n",
       "}});\n",
       "\n",
       "// Listen for the removal of the full notebook cells\n",
       "var notebookContainer = gd.closest('#notebook-container');\n",
       "if (notebookContainer) {{\n",
       "    x.observe(notebookContainer, {childList: true});\n",
       "}}\n",
       "\n",
       "// Listen for the clearing of the current output cell\n",
       "var outputEl = gd.closest('.output');\n",
       "if (outputEl) {{\n",
       "    x.observe(outputEl, {childList: true});\n",
       "}}\n",
       "\n",
       "                        })                };                });            </script>        </div>"
      ]
     },
     "metadata": {},
     "output_type": "display_data"
    }
   ],
   "source": [
    "px.scatter(real_data, x='int_par', y='c_quotas', color='lat', log_x = True, log_y = True, title='Carbon Quota Against Integreated PAR in Varying Latitudes', labels={\n",
    "    'int_par': 'Integrated PAR (μE / m^2)',\n",
    "    'c_quotas': 'Carbon Quota (pg C / cell)'\n",
    "})"
   ]
  }
 ],
 "metadata": {
  "kernelspec": {
   "display_name": "Python [conda env:par]",
   "language": "python",
   "name": "conda-env-par-py"
  },
  "language_info": {
   "codemirror_mode": {
    "name": "ipython",
    "version": 3
   },
   "file_extension": ".py",
   "mimetype": "text/x-python",
   "name": "python",
   "nbconvert_exporter": "python",
   "pygments_lexer": "ipython3",
   "version": "3.11.4"
  }
 },
 "nbformat": 4,
 "nbformat_minor": 5
}
