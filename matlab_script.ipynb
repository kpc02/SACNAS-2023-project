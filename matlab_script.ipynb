{
 "cells": [
  {
   "cell_type": "code",
   "execution_count": 7,
   "id": "f08f50ac",
   "metadata": {},
   "outputs": [],
   "source": [
    "import pandas as pd\n",
    "import numpy as np\n",
    "from datetime import datetime, timedelta\n",
    "import pytz\n",
    "import matplotlib.pyplot as plt\n",
    "import os\n",
    "import glob\n",
    "import plotly.express as px\n",
    "from scipy.interpolate import griddata"
   ]
  },
  {
   "cell_type": "code",
   "execution_count": 3,
   "id": "5bb72e37",
   "metadata": {},
   "outputs": [],
   "source": [
    "skip = np.arange(0, 11).tolist() + np.arange(12, 15).tolist()"
   ]
  },
  {
   "cell_type": "code",
   "execution_count": 38,
   "id": "75d60f06",
   "metadata": {
    "scrolled": false
   },
   "outputs": [
    {
     "name": "stderr",
     "output_type": "stream",
     "text": [
      "/var/folders/rl/0vwydsgj6nx5gmddmc5qtxz00000gn/T/ipykernel_1121/250458132.py:2: ParserWarning: Falling back to the 'python' engine because the 'c' engine does not support regex separators (separators > 1 char and different from '\\s+' are interpreted as regex); you can avoid this warning by specifying engine='python'.\n",
      "  mat_code = pd.read_csv('SZA_Cloudy_Chl0p5_fixed.txt', delimiter = '  ', skiprows = skip)\n"
     ]
    },
    {
     "data": {
      "text/html": [
       "<div>\n",
       "<style scoped>\n",
       "    .dataframe tbody tr th:only-of-type {\n",
       "        vertical-align: middle;\n",
       "    }\n",
       "\n",
       "    .dataframe tbody tr th {\n",
       "        vertical-align: top;\n",
       "    }\n",
       "\n",
       "    .dataframe thead th {\n",
       "        text-align: right;\n",
       "    }\n",
       "</style>\n",
       "<table border=\"1\" class=\"dataframe\">\n",
       "  <thead>\n",
       "    <tr style=\"text-align: right;\">\n",
       "      <th></th>\n",
       "      <th>thetasun</th>\n",
       "      <th>Ed(air)</th>\n",
       "      <th>Eu(air)</th>\n",
       "      <th>PAR_Ed(air)</th>\n",
       "      <th>PAR_Eo(air)</th>\n",
       "      <th>Ed(z=0)</th>\n",
       "      <th>Eu(z=0)</th>\n",
       "      <th>PAR_Ed(z=0)</th>\n",
       "      <th>PAR_Eo(z=0)</th>\n",
       "    </tr>\n",
       "  </thead>\n",
       "  <tbody>\n",
       "    <tr>\n",
       "      <th>0</th>\n",
       "      <td>0.0</td>\n",
       "      <td>116.94000</td>\n",
       "      <td>7.040100</td>\n",
       "      <td>535.3500</td>\n",
       "      <td>1048.3000</td>\n",
       "      <td>112.00000</td>\n",
       "      <td>2.095500</td>\n",
       "      <td>512.0200</td>\n",
       "      <td>626.8500</td>\n",
       "    </tr>\n",
       "    <tr>\n",
       "      <th>1</th>\n",
       "      <td>2.0</td>\n",
       "      <td>116.86000</td>\n",
       "      <td>7.043600</td>\n",
       "      <td>534.9800</td>\n",
       "      <td>1048.6000</td>\n",
       "      <td>111.91000</td>\n",
       "      <td>2.094300</td>\n",
       "      <td>511.6300</td>\n",
       "      <td>626.4600</td>\n",
       "    </tr>\n",
       "    <tr>\n",
       "      <th>2</th>\n",
       "      <td>4.0</td>\n",
       "      <td>116.62000</td>\n",
       "      <td>7.038400</td>\n",
       "      <td>533.8600</td>\n",
       "      <td>1047.6000</td>\n",
       "      <td>111.67000</td>\n",
       "      <td>2.090100</td>\n",
       "      <td>510.5100</td>\n",
       "      <td>625.2100</td>\n",
       "    </tr>\n",
       "    <tr>\n",
       "      <th>3</th>\n",
       "      <td>6.0</td>\n",
       "      <td>116.21000</td>\n",
       "      <td>7.024700</td>\n",
       "      <td>531.9900</td>\n",
       "      <td>1045.3000</td>\n",
       "      <td>111.26000</td>\n",
       "      <td>2.083000</td>\n",
       "      <td>508.6800</td>\n",
       "      <td>623.1100</td>\n",
       "    </tr>\n",
       "    <tr>\n",
       "      <th>4</th>\n",
       "      <td>8.0</td>\n",
       "      <td>115.63000</td>\n",
       "      <td>7.002300</td>\n",
       "      <td>529.3800</td>\n",
       "      <td>1041.8000</td>\n",
       "      <td>110.70000</td>\n",
       "      <td>2.073000</td>\n",
       "      <td>506.1200</td>\n",
       "      <td>620.1600</td>\n",
       "    </tr>\n",
       "    <tr>\n",
       "      <th>...</th>\n",
       "      <td>...</td>\n",
       "      <td>...</td>\n",
       "      <td>...</td>\n",
       "      <td>...</td>\n",
       "      <td>...</td>\n",
       "      <td>...</td>\n",
       "      <td>...</td>\n",
       "      <td>...</td>\n",
       "      <td>...</td>\n",
       "    </tr>\n",
       "    <tr>\n",
       "      <th>229</th>\n",
       "      <td>82.0</td>\n",
       "      <td>8.69280</td>\n",
       "      <td>0.499680</td>\n",
       "      <td>39.7190</td>\n",
       "      <td>83.0700</td>\n",
       "      <td>8.36410</td>\n",
       "      <td>0.170970</td>\n",
       "      <td>38.1570</td>\n",
       "      <td>49.4250</td>\n",
       "    </tr>\n",
       "    <tr>\n",
       "      <th>230</th>\n",
       "      <td>84.0</td>\n",
       "      <td>5.89570</td>\n",
       "      <td>0.341090</td>\n",
       "      <td>26.7210</td>\n",
       "      <td>55.9440</td>\n",
       "      <td>5.67580</td>\n",
       "      <td>0.121240</td>\n",
       "      <td>25.6830</td>\n",
       "      <td>33.3480</td>\n",
       "    </tr>\n",
       "    <tr>\n",
       "      <th>231</th>\n",
       "      <td>86.0</td>\n",
       "      <td>3.58860</td>\n",
       "      <td>0.209480</td>\n",
       "      <td>16.0680</td>\n",
       "      <td>33.6720</td>\n",
       "      <td>3.45760</td>\n",
       "      <td>0.078444</td>\n",
       "      <td>15.4560</td>\n",
       "      <td>20.1410</td>\n",
       "    </tr>\n",
       "    <tr>\n",
       "      <th>232</th>\n",
       "      <td>88.0</td>\n",
       "      <td>1.69650</td>\n",
       "      <td>0.099837</td>\n",
       "      <td>7.5046</td>\n",
       "      <td>15.7340</td>\n",
       "      <td>1.63580</td>\n",
       "      <td>0.039141</td>\n",
       "      <td>7.2245</td>\n",
       "      <td>9.4488</td>\n",
       "    </tr>\n",
       "    <tr>\n",
       "      <th>233</th>\n",
       "      <td>89.5</td>\n",
       "      <td>0.41697</td>\n",
       "      <td>0.024581</td>\n",
       "      <td>1.8383</td>\n",
       "      <td>3.8548</td>\n",
       "      <td>0.40212</td>\n",
       "      <td>0.009733</td>\n",
       "      <td>1.7701</td>\n",
       "      <td>2.3173</td>\n",
       "    </tr>\n",
       "  </tbody>\n",
       "</table>\n",
       "<p>234 rows × 9 columns</p>\n",
       "</div>"
      ],
      "text/plain": [
       "     thetasun    Ed(air)   Eu(air)  PAR_Ed(air)  PAR_Eo(air)    Ed(z=0)  \\\n",
       "0         0.0  116.94000  7.040100     535.3500    1048.3000  112.00000   \n",
       "1         2.0  116.86000  7.043600     534.9800    1048.6000  111.91000   \n",
       "2         4.0  116.62000  7.038400     533.8600    1047.6000  111.67000   \n",
       "3         6.0  116.21000  7.024700     531.9900    1045.3000  111.26000   \n",
       "4         8.0  115.63000  7.002300     529.3800    1041.8000  110.70000   \n",
       "..        ...        ...       ...          ...          ...        ...   \n",
       "229      82.0    8.69280  0.499680      39.7190      83.0700    8.36410   \n",
       "230      84.0    5.89570  0.341090      26.7210      55.9440    5.67580   \n",
       "231      86.0    3.58860  0.209480      16.0680      33.6720    3.45760   \n",
       "232      88.0    1.69650  0.099837       7.5046      15.7340    1.63580   \n",
       "233      89.5    0.41697  0.024581       1.8383       3.8548    0.40212   \n",
       "\n",
       "      Eu(z=0)  PAR_Ed(z=0)  PAR_Eo(z=0)  \n",
       "0    2.095500     512.0200     626.8500  \n",
       "1    2.094300     511.6300     626.4600  \n",
       "2    2.090100     510.5100     625.2100  \n",
       "3    2.083000     508.6800     623.1100  \n",
       "4    2.073000     506.1200     620.1600  \n",
       "..        ...          ...          ...  \n",
       "229  0.170970      38.1570      49.4250  \n",
       "230  0.121240      25.6830      33.3480  \n",
       "231  0.078444      15.4560      20.1410  \n",
       "232  0.039141       7.2245       9.4488  \n",
       "233  0.009733       1.7701       2.3173  \n",
       "\n",
       "[234 rows x 9 columns]"
      ]
     },
     "execution_count": 38,
     "metadata": {},
     "output_type": "execute_result"
    }
   ],
   "source": [
    "## also skip 13 and 14\n",
    "mat_code = pd.read_csv('SZA_Cloudy_Chl0p5_fixed.txt', delimiter = '  ', skiprows = skip)\n",
    "mat_code"
   ]
  },
  {
   "cell_type": "code",
   "execution_count": 113,
   "id": "cece162f",
   "metadata": {},
   "outputs": [],
   "source": [
    "g4_data = pd.read_csv('g4_merged_data')\n",
    "g4_data['sun_zen_angle'].max()\n",
    "# anythign over 90 degrees, subtract it by 90\n",
    "g4_data['new_sun_zen'] = 0\n",
    "angle = np.where(g4_data['sun_zen_angle'] > 90, 180 - g4_data['sun_zen_angle'], g4_data['sun_zen_angle'])\n",
    "g4_data['new_sun_zen'] = angle\n",
    "g4_data.loc[g4_data['sun_zen_angle'] > 90]\n",
    "g4_data.drop(['Unnamed: 0'], axis = 1, inplace = True)\n",
    "g4_data#.to_csv('merged_g4_data.csv')"
   ]
  },
  {
   "cell_type": "code",
   "execution_count": 64,
   "id": "be726c84",
   "metadata": {},
   "outputs": [
    {
     "data": {
      "text/plain": [
       "0      64.306618\n",
       "1      56.584970\n",
       "2      51.885782\n",
       "3      50.218605\n",
       "4      53.078498\n",
       "         ...    \n",
       "468    71.270990\n",
       "469    59.442556\n",
       "470    49.127855\n",
       "471    41.502097\n",
       "472    38.223562\n",
       "Name: sun_zen_angle, Length: 473, dtype: float64"
      ]
     },
     "execution_count": 64,
     "metadata": {},
     "output_type": "execute_result"
    }
   ],
   "source": [
    "g4_data['sun_zen_angle']"
   ]
  },
  {
   "cell_type": "code",
   "execution_count": null,
   "id": "eb451fb2",
   "metadata": {},
   "outputs": [],
   "source": [
    "## % signs are comments in matlab; %% signs are new section in matlab code\n",
    "## is kd490 column name for 490 nm backscatter ?\n",
    "## is ttG5 thompson gradients 5 and is it the dataframe ?\n",
    "## not sure what kd means\n",
    "## idk what the dot means hehe"
   ]
  },
  {
   "cell_type": "markdown",
   "id": "56d24a98",
   "metadata": {},
   "source": [
    "%% Extra processing - KD490 and derived KPar\n",
    "\n",
    "% KdPAR = f(kd490) = f(chl)\n",
    "\n",
    "ttG5.kd490 = 0.0166 + 0.0773.*ttG5.lhchl.^0.6715;\n",
    "\n",
    "ttG5.kdPar = 0.0665 + 0.874.*ttG5.kd490 - 0.00121./ttG5.kd490;\n",
    "\n",
    "%Air-sea transmission of scalar par\n",
    "\n",
    "%This is a function of sun zenith angle and wind speed (Mobley and Boss 2012)\n",
    "\n",
    "load 'sza_clear_chl0d5.mat'\n",
    "\n",
    "Fscalar = scatteredInterpolant(sza_clear(:,1),sza_clear(:,2),sza_clear(:,10)./sza_clear(:,5));\n",
    "\n",
    "transAirWater = Fscalar(ttG5.solZen,ttG5.Wind./1.94384);\n",
    "\n",
    "% Calculate Par at 5m depth\n",
    "ttG5.par5m = transAirWater.*ttG5.Par.*exp(-ttG5.kdPar.*5); \n",
    "\n",
    "% 5m for the Thompson"
   ]
  },
  {
   "cell_type": "markdown",
   "id": "c4327eb2",
   "metadata": {},
   "source": [
    "## Extra processing - KD490 and derived KPar"
   ]
  },
  {
   "cell_type": "code",
   "execution_count": 106,
   "id": "2d525926",
   "metadata": {},
   "outputs": [
    {
     "name": "stderr",
     "output_type": "stream",
     "text": [
      "/var/folders/rl/0vwydsgj6nx5gmddmc5qtxz00000gn/T/ipykernel_1121/916705236.py:13: ParserWarning: Falling back to the 'python' engine because the 'c' engine does not support regex separators (separators > 1 char and different from '\\s+' are interpreted as regex); you can avoid this warning by specifying engine='python'.\n",
      "  mat_code = pd.read_csv('lookup_table_fixed.txt', sep = '  ')\n"
     ]
    }
   ],
   "source": [
    "# KdPAR = f(kd490) = f(chl) ## KdPAR (the attenuation factor at a certain depth for PAR?) is equivalent to function of chloro\n",
    "# .* in matlab is to multiply elements of the same length togehter\n",
    "# .* power function of elements with same length\n",
    "# ./ is right side division (left side of element gets divded by right side of element)\n",
    "\n",
    "# scatteredinterpolant creates empty scattered data object (then filled with specific data)\n",
    "\n",
    "\n",
    "\n",
    "#ttg5['kd490'] =  0.0166 + 0.0773 * ttg5['lhchl']^0.6715\n",
    "#ttg5['kdPar'] = 0.0665 + 0.874 * ttg5['kd490'] - (0.00121 / ttg5['kd490'])\n",
    "\n",
    "#mat_code = pd.read_csv('lookup_table_fixed.txt', sep = '  ')\n",
    "\n",
    "x = mat_code['thetasun']\n",
    "y = mat_code['Ed(air)']\n",
    "v = mat_code.iloc[:, 8] / mat_code.iloc[:, 5]\n",
    "\n",
    "data_x = g4_data['new_sun_zen']\n",
    "data_y = g4_data['scalar'] / 1.94384\n",
    "\n",
    "#Fscalar ="
   ]
  },
  {
   "cell_type": "code",
   "execution_count": 108,
   "id": "597ee9a7",
   "metadata": {},
   "outputs": [
    {
     "data": {
      "text/plain": [
       "5.54411165528027"
      ]
     },
     "execution_count": 108,
     "metadata": {},
     "output_type": "execute_result"
    }
   ],
   "source": [
    "data_y.max()"
   ]
  },
  {
   "cell_type": "code",
   "execution_count": 107,
   "id": "4238909e",
   "metadata": {},
   "outputs": [
    {
     "data": {
      "text/plain": [
       "5.939165545087483"
      ]
     },
     "execution_count": 107,
     "metadata": {},
     "output_type": "execute_result"
    }
   ],
   "source": [
    "v.max()"
   ]
  },
  {
   "cell_type": "code",
   "execution_count": 109,
   "id": "c0deabb6",
   "metadata": {},
   "outputs": [
    {
     "data": {
      "text/plain": [
       "<matplotlib.contour.QuadContourSet at 0x12f793a90>"
      ]
     },
     "execution_count": 109,
     "metadata": {},
     "output_type": "execute_result"
    },
    {
     "data": {
      "image/png": "[encoded data removed]",
      "text/plain": [
       "<Figure size 640x480 with 1 Axes>"
      ]
     },
     "metadata": {},
     "output_type": "display_data"
    }
   ],
   "source": [
    "xi,yi = np.meshgrid(data_x, data_y)\n",
    "zi = griddata((x,y),v,(xi,yi), method = 'linear')\n",
    "zi\n",
    "fig = plt.figure()\n",
    "ax = fig.add_subplot(111)\n",
    "plt.contourf(xi,yi,zi)"
   ]
  }
 ],
 "metadata": {
  "kernelspec": {
   "display_name": "Python [conda env:par]",
   "language": "python",
   "name": "conda-env-par-py"
  },
  "language_info": {
   "codemirror_mode": {
    "name": "ipython",
    "version": 3
   },
   "file_extension": ".py",
   "mimetype": "text/x-python",
   "name": "python",
   "nbconvert_exporter": "python",
   "pygments_lexer": "ipython3",
   "version": "3.11.5"
  }
 },
 "nbformat": 4,
 "nbformat_minor": 5
}
